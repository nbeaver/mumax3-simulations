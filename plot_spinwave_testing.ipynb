{
 "cells": [
  {
   "cell_type": "code",
   "execution_count": null,
   "id": "49690fa4-8a51-40c7-93c3-f896472845c4",
   "metadata": {},
   "outputs": [],
   "source": [
    "import numpy as np\n",
    "import glob\n",
    "import os\n",
    "import matplotlib.pyplot as plt\n",
    "%matplotlib inline"
   ]
  },
  {
   "cell_type": "code",
   "execution_count": null,
   "id": "10330a8a-c306-416e-bbb9-180fc2b9b7a5",
   "metadata": {},
   "outputs": [],
   "source": [
    "# os.listdir('spinwave_testing.out')"
   ]
  },
  {
   "cell_type": "code",
   "execution_count": null,
   "id": "4bc921a7-25f7-49a5-99cf-95389321a178",
   "metadata": {},
   "outputs": [],
   "source": [
    "tmp = np.load('spinwave_testing.out/m000024.npy')"
   ]
  },
  {
   "cell_type": "code",
   "execution_count": null,
   "id": "32a66c2c-8b12-460d-980c-8f11768d8d2e",
   "metadata": {},
   "outputs": [],
   "source": [
    "tmp.shape"
   ]
  },
  {
   "cell_type": "code",
   "execution_count": null,
   "id": "4d4dae67-6d63-4948-97b0-72ac01709e9f",
   "metadata": {},
   "outputs": [],
   "source": [
    "tmp.squeeze().shape"
   ]
  },
  {
   "cell_type": "code",
   "execution_count": null,
   "id": "945ea90a-f15a-4bd1-b6a0-ebbbdba4f235",
   "metadata": {},
   "outputs": [],
   "source": [
    "fig, ax = plt.subplots(constrained_layout=True)\n",
    "ax.pcolormesh(tmp[0][0]);"
   ]
  },
  {
   "cell_type": "code",
   "execution_count": null,
   "id": "97896437-31cc-4585-bff1-494c1dcc407c",
   "metadata": {},
   "outputs": [],
   "source": [
    "fig.canvas.draw()"
   ]
  },
  {
   "cell_type": "code",
   "execution_count": null,
   "id": "7034d78e-e2cc-4143-9a2c-5015b3c9d545",
   "metadata": {},
   "outputs": [],
   "source": [
    "plt.close(fig); del(fig, ax)"
   ]
  },
  {
   "cell_type": "code",
   "execution_count": null,
   "id": "f3771a5e-dd95-4ad6-b006-6dd04dc5ad8b",
   "metadata": {},
   "outputs": [],
   "source": [
    "fig, ax = plt.subplots(constrained_layout=True)\n",
    "ax.pcolormesh(tmp[1][0]);"
   ]
  },
  {
   "cell_type": "code",
   "execution_count": null,
   "id": "e4ac942a-61cb-4738-8d46-94e2bbe0dfcc",
   "metadata": {},
   "outputs": [],
   "source": [
    "fig.canvas.draw()"
   ]
  },
  {
   "cell_type": "code",
   "execution_count": null,
   "id": "f3f6d9c2-1b2a-4167-b4ca-c2655379c54f",
   "metadata": {},
   "outputs": [],
   "source": [
    "plt.close(fig); del(fig, ax)"
   ]
  },
  {
   "cell_type": "code",
   "execution_count": null,
   "id": "640a8c95-f29a-4708-a43d-504e7fc902ff",
   "metadata": {},
   "outputs": [],
   "source": [
    "fig, ax = plt.subplots(constrained_layout=True)\n",
    "ax.pcolormesh(tmp[2][0]);"
   ]
  },
  {
   "cell_type": "code",
   "execution_count": null,
   "id": "d5be0ae0-0723-4852-a57b-e0e1c1058662",
   "metadata": {},
   "outputs": [],
   "source": [
    "fig.canvas.draw()"
   ]
  },
  {
   "cell_type": "code",
   "execution_count": null,
   "id": "61a1e3db-ab67-4a15-b5df-299c043dca41",
   "metadata": {},
   "outputs": [],
   "source": [
    "plt.close(fig); del(fig, ax)"
   ]
  }
 ],
 "metadata": {
  "kernelspec": {
   "display_name": "Python 3",
   "language": "python",
   "name": "python3"
  },
  "language_info": {
   "codemirror_mode": {
    "name": "ipython",
    "version": 3
   },
   "file_extension": ".py",
   "mimetype": "text/x-python",
   "name": "python",
   "nbconvert_exporter": "python",
   "pygments_lexer": "ipython3",
   "version": "3.8.8"
  }
 },
 "nbformat": 4,
 "nbformat_minor": 5
}

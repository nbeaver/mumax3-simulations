{
 "cells": [
  {
   "cell_type": "code",
   "execution_count": null,
   "id": "ec049e7b-8205-4365-8d14-eab18b7938ea",
   "metadata": {},
   "outputs": [],
   "source": [
    "import process_copus\n",
    "import numpy as np\n",
    "import glob\n",
    "import os\n",
    "import matplotlib\n",
    "import matplotlib.pyplot as plt\n",
    "import scipy.io\n",
    "%matplotlib inline"
   ]
  },
  {
   "cell_type": "code",
   "execution_count": null,
   "id": "7e1464e1-61bc-4f2f-9d78-261e65105a8b",
   "metadata": {},
   "outputs": [],
   "source": [
    "nb_id = 1734374801\n",
    "import time\n",
    "try:\n",
    "    print(nb_id)\n",
    "except NameError:\n",
    "    print(round(time.time()))"
   ]
  },
  {
   "cell_type": "code",
   "execution_count": null,
   "id": "6b07dbb8-0a03-4033-9a91-7b88b6fb21f8",
   "metadata": {},
   "outputs": [],
   "source": [
    "def closest_index(arr, val):\n",
    "    if val > arr.max():\n",
    "        raise ValueError(\"not in range: {} > {}\".format(val, arr.max()))\n",
    "    elif val < arr.min():\n",
    "        raise ValueError(\"not in range: {} < {}\".format(val, arr.min()))\n",
    "    index = np.argmin(abs(arr - val))  # TODO: use binary search or something else?\n",
    "    return index"
   ]
  },
  {
   "cell_type": "code",
   "execution_count": null,
   "id": "cb1da306-19c7-44fa-a202-37db5713779f",
   "metadata": {},
   "outputs": [],
   "source": [
    "def get_txt_filename(path_raw):\n",
    "    path = os.path.abspath(path_raw)\n",
    "    root, ext = os.path.splitext(path)\n",
    "    txt_filename = root + '.txt'\n",
    "    return txt_filename"
   ]
  },
  {
   "cell_type": "code",
   "execution_count": null,
   "id": "d25ff38d-b02a-46d1-a7e4-8248765f47e4",
   "metadata": {},
   "outputs": [],
   "source": [
    "def out_path(filename):\n",
    "    global outdir\n",
    "    path = os.path.join(outdir, filename)\n",
    "    return path"
   ]
  },
  {
   "cell_type": "code",
   "execution_count": null,
   "id": "31e1c69c-a3d6-4e84-88d1-c75695dd2dae",
   "metadata": {},
   "outputs": [],
   "source": [
    "def get_filename_prefix(filepath):\n",
    "    filename = os.path.basename(filepath)\n",
    "    root, ext = os.path.splitext(filename)\n",
    "    return root"
   ]
  },
  {
   "cell_type": "code",
   "execution_count": null,
   "id": "a552c848-e0cd-4049-8aed-bac4c0ea99e4",
   "metadata": {},
   "outputs": [],
   "source": [
    "def get_outdir(filepath_raw):\n",
    "    filepath = os.path.abspath(filepath_raw)\n",
    "    head1, tail1 = os.path.split(filepath)\n",
    "    return tail1"
   ]
  },
  {
   "cell_type": "code",
   "execution_count": null,
   "id": "6f64dfc9-466d-4c86-ac42-cc4197a3ac5b",
   "metadata": {},
   "outputs": [],
   "source": [
    "def get_topdir_base(filepath_raw):\n",
    "    filepath = os.path.abspath(filepath_raw)\n",
    "    head1, tail1 = os.path.split(filepath)\n",
    "    root, ext = os.path.splitext(tail1)\n",
    "    return root"
   ]
  },
  {
   "cell_type": "code",
   "execution_count": null,
   "id": "74ce1cd9-7cd2-4436-bbec-687345a60fdd",
   "metadata": {},
   "outputs": [],
   "source": [
    "def get_i_from_path(filepath):\n",
    "    filename = os.path.basename(filepath)\n",
    "    root, ext = os.path.splitext(filename)\n",
    "    last_part = root.split('_')[-1]\n",
    "    index = int(last_part)\n",
    "    return index"
   ]
  },
  {
   "cell_type": "code",
   "execution_count": null,
   "id": "5d6c19b2-c6db-4e93-a080-e618afac3ef8",
   "metadata": {},
   "outputs": [],
   "source": [
    "def unwrap_1x1(arr2d):\n",
    "    d1, d2 = arr2d.shape\n",
    "    if d1 == 1 and d2 == 1:\n",
    "        arr1d, = arr2d\n",
    "        unwrapped, = arr1d\n",
    "    else:\n",
    "        raise ValueError(\"cannot cast 2D array with shape '{}'\".format(arr2d.shape))\n",
    "    return unwrapped"
   ]
  },
  {
   "cell_type": "code",
   "execution_count": null,
   "id": "667016f2-622b-4a55-9c6f-c52cdd7dbe42",
   "metadata": {},
   "outputs": [],
   "source": [
    "def reduce_identical_arr(l):\n",
    "    \"\"\"\n",
    "    Return the first value of a list\n",
    "    provided all the values are equal\n",
    "    and are numpy arrays.\n",
    "    \"\"\"\n",
    "    val1 =  l[0]\n",
    "    all_same = all([np.array_equal(x, val1) for x in l])\n",
    "    if all_same == True:\n",
    "        return val1\n",
    "    else:\n",
    "        raise ValueError(\"list has disparate values\")"
   ]
  },
  {
   "cell_type": "code",
   "execution_count": null,
   "id": "41674dc8-f647-4d01-9c05-5011a410cc69",
   "metadata": {},
   "outputs": [],
   "source": [
    "def reduce_identical_array_vals(d):\n",
    "    \"\"\"\n",
    "    Return the first value of a dict\n",
    "    provided all the values are equal\n",
    "    and are numpy arrays.\n",
    "    \"\"\"\n",
    "    val1 = next(iter(d.values()))\n",
    "    all_same = all([np.array_equal(d[key], val1) for key in d.keys()])\n",
    "    if all_same == True:\n",
    "        return val1\n",
    "    else:\n",
    "        raise ValueError(\"dict has disparate values\")\n"
   ]
  },
  {
   "cell_type": "code",
   "execution_count": null,
   "id": "2c1074fb-1315-4f12-8a0f-bd240385c079",
   "metadata": {},
   "outputs": [],
   "source": [
    "class MyInfo:\n",
    "    # Give names of class members.\n",
    "    def __repr__(self):\n",
    "        return self.__class__.__name__ + '(' + str(list(self.__dict__.keys())) + ')'\n",
    "    def __str__(self):\n",
    "        return self.__class__.__name__ + '(' + str(list(self.__dict__.keys())) + ')'"
   ]
  },
  {
   "cell_type": "code",
   "execution_count": null,
   "id": "d6cc8522-cd84-46db-a98f-5fcfaf8d6a37",
   "metadata": {},
   "outputs": [],
   "source": [
    "dirpath_raw = '/scratch/n.beaver/14_copus_isofreq_permalloy/'\n",
    "dirpath = os.path.abspath(dirpath_raw)\n",
    "n_step = len(os.listdir(dirpath))\n",
    "chosen_step = [184 for _ in range(n_step)]\n",
    "outdir = get_outdir(dirpath)\n",
    "filename_prefix = os.path.basename(dirpath)\n",
    "subtitle_prefix = os.path.basename(dirpath)\n",
    "info = {}\n",
    "for filepath in glob.glob(os.path.join(dirpath, '*.out')):\n",
    "    i = get_i_from_path(filepath)\n",
    "    info[i] = MyInfo()\n",
    "    info[i].chosen_step = chosen_step[i]\n",
    "    info[i].npy_path = os.path.join(filepath, 'm_full{:06d}.npy'.format(chosen_step[i]))\n",
    "    M1_raw = np.load(info[i].npy_path)\n",
    "    info[i].M1 = M1_raw.squeeze()\n",
    "    info[i].txt_path = os.path.join(dirpath, get_txt_filename(filepath))\n",
    "    with open(info[i].txt_path) as fp:\n",
    "        params = process_copus.parse_logfile(fp.readlines())\n",
    "    Nx = int(params['Nx'])\n",
    "    Ny = int(params['Ny'])\n",
    "    dx = params['c']\n",
    "    dy = params['c']\n",
    "    xpos = np.linspace(0, Nx, Nx)*dx\n",
    "    ypos = np.linspace(0, Ny, Ny)*dy\n",
    "    info[i].params = params\n",
    "    info[i].xpos = xpos\n",
    "    info[i].ypos = ypos\n",
    "    info[i].Nx = Nx\n",
    "    info[i].Ny = Ny\n",
    "    info[i].dx = dx\n",
    "    info[i].dy = dy\n",
    "    print(info[i].npy_path)\n",
    "    del params, Nx, Ny, dx, dy, xpos, ypos"
   ]
  },
  {
   "cell_type": "code",
   "execution_count": null,
   "id": "07ffc1d2-d6d6-4f82-9158-25d612c774c9",
   "metadata": {},
   "outputs": [],
   "source": [
    "# Do FFT\n",
    "for i, d in info.items():\n",
    "    M1z = d.M1[2]\n",
    "    M1z_fft_complex = np.fft.fftshift(np.fft.fft2(M1z))\n",
    "    M1z_fft = np.abs(M1z_fft_complex)\n",
    "    kx = np.fft.fftshift(np.fft.fftfreq(d.Nx, d=d.dx))\n",
    "    ky = np.fft.fftshift(np.fft.fftfreq(d.Ny, d=d.dx))\n",
    "    d.M1z_fft = M1z_fft\n",
    "    d.kx = kx\n",
    "    d.ky = ky\n",
    "    del M1z, M1z_fft_complex, M1z_fft, kx, ky"
   ]
  },
  {
   "cell_type": "code",
   "execution_count": null,
   "id": "ca08bd36-94df-499e-afa7-5bfe7a4d47bd",
   "metadata": {},
   "outputs": [],
   "source": [
    "if not os.path.isdir(outdir):\n",
    "    os.makedirs(outdir, exist_ok=True)"
   ]
  },
  {
   "cell_type": "code",
   "execution_count": null,
   "id": "57a4b1ba-d139-4208-8b14-51c0dc815d25",
   "metadata": {},
   "outputs": [],
   "source": [
    "GHz = 1e9\n",
    "ps = 1e-12\n",
    "nm = 1e-9\n",
    "um = 1e-6"
   ]
  },
  {
   "cell_type": "code",
   "execution_count": null,
   "id": "c4978d64-0686-4b05-827f-7fe9377cb823",
   "metadata": {},
   "outputs": [],
   "source": [
    "kx_fftz_list = []\n",
    "ky_fftz_list = []\n",
    "kx_list = []\n",
    "ky_list = []\n",
    "freq_list = []\n",
    "dt_list = []\n",
    "for i, d in info.items():\n",
    "    ky_0i = closest_index(d.ky, 0.0)\n",
    "    kx_fftz_list.append(d.M1z_fft[ky_0i])\n",
    "    del ky_0i\n",
    "    kx_0i = closest_index(d.kx, 0.0)\n",
    "    ky_fftz_list.append(d.M1z_fft[:,kx_0i])\n",
    "    del kx_0i\n",
    "    kx_list.append(d.kx)\n",
    "    ky_list.append(d.ky)\n",
    "    freq_list.append(d.params['f'])\n",
    "    dt_list.append(d.params['tstep'])\n",
    "dt_all = reduce_identical_arr(dt_list)\n",
    "kx_all = reduce_identical_arr(kx_list)\n",
    "ky_all = reduce_identical_arr(ky_list)\n",
    "kx_fftz = np.stack(kx_fftz_list)\n",
    "ky_fftz = np.stack(ky_fftz_list)\n",
    "freq = np.array(freq_list)"
   ]
  },
  {
   "cell_type": "code",
   "execution_count": null,
   "id": "4107077c-1c5f-416c-bed5-282db9920271",
   "metadata": {},
   "outputs": [],
   "source": [
    "fig, ax = plt.subplots(\n",
    "    constrained_layout=True,\n",
    "#     figsize=(1.5*6.4, 1.5*4.8)\n",
    ")\n",
    "plot = ax.pcolormesh(\n",
    "    kx_all*um,\n",
    "    freq/GHz,\n",
    "    kx_fftz,\n",
    "    cmap='magma',\n",
    "    shading='nearest',\n",
    ");\n",
    "ax.set_xlabel('$k_x$ [1/um]')\n",
    "ax.set_ylabel('freq [GHz]')\n",
    "ax.set_xlim(0)\n",
    "fig.colorbar(mappable=plot, ax=ax, label=\"FFT magnitude for $M_z$ [A.U.]\");\n",
    "ax.set_title(subtitle_prefix + \"dt = {} ps, nb_id = {}\".format(dt_all/ps, nb_id), fontsize=10)\n",
    "fig.suptitle(\"dispersion for $M_z$ in $k_x$ direction\");"
   ]
  },
  {
   "cell_type": "code",
   "execution_count": null,
   "id": "3442bc62-d978-4f4b-8543-6e4306ac48a1",
   "metadata": {},
   "outputs": [],
   "source": [
    "fig.savefig(out_path(filename_prefix + \"_heatmap_dispersion_kx_fftz.png\"), bbox_inches='tight', facecolor=\"w\", dpi=300);"
   ]
  },
  {
   "cell_type": "code",
   "execution_count": null,
   "id": "b7359622-98da-4e9e-b899-eaab081e0535",
   "metadata": {},
   "outputs": [],
   "source": [
    "fig.canvas.draw()"
   ]
  },
  {
   "cell_type": "code",
   "execution_count": null,
   "id": "d040a2f8-908c-4898-8833-74d0ccfe8a77",
   "metadata": {},
   "outputs": [],
   "source": [
    "plt.close(fig); del(fig, ax)"
   ]
  },
  {
   "cell_type": "code",
   "execution_count": null,
   "id": "22fa64d4-03e4-40e5-b397-66baf50aa80e",
   "metadata": {},
   "outputs": [],
   "source": [
    "fig, ax = plt.subplots(\n",
    "    constrained_layout=True,\n",
    "#     figsize=(1.5*6.4, 1.5*4.8)\n",
    ")\n",
    "plot = ax.pcolormesh(\n",
    "    ky_all*um,\n",
    "    freq/GHz,\n",
    "    ky_fftz,\n",
    "    cmap='magma',\n",
    "    shading='nearest',\n",
    ");\n",
    "ax.set_xlabel('$k_y$ [1/um]')\n",
    "ax.set_ylabel('freq [GHz]')\n",
    "ax.set_xlim(0)\n",
    "fig.colorbar(mappable=plot, ax=ax, label=\"FFT magnitude for $M_z$ [A.U.]\");\n",
    "ax.set_title(subtitle_prefix + \", nb_id = {}\".format(nb_id), fontsize=10)\n",
    "fig.suptitle(\"dispersion for $M_z$ in $k_y$ direction\");"
   ]
  },
  {
   "cell_type": "code",
   "execution_count": null,
   "id": "6db23a38-ecec-4073-9c18-fb4656800776",
   "metadata": {},
   "outputs": [],
   "source": [
    "fig.savefig(out_path(filename_prefix + \"_heatmap_dispersion_ky_fftz.png\"), bbox_inches='tight', facecolor=\"w\", dpi=300);"
   ]
  },
  {
   "cell_type": "code",
   "execution_count": null,
   "id": "abec9d7b-ac0a-40dd-bc71-fad52b9c5d75",
   "metadata": {},
   "outputs": [],
   "source": [
    "fig.canvas.draw()"
   ]
  },
  {
   "cell_type": "code",
   "execution_count": null,
   "id": "cfc4c6ad-45ca-4ae8-8f76-984a224d3543",
   "metadata": {},
   "outputs": [],
   "source": [
    "plt.close(fig); del(fig, ax)"
   ]
  },
  {
   "cell_type": "code",
   "execution_count": null,
   "id": "4e42eba0-8a70-4bff-af2a-37af6d36fe28",
   "metadata": {},
   "outputs": [],
   "source": []
  },
  {
   "cell_type": "code",
   "execution_count": null,
   "id": "19fe9468-6c4c-41ad-956e-61b4fbc56829",
   "metadata": {},
   "outputs": [],
   "source": []
  },
  {
   "cell_type": "code",
   "execution_count": null,
   "id": "b879011a-df95-4a16-b3c7-50380cb4d2a6",
   "metadata": {},
   "outputs": [],
   "source": [
    "INDEX = 3\n",
    "fig, ax = plt.subplots(\n",
    "    constrained_layout=True,\n",
    "    figsize=(2*6.4, 2*4.8)\n",
    ")\n",
    "norm = matplotlib.colors.TwoSlopeNorm(vmin=-13, vcenter=0, vmax=13)\n",
    "plot = ax.pcolormesh(\n",
    "    info[INDEX].xpos/um,\n",
    "    info[INDEX].ypos/um,\n",
    "    info[INDEX].M1[2],\n",
    "    cmap='bwr',\n",
    "#     vmin=-20,\n",
    "#     vmax=-100,\n",
    "    norm = norm,\n",
    "    shading='nearest',\n",
    "#     norm=matplotlib.colors.LogNorm(),\n",
    ");\n",
    "ax.set_xlabel('x position [um]')\n",
    "ax.set_ylabel('y position [um]')\n",
    "fig.colorbar(mappable=plot, ax=ax, label=\"$M_z$ [A/m]\")\n",
    "ax.set_aspect('equal')\n",
    "# ax.set_title(subtitle_prefix + \", nb_id = {}\".format(nb_id) + \"\\n\" + outdir, fontsize=9)\n",
    "# fig.suptitle(\"$M_z$, \" + title_prefix);"
   ]
  },
  {
   "cell_type": "code",
   "execution_count": null,
   "id": "6dcaabef-f0ab-4f08-ad1b-e77a9a0da70e",
   "metadata": {},
   "outputs": [],
   "source": [
    "# fig.savefig(out_path(filename_prefix + \"_heatmap_M1z.png\"), bbox_inches='tight', facecolor=\"w\", dpi=300);"
   ]
  },
  {
   "cell_type": "code",
   "execution_count": null,
   "id": "5a1e26aa-66a7-48b0-9bd9-14ea09bef9e9",
   "metadata": {},
   "outputs": [],
   "source": [
    "fig.canvas.draw()"
   ]
  },
  {
   "cell_type": "code",
   "execution_count": null,
   "id": "57ada380-7c26-4ab6-bad7-822be6941dd7",
   "metadata": {},
   "outputs": [],
   "source": [
    "plt.close(fig); del(fig, ax)"
   ]
  },
  {
   "cell_type": "code",
   "execution_count": null,
   "id": "0ea6c201-4439-4e93-b775-78852b702998",
   "metadata": {},
   "outputs": [],
   "source": [
    "# import scipy\n",
    "# to_save = {}\n",
    "# to_save.update(params)\n",
    "# to_save.update({\n",
    "#     'dirpath': dirpath,\n",
    "#     'npy_filename': npy_filename,\n",
    "#     'xpos': xpos,\n",
    "#     'ypos': ypos,\n",
    "#     'Mx': M1[0],\n",
    "#     'My': M1[1],\n",
    "#     'Mz': M1[2],\n",
    "#     'kx': kx,\n",
    "#     'ky': ky,\n",
    "#     'Mz_fft': M1_fftz,\n",
    "#     'outdir': outdir,\n",
    "#     'filename_prefix': filename_prefix,\n",
    "#     'title_prefix': title_prefix,\n",
    "#     'subtitle_prefix': subtitle_prefix,\n",
    "#     'nb_id': nb_id,\n",
    "# })\n",
    "\n",
    "# scipy.io.savemat(\n",
    "#     os.path.join(get_parent_dir(dirpath), get_topdir_base(dirpath) + '_with_fft.mat'),\n",
    "#     to_save,\n",
    "#     long_field_names=True,\n",
    "#     do_compression=True,\n",
    "# )"
   ]
  },
  {
   "cell_type": "code",
   "execution_count": null,
   "id": "5a968e48-088e-40b5-8057-a67db97ae8be",
   "metadata": {},
   "outputs": [],
   "source": []
  }
 ],
 "metadata": {
  "kernelspec": {
   "display_name": "Python 3",
   "language": "python",
   "name": "python3"
  },
  "language_info": {
   "codemirror_mode": {
    "name": "ipython",
    "version": 3
   },
   "file_extension": ".py",
   "mimetype": "text/x-python",
   "name": "python",
   "nbconvert_exporter": "python",
   "pygments_lexer": "ipython3",
   "version": "3.8.8"
  }
 },
 "nbformat": 4,
 "nbformat_minor": 5
}

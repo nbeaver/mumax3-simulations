{
 "cells": [
  {
   "cell_type": "code",
   "execution_count": null,
   "id": "ec049e7b-8205-4365-8d14-eab18b7938ea",
   "metadata": {},
   "outputs": [],
   "source": [
    "import numpy as np\n",
    "import glob\n",
    "import os\n",
    "import matplotlib.pyplot as plt\n",
    "import scipy.io\n",
    "import os.path\n",
    "import sys\n",
    "%matplotlib inline"
   ]
  },
  {
   "cell_type": "code",
   "execution_count": null,
   "id": "22d26fa8-5ea4-4bbf-bd4d-27a8d6b27e33",
   "metadata": {},
   "outputs": [],
   "source": [
    "class MyInfo:\n",
    "    # Give names of class members.\n",
    "    def __repr__(self):\n",
    "        return self.__class__.__name__ + '(' + str(list(self.__dict__.keys())) + ')'\n",
    "    def __str__(self):\n",
    "        return self.__class__.__name__ + '(' + str(list(self.__dict__.keys())) + ')'"
   ]
  },
  {
   "cell_type": "code",
   "execution_count": null,
   "id": "67396344-39b0-4024-9da9-7674204bf917",
   "metadata": {},
   "outputs": [],
   "source": [
    "def get_color_list(cmap, N=None, use_index=\"auto\", reverse=False):\n",
    "    import numpy as np\n",
    "    from matplotlib.colors import LinearSegmentedColormap, ListedColormap\n",
    "    import matplotlib\n",
    "    if isinstance(cmap, str):\n",
    "        if use_index == \"auto\":\n",
    "            if cmap in ['Pastel1', 'Pastel2', 'Paired', 'Accent',\n",
    "                        'Dark2', 'Set1', 'Set2', 'Set3',\n",
    "                        'tab10', 'tab20', 'tab20b', 'tab20c']:\n",
    "                use_index=True\n",
    "            else:\n",
    "                use_index=False\n",
    "        try:\n",
    "            # version 3.5 and later\n",
    "            cmap = matplotlib.colormaps.get_cmap(cmap)\n",
    "        except AttributeError:\n",
    "            cmap = matplotlib.pyplot.get_cmap(cmap)\n",
    "    if N is None:\n",
    "        N = cmap.N\n",
    "    if use_index==\"auto\":\n",
    "        if cmap.N > 100:\n",
    "            use_index=False\n",
    "        elif isinstance(cmap, LinearSegmentedColormap):\n",
    "            use_index=False\n",
    "        elif isinstance(cmap, ListedColormap):\n",
    "            use_index=True\n",
    "    if use_index:\n",
    "        if reverse:\n",
    "            ind = np.flip(np.arange(int(N))) % cmap.N\n",
    "        else:\n",
    "            print(\"debug\")\n",
    "            ind = np.arange(int(N)) % cmap.N\n",
    "        return cmap(ind)\n",
    "    else:\n",
    "        if reverse:\n",
    "            colors = cmap(np.flip(np.linspace(0,1,N)))\n",
    "        else:\n",
    "            colors = cmap(np.linspace(0,1,N))\n",
    "        return colors\n",
    "# https://stackoverflow.com/questions/30079590/use-matplotlib-color-map-for-color-cycle"
   ]
  },
  {
   "cell_type": "code",
   "execution_count": null,
   "id": "71ef414a-a661-4caf-8872-81403ecabc41",
   "metadata": {},
   "outputs": [],
   "source": [
    "def out_path(filename):\n",
    "    global outdir\n",
    "    path = os.path.join(outdir, filename)\n",
    "    return path"
   ]
  },
  {
   "cell_type": "code",
   "execution_count": null,
   "id": "06a19681-6b18-4674-bae4-9bb47d3a1e64",
   "metadata": {},
   "outputs": [],
   "source": [
    "def closest_index(arr, val):\n",
    "    if val > arr.max():\n",
    "        raise ValueError(\"not in range: {} > {}\".format(val, arr.max()))\n",
    "    elif val < arr.min():\n",
    "        raise ValueError(\"not in range: {} < {}\".format(val, arr.min()))\n",
    "    index = np.argmin(abs(arr - val))  # TODO: use binary search or something else?\n",
    "    return index"
   ]
  },
  {
   "cell_type": "code",
   "execution_count": null,
   "id": "339798b7-32d3-4f91-a8d8-724e168fc62d",
   "metadata": {},
   "outputs": [],
   "source": [
    "nb_id = 1732778863\n",
    "import time\n",
    "try:\n",
    "    print(nb_id)\n",
    "except NameError:\n",
    "    print(round(time.time()))"
   ]
  },
  {
   "cell_type": "code",
   "execution_count": null,
   "id": "a4fe6cd2-d5ea-4d1e-811b-eb1a7f64d734",
   "metadata": {},
   "outputs": [],
   "source": [
    "filepaths = glob.glob(\"amp_series_03/*.mat\")"
   ]
  },
  {
   "cell_type": "code",
   "execution_count": null,
   "id": "d7134351-0988-43bc-92d9-ccc495304ffb",
   "metadata": {},
   "outputs": [],
   "source": [
    "# filepaths"
   ]
  },
  {
   "cell_type": "code",
   "execution_count": null,
   "id": "d6cc8522-cd84-46db-a98f-5fcfaf8d6a37",
   "metadata": {},
   "outputs": [],
   "source": [
    "outdir = \"plot_FeGaB_amp_series_03\"\n",
    "filename_prefix = \"FeGaB_amp_series_03\"\n",
    "title_prefix = \"FeGaB, power series\""
   ]
  },
  {
   "cell_type": "code",
   "execution_count": null,
   "id": "0f5e637e-4bf0-41b0-8940-c58e93aafc51",
   "metadata": {},
   "outputs": [],
   "source": [
    "gauss = 1e-4\n",
    "GHz = 1e9"
   ]
  },
  {
   "cell_type": "code",
   "execution_count": null,
   "id": "7e93a903-b912-457f-bf30-a550ef185d91",
   "metadata": {},
   "outputs": [],
   "source": [
    "# colors = {i: plt.get_cmap('tab20').colors[i] for i, val in enumerate(filepaths)}\n",
    "# colors = {i: get_color_list('copper', N=len(filepaths)+3)[3:][i] for i, val in enumerate(filepaths)}\n",
    "colors = {i: get_color_list('copper', N=len(filepaths))[i] for i, val in enumerate(filepaths)}"
   ]
  },
  {
   "cell_type": "code",
   "execution_count": null,
   "id": "edcf519a-d3cc-4726-9927-f496c35e5315",
   "metadata": {},
   "outputs": [],
   "source": [
    "if not os.path.isdir(outdir):\n",
    "    os.mkdir(outdir)"
   ]
  },
  {
   "cell_type": "code",
   "execution_count": null,
   "id": "3be541e0-cbb6-497e-97b4-541f2775ea19",
   "metadata": {},
   "outputs": [],
   "source": [
    "dat = {}\n",
    "for i, filepath in enumerate(filepaths):\n",
    "    dat[i] = scipy.io.loadmat(filepath, simplify_cells=True)"
   ]
  },
  {
   "cell_type": "code",
   "execution_count": null,
   "id": "0d34820e-d125-48a0-a1ca-90396d5fedcd",
   "metadata": {},
   "outputs": [],
   "source": [
    "bstat = np.array([d['bstat'] for (i, d) in dat.items()])\n",
    "amp = np.array([d['amp'] for (i, d) in dat.items()])"
   ]
  },
  {
   "cell_type": "code",
   "execution_count": null,
   "id": "01615778-33a7-4b9b-9df9-da66c2e7ed72",
   "metadata": {},
   "outputs": [],
   "source": [
    "for i, (a, b) in enumerate(zip(amp, amp[1:])):\n",
    "    print(\"{}\\t{:g}\\t{:.3f}\\t{}\".format(i+1, a/gauss, (a/b), dat[i]['folder']))"
   ]
  },
  {
   "cell_type": "code",
   "execution_count": null,
   "id": "cfcb8f6f-e26d-465a-bc68-90c35030b311",
   "metadata": {},
   "outputs": [],
   "source": [
    "\n",
    "fft_freq_Hz = dat[0]['fft_freq_Hz']\n",
    "i0 = closest_index(fft_freq_Hz, 0.0)\n",
    "i_max = closest_index(fft_freq_Hz, 5*GHz)"
   ]
  },
  {
   "cell_type": "markdown",
   "id": "331a4b79-abde-433d-9da4-2e5897b40cde",
   "metadata": {},
   "source": [
    "# Mz"
   ]
  },
  {
   "cell_type": "code",
   "execution_count": null,
   "id": "611fb23e-ca80-4e1e-ba11-9c51565bfb21",
   "metadata": {},
   "outputs": [],
   "source": [
    "fig, ax = plt.subplots(\n",
    "    constrained_layout=True,\n",
    "    figsize=(16*0.7,9*0.7),\n",
    ")\n",
    "for i, d in dat.items():\n",
    "    if i in (0, len(dat)-1):\n",
    "        this_label = \"$B_1 = ${:.1f} G\".format(d['amp']/gauss)\n",
    "    else:\n",
    "        this_label = None\n",
    "    ax.plot(\n",
    "        d['fft_freq_Hz'][i0:i_max]/GHz,\n",
    "        d['fftz_avg'][i0:i_max],\n",
    "        label=this_label,\n",
    "#         label=\"{:.1f} G\".format(d['bstat']/gauss),\n",
    "        color=colors[i],\n",
    "    )\n",
    "# ax.plot(fft_freq_Hz[i0:i_max]/GHz, fft_avg.z[i0:i_max]);\n",
    "ax.set_title(\"$M_z$, \" + title_prefix + ', nb_id = {}'.format(nb_id))\n",
    "ax.set_xlabel('frequency [GHz]')\n",
    "ax.set_ylabel('FFT mag. ($M_z$/$M_s$), linear scaling');\n",
    "ax.axvline(1425e6/GHz, color='gray', linestyle='--', zorder=0, label='1425 MHz')\n",
    "ax.axvline(1.5*1425e6/GHz, color='black', linestyle=':', zorder=0, label='{:.1f} MHz'.format(1.5*1425))\n",
    "# ax.set_yscale('log')\n",
    "ax.legend();"
   ]
  },
  {
   "cell_type": "code",
   "execution_count": null,
   "id": "b403da5c-f18c-43f4-99f2-e3216557bc88",
   "metadata": {},
   "outputs": [],
   "source": [
    "fig.savefig(out_path(filename_prefix + \"_overlay_fftz_linear.png\"), bbox_inches='tight', facecolor=\"w\", dpi=300);"
   ]
  },
  {
   "cell_type": "code",
   "execution_count": null,
   "id": "6b3f1bb5-417d-49f0-a45a-33ec7e29ad0b",
   "metadata": {},
   "outputs": [],
   "source": [
    "fig.canvas.draw()"
   ]
  },
  {
   "cell_type": "code",
   "execution_count": null,
   "id": "c61619a6-407e-4605-b0d1-d3ed2ff1fa46",
   "metadata": {},
   "outputs": [],
   "source": [
    "plt.close(fig); del(fig, ax)"
   ]
  },
  {
   "cell_type": "code",
   "execution_count": null,
   "id": "19f5b13d-b585-4071-8676-c9dd0c501141",
   "metadata": {},
   "outputs": [],
   "source": [
    "fig, ax = plt.subplots(\n",
    "    constrained_layout=True,\n",
    "    figsize=(16*0.7,9*0.7),\n",
    ")\n",
    "for i, d in dat.items():\n",
    "    if i in (0, len(dat)-1):\n",
    "        this_label = \"$B_1 = ${:.1f} G\".format(d['amp']/gauss)\n",
    "    else:\n",
    "        this_label = None\n",
    "    ax.plot(\n",
    "        d['fft_freq_Hz'][i0:i_max]/GHz,\n",
    "        d['fftz_avg'][i0:i_max],\n",
    "        label=this_label,\n",
    "        color=colors[i],\n",
    "    )\n",
    "ax.set_title(\"$M_z$, \" + title_prefix + ', nb_id = {}'.format(nb_id))\n",
    "ax.set_xlabel('frequency [GHz]')\n",
    "ax.set_ylabel('FFT mag. ($M_z$/$M_s$), log scaling');\n",
    "ax.axvline(1425e6/GHz, color='gray', linestyle='--', zorder=0, label='1425 MHz')\n",
    "ax.axvline(1.5*1425e6/GHz, color='black', linestyle=':', zorder=0, label='{:.1f} MHz'.format(1.5*1425))\n",
    "ax.set_yscale('log')\n",
    "ax.legend();"
   ]
  },
  {
   "cell_type": "code",
   "execution_count": null,
   "id": "e9481cb1-3a8a-49ee-886f-8e9971f1af52",
   "metadata": {},
   "outputs": [],
   "source": [
    "fig.savefig(out_path(filename_prefix + \"_overlay_fftz_log.png\"), bbox_inches='tight', facecolor=\"w\", dpi=300);"
   ]
  },
  {
   "cell_type": "code",
   "execution_count": null,
   "id": "7682f593-27c3-4f00-9d77-23e519a7a5ad",
   "metadata": {},
   "outputs": [],
   "source": [
    "fig.canvas.draw()"
   ]
  },
  {
   "cell_type": "code",
   "execution_count": null,
   "id": "fea12aff-ba0c-4fb3-bd25-1cbeaa7ddcc5",
   "metadata": {},
   "outputs": [],
   "source": [
    "plt.close(fig); del(fig, ax)"
   ]
  },
  {
   "cell_type": "code",
   "execution_count": null,
   "id": "2b52486e-3d3c-4af9-8f5a-6bf5ece33777",
   "metadata": {},
   "outputs": [],
   "source": [
    "Mz_harmonic0_list = []\n",
    "Mz_harmonic1_list = []\n",
    "Mz_harmonic0p5_list = []\n",
    "for i, d in dat.items():\n",
    "    Mz_harmonic0_list.append(d['fftz_avg'][closest_index(d['fft_freq_Hz'], 1425.0e6)])\n",
    "    Mz_harmonic1_list.append(d['fftz_avg'][closest_index(d['fft_freq_Hz'], 2*1425.0e6)])\n",
    "    Mz_harmonic0p5_list.append(d['fftz_avg'][closest_index(d['fft_freq_Hz'], 1.5*1425.0e6)])\n",
    "Mz_harmonic0 = np.array(Mz_harmonic0_list)\n",
    "Mz_harmonic1 = np.array(Mz_harmonic1_list)\n",
    "Mz_harmonic0p5 = np.array(Mz_harmonic0p5_list)\n",
    "Mz_harmonic_amp_ratio = Mz_harmonic1/Mz_harmonic0"
   ]
  },
  {
   "cell_type": "code",
   "execution_count": null,
   "id": "62f6ca62-aaed-4986-8d2d-046eb417004b",
   "metadata": {},
   "outputs": [],
   "source": [
    "Mz_harmonic_amp_ratio"
   ]
  },
  {
   "cell_type": "code",
   "execution_count": null,
   "id": "9df8f356-0437-45b9-a124-fb51fb37c90c",
   "metadata": {},
   "outputs": [],
   "source": [
    "color_list = list(colors.values())"
   ]
  },
  {
   "cell_type": "code",
   "execution_count": null,
   "id": "58c68944-2817-4d27-a3b7-ce6283ec1a02",
   "metadata": {},
   "outputs": [],
   "source": [
    "fig, ax = plt.subplots(\n",
    "    constrained_layout=True,\n",
    "    figsize=(16*0.7,9*0.7),\n",
    ")\n",
    "ax.plot(\n",
    "    amp/gauss,\n",
    "    Mz_harmonic0,\n",
    "    '.-',\n",
    "    label='1425 MHz'\n",
    ")\n",
    "ax.plot(\n",
    "    amp/gauss,\n",
    "    Mz_harmonic1,\n",
    "    '.-',\n",
    "    label='2850 MHz',\n",
    ")\n",
    "ax.plot(\n",
    "    amp/gauss,\n",
    "    Mz_harmonic0p5,\n",
    "    '.-',\n",
    "    label='{:.1f} MHz'.format(1425*1.5),\n",
    ")\n",
    "ax.set_title(\"$M_z$, \" + title_prefix + ', nb_id = {}'.format(nb_id))\n",
    "ax.set_xlabel('$B_1$ [G]')\n",
    "ax.set_ylabel('FFT mag. ($M_z$/$M_s$)');\n",
    "ax.axvline(7.54, color='gray', linestyle='--', zorder=0, label='7.54 G')\n",
    "ax.set_yscale('log')\n",
    "ax.legend();"
   ]
  },
  {
   "cell_type": "code",
   "execution_count": null,
   "id": "df77ae19-40be-4516-ba18-2eff5b8df745",
   "metadata": {},
   "outputs": [],
   "source": [
    "fig.savefig(out_path(filename_prefix + \"_Mz_harmonic_0_1_vs_B1_log.png\"), bbox_inches='tight', facecolor=\"w\", dpi=300);"
   ]
  },
  {
   "cell_type": "code",
   "execution_count": null,
   "id": "eba2a785-4897-4209-b6dc-f607099234ad",
   "metadata": {},
   "outputs": [],
   "source": [
    "fig.canvas.draw()"
   ]
  },
  {
   "cell_type": "code",
   "execution_count": null,
   "id": "f75fcd38-9f9c-46fd-bde0-1735a0b46360",
   "metadata": {},
   "outputs": [],
   "source": [
    "plt.close(fig); del(fig, ax)"
   ]
  },
  {
   "cell_type": "code",
   "execution_count": null,
   "id": "ec05d72e-4cef-47ca-8a4d-6528925a3c84",
   "metadata": {},
   "outputs": [],
   "source": [
    "fig, ax = plt.subplots(\n",
    "    constrained_layout=True,\n",
    "    figsize=(16*0.7,9*0.7),\n",
    ")\n",
    "ax.plot(\n",
    "    amp/gauss,\n",
    "    Mz_harmonic0,\n",
    "    '.-',\n",
    "    label='1425 MHz'\n",
    ")\n",
    "ax.plot(\n",
    "    amp/gauss,\n",
    "    Mz_harmonic1,\n",
    "    '.-',\n",
    "    label='2850 MHz',\n",
    ")\n",
    "ax.plot(\n",
    "    amp/gauss,\n",
    "    Mz_harmonic0p5,\n",
    "    '.-',\n",
    "    label='{:.1f} MHz'.format(1425*1.5),\n",
    ")\n",
    "ax.set_title(\"$M_z$, \" + title_prefix + ', nb_id = {}'.format(nb_id))\n",
    "ax.set_xlabel('$B_1$ [G]')\n",
    "ax.set_ylabel('FFT mag. ($M_z$/$M_s$)');\n",
    "ax.axvline(7.54, color='gray', linestyle='--', zorder=0, label='7.54 G')\n",
    "ax.legend();"
   ]
  },
  {
   "cell_type": "code",
   "execution_count": null,
   "id": "ddd6cebc-5a48-4278-ac1b-db9f7c6fbe15",
   "metadata": {},
   "outputs": [],
   "source": [
    "fig.savefig(out_path(filename_prefix + \"_Mz_harmonic_0_1_vs_B1_linear.png\"), bbox_inches='tight', facecolor=\"w\", dpi=300);"
   ]
  },
  {
   "cell_type": "code",
   "execution_count": null,
   "id": "94459614-0028-4f64-8f0c-ac06607325bc",
   "metadata": {},
   "outputs": [],
   "source": [
    "fig.canvas.draw()"
   ]
  },
  {
   "cell_type": "code",
   "execution_count": null,
   "id": "4bc2dceb-7193-4f31-bc7c-76c3c4494f6f",
   "metadata": {},
   "outputs": [],
   "source": [
    "plt.close(fig); del(fig, ax)"
   ]
  },
  {
   "cell_type": "code",
   "execution_count": null,
   "id": "0cc8775b-44a7-4f6d-a2a2-19c6207b7bea",
   "metadata": {},
   "outputs": [],
   "source": [
    "fig, ax = plt.subplots(\n",
    "    constrained_layout=True,\n",
    "    figsize=(16*0.7,9*0.7),\n",
    ")\n",
    "ax.plot(\n",
    "    amp/gauss,\n",
    "    Mz_harmonic_amp_ratio,\n",
    "    '-',\n",
    "    color='gray',\n",
    "    zorder=0,\n",
    ")\n",
    "ax.scatter(\n",
    "    amp/gauss,\n",
    "    Mz_harmonic_amp_ratio,\n",
    "    color=color_list,\n",
    "    edgecolors='black',\n",
    ")\n",
    "ax.set_title(\"$M_z$, \" + title_prefix + ', nb_id = {}'.format(nb_id))\n",
    "ax.set_xlabel('$B_1$ [G]')\n",
    "ax.set_ylabel('ratio of 1st harmonic to fundamental [A.U.]');\n",
    "ax.axvline(7.54, color='gray', linestyle='--', zorder=0, label='7.54 G')\n",
    "ax.legend();"
   ]
  },
  {
   "cell_type": "code",
   "execution_count": null,
   "id": "017602f4-9ecc-42e1-8448-d2b2eb8b2213",
   "metadata": {},
   "outputs": [],
   "source": [
    "fig.savefig(out_path(filename_prefix + \"_Mz_harmonic_ratio_1_vs_B1.png\"), bbox_inches='tight', facecolor=\"w\", dpi=300);"
   ]
  },
  {
   "cell_type": "code",
   "execution_count": null,
   "id": "7c797309-6676-4173-bd02-9c8a62450cf0",
   "metadata": {},
   "outputs": [],
   "source": [
    "fig.canvas.draw()"
   ]
  },
  {
   "cell_type": "code",
   "execution_count": null,
   "id": "47d0f902-6045-45dd-928b-77d1c88f6da2",
   "metadata": {},
   "outputs": [],
   "source": [
    "plt.close(fig); del(fig, ax)"
   ]
  },
  {
   "cell_type": "code",
   "execution_count": null,
   "id": "03f39205-0ede-49a1-95b2-dbdac7b92239",
   "metadata": {},
   "outputs": [],
   "source": [
    "fig, ax = plt.subplots(\n",
    "    constrained_layout=True,\n",
    "    figsize=(16*0.7,9*0.7),\n",
    ")\n",
    "ax.plot(\n",
    "    amp/gauss,\n",
    "    Mz_harmonic0p5/Mz_harmonic0,\n",
    "    '-',\n",
    "    color='gray',\n",
    "    zorder=0,\n",
    ")\n",
    "ax.scatter(\n",
    "    amp/gauss,\n",
    "    Mz_harmonic0p5/Mz_harmonic0,\n",
    "    color=color_list,\n",
    "    edgecolors='black',\n",
    ")\n",
    "ax.set_title(title_prefix + ', nb_id = {}'.format(nb_id))\n",
    "ax.set_xlabel('$B_1$ [G]')\n",
    "ax.set_ylabel('ratio of sideband 2 ({:.1f} MHZ) to fundamental ({:.1f} MHz) [A.U.]'.format(1.5*1425, 1425));\n",
    "ax.axvline(7.54, color='gray', linestyle='--', zorder=0, label='7.54 G')\n",
    "ax.legend();"
   ]
  },
  {
   "cell_type": "code",
   "execution_count": null,
   "id": "31bb4c72-826b-4954-81d2-0dcf6a76953a",
   "metadata": {},
   "outputs": [],
   "source": [
    "fig.savefig(out_path(filename_prefix + \"Mz_0p5_harmonic_ratio_vs_B1.png\"), bbox_inches='tight', facecolor=\"w\", dpi=300);"
   ]
  },
  {
   "cell_type": "code",
   "execution_count": null,
   "id": "96a50eb2-9d6b-48ff-9b12-74be2663413f",
   "metadata": {},
   "outputs": [],
   "source": [
    "fig.canvas.draw()"
   ]
  },
  {
   "cell_type": "code",
   "execution_count": null,
   "id": "57457f39-4930-43b2-b33a-66a15c7c4169",
   "metadata": {},
   "outputs": [],
   "source": [
    "plt.close(fig); del(fig, ax)"
   ]
  },
  {
   "cell_type": "markdown",
   "id": "89dda8b8-8153-4187-b9ff-cbffe4d67c8d",
   "metadata": {},
   "source": [
    "# My"
   ]
  },
  {
   "cell_type": "code",
   "execution_count": null,
   "id": "7bef89db-1c50-4edb-81ad-166ba4380ac1",
   "metadata": {},
   "outputs": [],
   "source": [
    "fig, ax = plt.subplots(\n",
    "    constrained_layout=True,\n",
    "    figsize=(16*0.7,9*0.7),\n",
    ")\n",
    "for i, d in dat.items():\n",
    "    if i in (0, len(dat)-1):\n",
    "        this_label = \"$B_1 = ${:.1f} G\".format(d['amp']/gauss)\n",
    "    else:\n",
    "        this_label = None\n",
    "    ax.plot(\n",
    "        d['fft_freq_Hz'][i0:i_max]/GHz,\n",
    "        d['ffty_avg'][i0:i_max],\n",
    "        label=this_label,\n",
    "#         label=\"{:.1f} G\".format(d['bstat']/gauss),\n",
    "        color=colors[i],\n",
    "    )\n",
    "# ax.plot(fft_freq_Hz[i0:i_max]/GHz, fft_avg.z[i0:i_max]);\n",
    "ax.set_title(\"$M_y$, \" + title_prefix + ', nb_id = {}'.format(nb_id))\n",
    "ax.set_xlabel('frequency [GHz]')\n",
    "ax.set_ylabel('FFT mag. ($M_y$/$M_s$), linear scaling');\n",
    "ax.axvline(1425e6/GHz, color='gray', linestyle='--', zorder=0, label='1425 MHz')\n",
    "ax.axvline(1.5*1425e6/GHz, color='black', linestyle=':', zorder=0, label='{:.1f} MHz'.format(1.5*1425))\n",
    "# ax.set_yscale('log')\n",
    "ax.legend();"
   ]
  },
  {
   "cell_type": "code",
   "execution_count": null,
   "id": "c4c1f948-525e-4174-8a65-d1523cf23b9a",
   "metadata": {},
   "outputs": [],
   "source": [
    "fig.savefig(out_path(filename_prefix + \"_overlay_ffty_linear.png\"), bbox_inches='tight', facecolor=\"w\", dpi=300);"
   ]
  },
  {
   "cell_type": "code",
   "execution_count": null,
   "id": "64ec05d3-6913-48b1-80cf-9ab2f843f2b2",
   "metadata": {},
   "outputs": [],
   "source": [
    "fig.canvas.draw()"
   ]
  },
  {
   "cell_type": "code",
   "execution_count": null,
   "id": "37c2c61e-19e3-45e7-b991-cce4a2f9d741",
   "metadata": {},
   "outputs": [],
   "source": [
    "plt.close(fig); del(fig, ax)"
   ]
  },
  {
   "cell_type": "code",
   "execution_count": null,
   "id": "5c5bd60d-a20d-4c81-b899-1213aabf44d4",
   "metadata": {},
   "outputs": [],
   "source": [
    "fig, ax = plt.subplots(\n",
    "    constrained_layout=True,\n",
    "    figsize=(16*0.7,9*0.7),\n",
    ")\n",
    "for i, d in dat.items():\n",
    "    if i in (0, len(dat)-1):\n",
    "        this_label = \"$B_1 = ${:.1f} G\".format(d['amp']/gauss)\n",
    "    else:\n",
    "        this_label = None\n",
    "    ax.plot(\n",
    "        d['fft_freq_Hz'][i0:i_max]/GHz,\n",
    "        d['ffty_avg'][i0:i_max],\n",
    "        label=this_label,\n",
    "        color=colors[i],\n",
    "    )\n",
    "ax.set_title(\"$M_y$, \" + title_prefix + ', nb_id = {}'.format(nb_id))\n",
    "ax.set_xlabel('frequency [GHz]')\n",
    "ax.set_ylabel('FFT mag. ($M_y$/$M_s$), log scaling');\n",
    "ax.axvline(1425e6/GHz, color='gray', linestyle='--', zorder=0, label='1425 MHz')\n",
    "ax.axvline(1.5*1425e6/GHz, color='black', linestyle=':', zorder=0, label='{:.1f} MHz'.format(1.5*1425))\n",
    "ax.set_yscale('log')\n",
    "ax.legend();"
   ]
  },
  {
   "cell_type": "code",
   "execution_count": null,
   "id": "76ad80b7-0d64-4121-8106-3d0407bb5c8e",
   "metadata": {},
   "outputs": [],
   "source": [
    "fig.savefig(out_path(filename_prefix + \"_overlay_ffty_log.png\"), bbox_inches='tight', facecolor=\"w\", dpi=300);"
   ]
  },
  {
   "cell_type": "code",
   "execution_count": null,
   "id": "f60874ef-9d6e-43d6-a31f-bbb82527618d",
   "metadata": {},
   "outputs": [],
   "source": [
    "fig.canvas.draw()"
   ]
  },
  {
   "cell_type": "code",
   "execution_count": null,
   "id": "0b6d5a1d-e0fd-483c-9547-d280128ff697",
   "metadata": {},
   "outputs": [],
   "source": [
    "plt.close(fig); del(fig, ax)"
   ]
  },
  {
   "cell_type": "code",
   "execution_count": null,
   "id": "a6a852cd-e48a-4b2c-ab3e-6740771ba6f7",
   "metadata": {},
   "outputs": [],
   "source": [
    "My_harmonic0_list = []\n",
    "My_harmonic1_list = []\n",
    "My_harmonic0p5_list = []\n",
    "for i, d in dat.items():\n",
    "    My_harmonic0_list.append(d['ffty_avg'][closest_index(d['fft_freq_Hz'], 1425.0e6)])\n",
    "    My_harmonic1_list.append(d['ffty_avg'][closest_index(d['fft_freq_Hz'], 2*1425.0e6)])\n",
    "    My_harmonic0p5_list.append(d['ffty_avg'][closest_index(d['fft_freq_Hz'], 1.5*1425.0e6)])\n",
    "My_harmonic0 = np.array(My_harmonic0_list)\n",
    "My_harmonic1 = np.array(My_harmonic1_list)\n",
    "My_harmonic0p5 = np.array(My_harmonic0p5_list)\n",
    "My_harmonic_amp_ratio = My_harmonic1/My_harmonic0"
   ]
  },
  {
   "cell_type": "code",
   "execution_count": null,
   "id": "6b63db21-58ea-45b0-a01e-b6b866d589fd",
   "metadata": {},
   "outputs": [],
   "source": [
    "My_harmonic_amp_ratio"
   ]
  },
  {
   "cell_type": "code",
   "execution_count": null,
   "id": "104a02c8-a493-487c-8a29-840dad8dcac5",
   "metadata": {},
   "outputs": [],
   "source": [
    "color_list = list(colors.values())"
   ]
  },
  {
   "cell_type": "code",
   "execution_count": null,
   "id": "327fa36e-753f-48ad-a1d2-c27740ff108a",
   "metadata": {},
   "outputs": [],
   "source": [
    "fig, ax = plt.subplots(\n",
    "    constrained_layout=True,\n",
    "    figsize=(16*0.7,9*0.7),\n",
    ")\n",
    "ax.plot(\n",
    "    amp/gauss,\n",
    "    My_harmonic0,\n",
    "    '.-',\n",
    "    label='1425 MHz'\n",
    ")\n",
    "ax.plot(\n",
    "    amp/gauss,\n",
    "    My_harmonic1,\n",
    "    '.-',\n",
    "    label='2850 MHz',\n",
    ")\n",
    "ax.plot(\n",
    "    amp/gauss,\n",
    "    My_harmonic0p5,\n",
    "    '.-',\n",
    "    label='{:.1f} MHz'.format(1425*1.5),\n",
    ")\n",
    "ax.set_title(\"$M_y$, \" + title_prefix + ', nb_id = {}'.format(nb_id))\n",
    "ax.set_xlabel('$B_1$ [G]')\n",
    "ax.set_ylabel('FFT mag. ($M_y$/$M_s$)');\n",
    "ax.axvline(7.54, color='gray', linestyle='--', zorder=0, label='7.54 G')\n",
    "ax.set_yscale('log')\n",
    "ax.legend();"
   ]
  },
  {
   "cell_type": "code",
   "execution_count": null,
   "id": "a37231b3-e5df-434c-957d-029fdadb0622",
   "metadata": {},
   "outputs": [],
   "source": [
    "fig.savefig(out_path(filename_prefix + \"_My_harmonic_0_1_vs_B1_log.png\"), bbox_inches='tight', facecolor=\"w\", dpi=300);"
   ]
  },
  {
   "cell_type": "code",
   "execution_count": null,
   "id": "41ff9fd3-069c-4763-9bac-c43cd2663e9b",
   "metadata": {},
   "outputs": [],
   "source": [
    "fig.canvas.draw()"
   ]
  },
  {
   "cell_type": "code",
   "execution_count": null,
   "id": "4e434ab1-543e-49ad-a29a-b92ac850c4db",
   "metadata": {},
   "outputs": [],
   "source": [
    "plt.close(fig); del(fig, ax)"
   ]
  },
  {
   "cell_type": "code",
   "execution_count": null,
   "id": "45f22372-aa03-4f3b-9c7d-eec83924556b",
   "metadata": {},
   "outputs": [],
   "source": [
    "fig, ax = plt.subplots(\n",
    "    constrained_layout=True,\n",
    "    figsize=(16*0.7,9*0.7),\n",
    ")\n",
    "ax.plot(\n",
    "    amp/gauss,\n",
    "    My_harmonic0,\n",
    "    '.-',\n",
    "    label='1425 MHz'\n",
    ")\n",
    "ax.plot(\n",
    "    amp/gauss,\n",
    "    My_harmonic1,\n",
    "    '.-',\n",
    "    label='2850 MHz',\n",
    ")\n",
    "ax.plot(\n",
    "    amp/gauss,\n",
    "    My_harmonic0p5,\n",
    "    '.-',\n",
    "    label='{:.1f} MHz'.format(1425*1.5),\n",
    ")\n",
    "ax.set_title(\"$M_y$, \" + title_prefix + ', nb_id = {}'.format(nb_id))\n",
    "ax.set_xlabel('$B_1$ [G]')\n",
    "ax.set_ylabel('FFT mag. ($M_y$/$M_s$)');\n",
    "ax.axvline(7.54, color='gray', linestyle='--', zorder=0, label='7.54 G')\n",
    "ax.legend();"
   ]
  },
  {
   "cell_type": "code",
   "execution_count": null,
   "id": "edb02428-eea3-431e-b96d-970329d7141a",
   "metadata": {},
   "outputs": [],
   "source": [
    "fig.savefig(out_path(filename_prefix + \"_My_harmonic_0_1_vs_B1_linear.png\"), bbox_inches='tight', facecolor=\"w\", dpi=300);"
   ]
  },
  {
   "cell_type": "code",
   "execution_count": null,
   "id": "7e860e95-289d-4c08-823b-5aeab182fbab",
   "metadata": {},
   "outputs": [],
   "source": [
    "fig.canvas.draw()"
   ]
  },
  {
   "cell_type": "code",
   "execution_count": null,
   "id": "a5ac2c1d-0bdb-4a9c-b2e9-a3ed725b373d",
   "metadata": {},
   "outputs": [],
   "source": [
    "plt.close(fig); del(fig, ax)"
   ]
  },
  {
   "cell_type": "code",
   "execution_count": null,
   "id": "52bcef26-5b57-4b0b-8c27-9937e381b72b",
   "metadata": {},
   "outputs": [],
   "source": [
    "fig, ax = plt.subplots(\n",
    "    constrained_layout=True,\n",
    "    figsize=(16*0.7,9*0.7),\n",
    ")\n",
    "ax.plot(\n",
    "    amp/gauss,\n",
    "    My_harmonic_amp_ratio,\n",
    "    '-',\n",
    "    color='gray',\n",
    "    zorder=0,\n",
    ")\n",
    "ax.scatter(\n",
    "    amp/gauss,\n",
    "    My_harmonic_amp_ratio,\n",
    "    color=color_list,\n",
    "    edgecolors='black',\n",
    ")\n",
    "ax.set_title(\"$M_y$, \" + title_prefix + ', nb_id = {}'.format(nb_id))\n",
    "ax.set_xlabel('$B_1$ [G]')\n",
    "ax.set_ylabel('ratio of 1st harmonic to fundamental [A.U.]');\n",
    "ax.axvline(7.54, color='gray', linestyle='--', zorder=0, label='7.54 G')\n",
    "ax.legend();"
   ]
  },
  {
   "cell_type": "code",
   "execution_count": null,
   "id": "49763bdc-3533-4367-95ca-3dc59dbcd432",
   "metadata": {},
   "outputs": [],
   "source": [
    "fig.savefig(out_path(filename_prefix + \"_My_harmonic_ratio_1_vs_B1.png\"), bbox_inches='tight', facecolor=\"w\", dpi=300);"
   ]
  },
  {
   "cell_type": "code",
   "execution_count": null,
   "id": "0caecfef-6bde-486b-bfa9-48a81781c87d",
   "metadata": {},
   "outputs": [],
   "source": [
    "fig.canvas.draw()"
   ]
  },
  {
   "cell_type": "code",
   "execution_count": null,
   "id": "3844e1c3-49a2-459f-a9c0-bf293f06f4be",
   "metadata": {},
   "outputs": [],
   "source": [
    "plt.close(fig); del(fig, ax)"
   ]
  },
  {
   "cell_type": "code",
   "execution_count": null,
   "id": "3685023a-eddd-4333-8c8e-402073e10c00",
   "metadata": {},
   "outputs": [],
   "source": [
    "fig, ax = plt.subplots(\n",
    "    constrained_layout=True,\n",
    "    figsize=(16*0.7,9*0.7),\n",
    ")\n",
    "ax.plot(\n",
    "    amp/gauss,\n",
    "    My_harmonic0p5/My_harmonic0,\n",
    "    '-',\n",
    "    color='gray',\n",
    "    zorder=0,\n",
    ")\n",
    "ax.scatter(\n",
    "    amp/gauss,\n",
    "    My_harmonic0p5/My_harmonic0,\n",
    "    color=color_list,\n",
    "    edgecolors='black',\n",
    ")\n",
    "ax.set_title(\"$M_y$, \" + title_prefix + ', nb_id = {}'.format(nb_id))\n",
    "ax.set_xlabel('$B_1$ [G]')\n",
    "ax.set_ylabel('ratio of sideband 2 ({:.1f} MHZ) to fundamental ({:.1f} MHz) [A.U.]'.format(1.5*1425, 1425));\n",
    "ax.axvline(7.54, color='gray', linestyle='--', zorder=0, label='7.54 G')\n",
    "ax.legend();"
   ]
  },
  {
   "cell_type": "code",
   "execution_count": null,
   "id": "9defe38a-fa5f-4df1-98d2-a2982282e9dc",
   "metadata": {},
   "outputs": [],
   "source": [
    "fig.savefig(out_path(filename_prefix + \"My_0p5_harmonic_ratio_vs_B1.png\"), bbox_inches='tight', facecolor=\"w\", dpi=300);"
   ]
  },
  {
   "cell_type": "code",
   "execution_count": null,
   "id": "6a6e38e3-172c-49ba-a08a-cd80ae98c4ef",
   "metadata": {},
   "outputs": [],
   "source": [
    "fig.canvas.draw()"
   ]
  },
  {
   "cell_type": "code",
   "execution_count": null,
   "id": "c0de7948-3b48-443d-9b8d-3e2ae7f45958",
   "metadata": {},
   "outputs": [],
   "source": [
    "plt.close(fig); del(fig, ax)"
   ]
  },
  {
   "cell_type": "markdown",
   "id": "c9f8f9f1-95d0-4029-a345-707fa7dc90df",
   "metadata": {},
   "source": [
    "# Mx"
   ]
  },
  {
   "cell_type": "code",
   "execution_count": null,
   "id": "798369fa-72c0-4bc8-9fe6-be4a94eeff4b",
   "metadata": {},
   "outputs": [],
   "source": [
    "fig, ax = plt.subplots(\n",
    "    constrained_layout=True,\n",
    "    figsize=(16*0.7,9*0.7),\n",
    ")\n",
    "for i, d in dat.items():\n",
    "    if i in (0, len(dat)-1):\n",
    "        this_label = \"$B_1 = ${:.1f} G\".format(d['amp']/gauss)\n",
    "    else:\n",
    "        this_label = None\n",
    "    ax.plot(\n",
    "        d['fft_freq_Hz'][i0:i_max]/GHz,\n",
    "        d['fftx_avg'][i0:i_max],\n",
    "        label=this_label,\n",
    "#         label=\"{:.1f} G\".format(d['bstat']/gauss),\n",
    "        color=colors[i],\n",
    "    )\n",
    "# ax.plot(fft_freq_Hz[i0:i_max]/GHz, fft_avg.z[i0:i_max]);\n",
    "ax.set_title(\"$M_x$, \" + title_prefix + ', nb_id = {}'.format(nb_id))\n",
    "ax.set_xlabel('frequency [GHz]')\n",
    "ax.set_ylabel('FFT mag. ($M_x$/$M_s$), linear scaling');\n",
    "ax.axvline(1425e6/GHz, color='gray', linestyle='--', zorder=0, label='1425 MHz')\n",
    "ax.axvline(1.5*1425e6/GHz, color='black', linestyle=':', zorder=0, label='{:.1f} MHz'.format(1.5*1425))\n",
    "# ax.set_yscale('log')\n",
    "ax.legend();"
   ]
  },
  {
   "cell_type": "code",
   "execution_count": null,
   "id": "cb01b4a8-508b-45fa-92b8-fd3ddd975231",
   "metadata": {},
   "outputs": [],
   "source": [
    "fig.savefig(out_path(filename_prefix + \"_overlay_fftx_linear.png\"), bbox_inches='tight', facecolor=\"w\", dpi=300);"
   ]
  },
  {
   "cell_type": "code",
   "execution_count": null,
   "id": "9d1e1b8b-f3cb-49eb-8b86-a36d333aa841",
   "metadata": {},
   "outputs": [],
   "source": [
    "fig.canvas.draw()"
   ]
  },
  {
   "cell_type": "code",
   "execution_count": null,
   "id": "baf5dc4a-36d0-44fc-a5e7-9a146e008031",
   "metadata": {},
   "outputs": [],
   "source": [
    "plt.close(fig); del(fig, ax)"
   ]
  },
  {
   "cell_type": "code",
   "execution_count": null,
   "id": "68d4db80-b8c4-4382-8a46-2a72a5a29acc",
   "metadata": {},
   "outputs": [],
   "source": [
    "fig, ax = plt.subplots(\n",
    "    constrained_layout=True,\n",
    "    figsize=(16*0.7,9*0.7),\n",
    ")\n",
    "for i, d in dat.items():\n",
    "    if i in (0, len(dat)-1):\n",
    "        this_label = \"$B_1 = ${:.1f} G\".format(d['amp']/gauss)\n",
    "    else:\n",
    "        this_label = None\n",
    "    ax.plot(\n",
    "        d['fft_freq_Hz'][i0:i_max]/GHz,\n",
    "        d['fftx_avg'][i0:i_max],\n",
    "        label=this_label,\n",
    "        color=colors[i],\n",
    "    )\n",
    "ax.set_title(\"$M_x$, \" + title_prefix + ', nb_id = {}'.format(nb_id))\n",
    "ax.set_xlabel('frequency [GHz]')\n",
    "ax.set_ylabel('FFT mag. ($M_x$/$M_s$), log scaling');\n",
    "ax.axvline(1425e6/GHz, color='gray', linestyle='--', zorder=0, label='1425 MHz')\n",
    "ax.axvline(1.5*1425e6/GHz, color='black', linestyle=':', zorder=0, label='{:.1f} MHz'.format(1.5*1425))\n",
    "ax.set_yscale('log')\n",
    "ax.legend();"
   ]
  },
  {
   "cell_type": "code",
   "execution_count": null,
   "id": "cd34ed25-c893-4427-ac63-bf6a72ef040b",
   "metadata": {},
   "outputs": [],
   "source": [
    "fig.savefig(out_path(filename_prefix + \"_overlay_fftx_log.png\"), bbox_inches='tight', facecolor=\"w\", dpi=300);"
   ]
  },
  {
   "cell_type": "code",
   "execution_count": null,
   "id": "b426df07-9758-4eb4-baae-e86257171b8e",
   "metadata": {},
   "outputs": [],
   "source": [
    "fig.canvas.draw()"
   ]
  },
  {
   "cell_type": "code",
   "execution_count": null,
   "id": "597f18b9-6722-4c74-9792-b1ce3bc21973",
   "metadata": {},
   "outputs": [],
   "source": [
    "plt.close(fig); del(fig, ax)"
   ]
  },
  {
   "cell_type": "code",
   "execution_count": null,
   "id": "98ffb404-1366-4545-9622-c3f02134ccdc",
   "metadata": {},
   "outputs": [],
   "source": [
    "Mx_harmonic0_list = []\n",
    "Mx_harmonic1_list = []\n",
    "Mx_harmonic0p5_list = []\n",
    "for i, d in dat.items():\n",
    "    Mx_harmonic0_list.append(d['fftx_avg'][closest_index(d['fft_freq_Hz'], 1425.0e6)])\n",
    "    Mx_harmonic1_list.append(d['fftx_avg'][closest_index(d['fft_freq_Hz'], 2*1425.0e6)])\n",
    "    Mx_harmonic0p5_list.append(d['fftx_avg'][closest_index(d['fft_freq_Hz'], 1.5*1425.0e6)])\n",
    "Mx_harmonic0 = np.array(Mx_harmonic0_list)\n",
    "Mx_harmonic1 = np.array(Mx_harmonic1_list)\n",
    "Mx_harmonic0p5 = np.array(Mx_harmonic0p5_list)\n",
    "Mx_harmonic_amp_ratio = Mx_harmonic1/Mx_harmonic0"
   ]
  },
  {
   "cell_type": "code",
   "execution_count": null,
   "id": "ef170c8f-5b30-458d-b981-a06ccc9c7643",
   "metadata": {},
   "outputs": [],
   "source": [
    "Mx_harmonic_amp_ratio"
   ]
  },
  {
   "cell_type": "code",
   "execution_count": null,
   "id": "c642dd80-1851-4798-bd28-8ce1669ee1b0",
   "metadata": {},
   "outputs": [],
   "source": [
    "color_list = list(colors.values())"
   ]
  },
  {
   "cell_type": "code",
   "execution_count": null,
   "id": "071b252e-d337-4829-b094-254611c1fa65",
   "metadata": {},
   "outputs": [],
   "source": [
    "fig, ax = plt.subplots(\n",
    "    constrained_layout=True,\n",
    "    figsize=(16*0.7,9*0.7),\n",
    ")\n",
    "ax.plot(\n",
    "    amp/gauss,\n",
    "    Mx_harmonic0,\n",
    "    '.-',\n",
    "    label='1425 MHz'\n",
    ")\n",
    "ax.plot(\n",
    "    amp/gauss,\n",
    "    Mx_harmonic1,\n",
    "    '.-',\n",
    "    label='2850 MHz',\n",
    ")\n",
    "ax.plot(\n",
    "    amp/gauss,\n",
    "    Mx_harmonic0p5,\n",
    "    '.-',\n",
    "    label='{:.1f} MHz'.format(1425*1.5),\n",
    ")\n",
    "ax.set_title(\"$M_x$, \" + title_prefix + ', nb_id = {}'.format(nb_id))\n",
    "ax.set_xlabel('$B_1$ [G]')\n",
    "ax.set_ylabel('FFT mag. ($M_x$/$M_s$)');\n",
    "ax.axvline(7.54, color='gray', linestyle='--', zorder=0, label='7.54 G')\n",
    "ax.set_yscale('log')\n",
    "ax.legend();"
   ]
  },
  {
   "cell_type": "code",
   "execution_count": null,
   "id": "dea9bef6-7b26-4064-9b73-d74545a9229b",
   "metadata": {},
   "outputs": [],
   "source": [
    "fig.savefig(out_path(filename_prefix + \"_Mx_harmonic_0_1_vs_B1_log.png\"), bbox_inches='tight', facecolor=\"w\", dpi=300);"
   ]
  },
  {
   "cell_type": "code",
   "execution_count": null,
   "id": "8507f46c-2f91-4af9-b76a-bb46c160347d",
   "metadata": {},
   "outputs": [],
   "source": [
    "fig.canvas.draw()"
   ]
  },
  {
   "cell_type": "code",
   "execution_count": null,
   "id": "9cc8076c-3c47-41ea-a084-7e27935bcd0f",
   "metadata": {},
   "outputs": [],
   "source": [
    "plt.close(fig); del(fig, ax)"
   ]
  },
  {
   "cell_type": "code",
   "execution_count": null,
   "id": "377cf03a-c272-4f3b-92c4-dabdb90a2fd2",
   "metadata": {},
   "outputs": [],
   "source": [
    "fig, ax = plt.subplots(\n",
    "    constrained_layout=True,\n",
    "    figsize=(16*0.7,9*0.7),\n",
    ")\n",
    "ax.plot(\n",
    "    amp/gauss,\n",
    "    Mx_harmonic0,\n",
    "    '.-',\n",
    "    label='1425 MHz'\n",
    ")\n",
    "ax.plot(\n",
    "    amp/gauss,\n",
    "    Mx_harmonic1,\n",
    "    '.-',\n",
    "    label='2850 MHz',\n",
    ")\n",
    "ax.plot(\n",
    "    amp/gauss,\n",
    "    Mx_harmonic0p5,\n",
    "    '.-',\n",
    "    label='{:.1f} MHz'.format(1425*1.5),\n",
    ")\n",
    "ax.set_title(\"$M_x$, \" + title_prefix + ', nb_id = {}'.format(nb_id))\n",
    "ax.set_xlabel('$B_1$ [G]')\n",
    "ax.set_ylabel('FFT mag. ($M_x$/$M_s$)');\n",
    "ax.axvline(7.54, color='gray', linestyle='--', zorder=0, label='7.54 G')\n",
    "ax.legend();"
   ]
  },
  {
   "cell_type": "code",
   "execution_count": null,
   "id": "6a03d7f0-8224-4ffc-88a1-89facc005670",
   "metadata": {},
   "outputs": [],
   "source": [
    "fig.savefig(out_path(filename_prefix + \"_Mx_harmonic_0_1_vs_B1_linear.png\"), bbox_inches='tight', facecolor=\"w\", dpi=300);"
   ]
  },
  {
   "cell_type": "code",
   "execution_count": null,
   "id": "4751a310-9fa6-4c12-8f74-76632329488c",
   "metadata": {},
   "outputs": [],
   "source": [
    "fig.canvas.draw()"
   ]
  },
  {
   "cell_type": "code",
   "execution_count": null,
   "id": "3431bfff-4efe-4897-a71e-5f448d3c4130",
   "metadata": {},
   "outputs": [],
   "source": [
    "plt.close(fig); del(fig, ax)"
   ]
  },
  {
   "cell_type": "code",
   "execution_count": null,
   "id": "3603f1c7-2c94-4afd-bfde-d0df3caae62b",
   "metadata": {},
   "outputs": [],
   "source": [
    "fig, ax = plt.subplots(\n",
    "    constrained_layout=True,\n",
    "    figsize=(16*0.7,9*0.7),\n",
    ")\n",
    "ax.plot(\n",
    "    amp/gauss,\n",
    "    Mx_harmonic_amp_ratio,\n",
    "    '-',\n",
    "    color='gray',\n",
    "    zorder=0,\n",
    ")\n",
    "ax.scatter(\n",
    "    amp/gauss,\n",
    "    Mx_harmonic_amp_ratio,\n",
    "    color=color_list,\n",
    "    edgecolors='black',\n",
    ")\n",
    "ax.set_title(\"$M_x$, \" + title_prefix + ', nb_id = {}'.format(nb_id))\n",
    "ax.set_xlabel('$B_1$ [G]')\n",
    "ax.set_ylabel('ratio of 1st harmonic to fundamental [A.U.]');\n",
    "ax.axvline(7.54, color='gray', linestyle='--', zorder=0, label='7.54 G')\n",
    "ax.legend();"
   ]
  },
  {
   "cell_type": "code",
   "execution_count": null,
   "id": "6e30931d-bf8c-4a2c-9ef4-b25a23fd3ad6",
   "metadata": {},
   "outputs": [],
   "source": [
    "fig.savefig(out_path(filename_prefix + \"_Mx_harmonic_ratio_1_vs_B1.png\"), bbox_inches='tight', facecolor=\"w\", dpi=300);"
   ]
  },
  {
   "cell_type": "code",
   "execution_count": null,
   "id": "16acedf6-50ab-451e-a62b-234692abd736",
   "metadata": {},
   "outputs": [],
   "source": [
    "fig.canvas.draw()"
   ]
  },
  {
   "cell_type": "code",
   "execution_count": null,
   "id": "d88ab4c7-376f-4f9e-91f9-3d3a11405dcb",
   "metadata": {},
   "outputs": [],
   "source": [
    "plt.close(fig); del(fig, ax)"
   ]
  },
  {
   "cell_type": "code",
   "execution_count": null,
   "id": "4b566571-1db0-4908-a2c8-ceeb62214f78",
   "metadata": {},
   "outputs": [],
   "source": [
    "fig, ax = plt.subplots(\n",
    "    constrained_layout=True,\n",
    "    figsize=(16*0.7,9*0.7),\n",
    ")\n",
    "ax.plot(\n",
    "    amp/gauss,\n",
    "    Mx_harmonic0p5/Mx_harmonic0,\n",
    "    '-',\n",
    "    color='gray',\n",
    "    zorder=0,\n",
    ")\n",
    "ax.scatter(\n",
    "    amp/gauss,\n",
    "    Mx_harmonic0p5/Mx_harmonic0,\n",
    "    color=color_list,\n",
    "    edgecolors='black',\n",
    ")\n",
    "ax.set_title(\"$M_x$, \" + title_prefix + ', nb_id = {}'.format(nb_id))\n",
    "ax.set_xlabel('$B_1$ [G]')\n",
    "ax.set_ylabel('ratio of sideband 2 ({:.1f} MHZ) to fundamental ({:.1f} MHz) [A.U.]'.format(1.5*1425, 1425));\n",
    "ax.axvline(7.54, color='gray', linestyle='--', zorder=0, label='7.54 G')\n",
    "ax.legend();"
   ]
  },
  {
   "cell_type": "code",
   "execution_count": null,
   "id": "a634d709-0f21-4302-adb1-20bed3036fa0",
   "metadata": {},
   "outputs": [],
   "source": [
    "fig.savefig(out_path(filename_prefix + \"Mx_0p5_harmonic_ratio_vs_B1.png\"), bbox_inches='tight', facecolor=\"w\", dpi=300);"
   ]
  },
  {
   "cell_type": "code",
   "execution_count": null,
   "id": "d9a7e995-e123-4bf5-966a-7d037fb075eb",
   "metadata": {},
   "outputs": [],
   "source": [
    "fig.canvas.draw()"
   ]
  },
  {
   "cell_type": "code",
   "execution_count": null,
   "id": "7cf8d416-42fd-4cd4-8e43-22da16493154",
   "metadata": {},
   "outputs": [],
   "source": [
    "plt.close(fig); del(fig, ax)"
   ]
  },
  {
   "cell_type": "code",
   "execution_count": null,
   "id": "2c637cd5-96c9-4ce2-a84a-8a5e64471317",
   "metadata": {},
   "outputs": [],
   "source": []
  }
 ],
 "metadata": {
  "kernelspec": {
   "display_name": "Python 3",
   "language": "python",
   "name": "python3"
  },
  "language_info": {
   "codemirror_mode": {
    "name": "ipython",
    "version": 3
   },
   "file_extension": ".py",
   "mimetype": "text/x-python",
   "name": "python",
   "nbconvert_exporter": "python",
   "pygments_lexer": "ipython3",
   "version": "3.8.8"
  }
 },
 "nbformat": 4,
 "nbformat_minor": 5
}

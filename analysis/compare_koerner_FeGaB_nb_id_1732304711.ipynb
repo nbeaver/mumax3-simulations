{
 "cells": [
  {
   "cell_type": "code",
   "execution_count": null,
   "id": "ec049e7b-8205-4365-8d14-eab18b7938ea",
   "metadata": {},
   "outputs": [],
   "source": [
    "import numpy as np\n",
    "import glob\n",
    "import os\n",
    "import matplotlib.pyplot as plt\n",
    "import scipy.io\n",
    "import os.path\n",
    "import sys\n",
    "%matplotlib inline"
   ]
  },
  {
   "cell_type": "code",
   "execution_count": null,
   "id": "39665538-27b4-48d7-bd4e-ce5527e03d28",
   "metadata": {},
   "outputs": [],
   "source": [
    "%config InlineBackend.print_figure_kwargs={'facecolor' : \"w\"}"
   ]
  },
  {
   "cell_type": "code",
   "execution_count": null,
   "id": "22d26fa8-5ea4-4bbf-bd4d-27a8d6b27e33",
   "metadata": {},
   "outputs": [],
   "source": [
    "class MyInfo:\n",
    "    # Give names of class members.\n",
    "    def __repr__(self):\n",
    "        return self.__class__.__name__ + '(' + str(list(self.__dict__.keys())) + ')'\n",
    "    def __str__(self):\n",
    "        return self.__class__.__name__ + '(' + str(list(self.__dict__.keys())) + ')'"
   ]
  },
  {
   "cell_type": "code",
   "execution_count": null,
   "id": "71ef414a-a661-4caf-8872-81403ecabc41",
   "metadata": {},
   "outputs": [],
   "source": [
    "def out_path(filename):\n",
    "    global outdir\n",
    "    path = os.path.join(outdir, filename)\n",
    "    return path"
   ]
  },
  {
   "cell_type": "code",
   "execution_count": null,
   "id": "06a19681-6b18-4674-bae4-9bb47d3a1e64",
   "metadata": {},
   "outputs": [],
   "source": [
    "def closest_index(arr, val):\n",
    "    if val > arr.max():\n",
    "        raise ValueError(\"not in range: {} > {}\".format(val, arr.max()))\n",
    "    elif val < arr.min():\n",
    "        raise ValueError(\"not in range: {} < {}\".format(val, arr.min()))\n",
    "    index = np.argmin(abs(arr - val))  # TODO: use binary search or something else?\n",
    "    return index"
   ]
  },
  {
   "cell_type": "code",
   "execution_count": null,
   "id": "339798b7-32d3-4f91-a8d8-724e168fc62d",
   "metadata": {},
   "outputs": [],
   "source": [
    "nb_id = 1732304711\n",
    "import time\n",
    "try:\n",
    "    print(nb_id)\n",
    "except NameError:\n",
    "    print(round(time.time()))"
   ]
  },
  {
   "cell_type": "code",
   "execution_count": null,
   "id": "a4fe6cd2-d5ea-4d1e-811b-eb1a7f64d734",
   "metadata": {},
   "outputs": [],
   "source": [
    "filepaths = [\n",
    "    \"tweak_4AB_step_001_fft_avg.mat\",\n",
    "    \"tweak_4AB_step_002_FeGaB_fft_avg.mat\"\n",
    "]\n",
    "label = [\n",
    "    \"permalloy (Koerner et al.)\",\n",
    "    \"FeGaB\",\n",
    "]"
   ]
  },
  {
   "cell_type": "code",
   "execution_count": null,
   "id": "d6cc8522-cd84-46db-a98f-5fcfaf8d6a37",
   "metadata": {},
   "outputs": [],
   "source": [
    "outdir = \"compare_koerner_FeGaB\"\n",
    "filename_prefix = \"compare_koerner_FeGaB\""
   ]
  },
  {
   "cell_type": "code",
   "execution_count": null,
   "id": "edcf519a-d3cc-4726-9927-f496c35e5315",
   "metadata": {},
   "outputs": [],
   "source": [
    "if not os.path.isdir(outdir):\n",
    "    os.mkdir(outdir)"
   ]
  },
  {
   "cell_type": "code",
   "execution_count": null,
   "id": "3be541e0-cbb6-497e-97b4-541f2775ea19",
   "metadata": {},
   "outputs": [],
   "source": [
    "dat = {}\n",
    "for i, filepath in enumerate(filepaths):\n",
    "    dat[i] = scipy.io.loadmat(filepath, simplify_cells=True)"
   ]
  },
  {
   "cell_type": "code",
   "execution_count": null,
   "id": "a81f62e4-6fd5-4aee-9bf0-022d4eaf85f0",
   "metadata": {},
   "outputs": [],
   "source": [
    "dat[0].keys()"
   ]
  },
  {
   "cell_type": "code",
   "execution_count": null,
   "id": "cfcb8f6f-e26d-465a-bc68-90c35030b311",
   "metadata": {},
   "outputs": [],
   "source": [
    "GHz = 1e9\n",
    "fft_freq_Hz = dat[0]['fft_freq_Hz']\n",
    "i0 = closest_index(fft_freq_Hz, 0.0)\n",
    "i_max = closest_index(fft_freq_Hz, 5*GHz)"
   ]
  },
  {
   "cell_type": "code",
   "execution_count": null,
   "id": "611fb23e-ca80-4e1e-ba11-9c51565bfb21",
   "metadata": {},
   "outputs": [],
   "source": [
    "fig, ax = plt.subplots(\n",
    "    constrained_layout=True,\n",
    "    figsize=(16*0.7,9*0.7),\n",
    ")\n",
    "for i, d in dat.items():\n",
    "    ax.plot(d['fft_freq_Hz'][i0:i_max]/GHz, d['fftz_avg'][i0:i_max], label=label[i])\n",
    "# ax.plot(fft_freq_Hz[i0:i_max]/GHz, fft_avg.z[i0:i_max]);\n",
    "ax.set_title('comparison of permalloy and FeGaB at 1425 MHz, nb_id={}'.format(nb_id))\n",
    "ax.set_xlabel('frequency [GHz]')\n",
    "ax.set_ylabel('FFT mag. ($M_z$/$M_s$), linear scaling');\n",
    "ax.axvline(1425e6/GHz, color='gray', linestyle='--', zorder=0, label='1425 MHz')\n",
    "# ax.set_yscale('log')\n",
    "ax.legend();"
   ]
  },
  {
   "cell_type": "code",
   "execution_count": null,
   "id": "b403da5c-f18c-43f4-99f2-e3216557bc88",
   "metadata": {},
   "outputs": [],
   "source": [
    "fig.savefig(out_path(filename_prefix + \"_overlay_fftz_linear.png\"), bbox_inches='tight', dpi=300, facecolor=\"w\");"
   ]
  },
  {
   "cell_type": "code",
   "execution_count": null,
   "id": "6b3f1bb5-417d-49f0-a45a-33ec7e29ad0b",
   "metadata": {},
   "outputs": [],
   "source": [
    "fig.canvas.draw()"
   ]
  },
  {
   "cell_type": "code",
   "execution_count": null,
   "id": "c61619a6-407e-4605-b0d1-d3ed2ff1fa46",
   "metadata": {},
   "outputs": [],
   "source": [
    "plt.close(fig); del(fig, ax)"
   ]
  },
  {
   "cell_type": "code",
   "execution_count": null,
   "id": "19f5b13d-b585-4071-8676-c9dd0c501141",
   "metadata": {},
   "outputs": [],
   "source": [
    "fig, ax = plt.subplots(\n",
    "    constrained_layout=True,\n",
    "    figsize=(16*0.7,9*0.7),\n",
    ")\n",
    "for i, d in dat.items():\n",
    "    ax.plot(d['fft_freq_Hz'][i0:i_max]/GHz, d['fftz_avg'][i0:i_max], label=label[i])\n",
    "ax.set_title('comparison of permalloy and FeGaB at 1425 MHz, nb_id={}'.format(nb_id))\n",
    "ax.set_xlabel('frequency [GHz]')\n",
    "ax.set_ylabel('FFT mag. ($M_z$/$M_s$), log scaling');\n",
    "ax.axvline(1425e6/GHz, color='gray', linestyle='--', zorder=0, label='1425 MHz')\n",
    "ax.set_yscale('log')\n",
    "ax.legend();"
   ]
  },
  {
   "cell_type": "code",
   "execution_count": null,
   "id": "e9481cb1-3a8a-49ee-886f-8e9971f1af52",
   "metadata": {},
   "outputs": [],
   "source": [
    "fig.savefig(out_path(filename_prefix + \"_overlay_fftz_log.png\"), bbox_inches='tight', dpi=300, facecolor=\"w\");"
   ]
  },
  {
   "cell_type": "code",
   "execution_count": null,
   "id": "7682f593-27c3-4f00-9d77-23e519a7a5ad",
   "metadata": {},
   "outputs": [],
   "source": [
    "fig.canvas.draw()"
   ]
  },
  {
   "cell_type": "code",
   "execution_count": null,
   "id": "fea12aff-ba0c-4fb3-bd25-1cbeaa7ddcc5",
   "metadata": {},
   "outputs": [],
   "source": [
    "plt.close(fig); del(fig, ax)"
   ]
  },
  {
   "cell_type": "code",
   "execution_count": null,
   "id": "2b52486e-3d3c-4af9-8f5a-6bf5ece33777",
   "metadata": {},
   "outputs": [],
   "source": [
    "harmonic0_list = []\n",
    "harmonic1_list = []\n",
    "for i, d in dat.items():\n",
    "    harmonic0_list.append(d['fftz_avg'][closest_index(d['fft_freq_Hz'], 1425.0e6)])\n",
    "    harmonic1_list.append(d['fftz_avg'][closest_index(d['fft_freq_Hz'], 2*1425.0e6)])\n",
    "harmonic0 = np.array(harmonic0_list)\n",
    "harmonic1 = np.array(harmonic1_list)\n",
    "harmonic_amp_ratio = harmonic1/harmonic0"
   ]
  },
  {
   "cell_type": "code",
   "execution_count": null,
   "id": "62f6ca62-aaed-4986-8d2d-046eb417004b",
   "metadata": {},
   "outputs": [],
   "source": [
    "harmonic_amp_ratio"
   ]
  },
  {
   "cell_type": "code",
   "execution_count": null,
   "id": "0cc8775b-44a7-4f6d-a2a2-19c6207b7bea",
   "metadata": {},
   "outputs": [],
   "source": []
  }
 ],
 "metadata": {
  "kernelspec": {
   "display_name": "Python 3",
   "language": "python",
   "name": "python3"
  },
  "language_info": {
   "codemirror_mode": {
    "name": "ipython",
    "version": 3
   },
   "file_extension": ".py",
   "mimetype": "text/x-python",
   "name": "python",
   "nbconvert_exporter": "python",
   "pygments_lexer": "ipython3",
   "version": "3.8.8"
  }
 },
 "nbformat": 4,
 "nbformat_minor": 5
}

{
 "cells": [
  {
   "cell_type": "code",
   "execution_count": null,
   "id": "ec049e7b-8205-4365-8d14-eab18b7938ea",
   "metadata": {},
   "outputs": [],
   "source": [
    "import process_copus\n",
    "import numpy as np\n",
    "import glob\n",
    "import os\n",
    "import matplotlib\n",
    "import matplotlib.pyplot as plt\n",
    "import scipy.io\n",
    "%matplotlib inline"
   ]
  },
  {
   "cell_type": "code",
   "execution_count": null,
   "id": "7e1464e1-61bc-4f2f-9d78-261e65105a8b",
   "metadata": {},
   "outputs": [],
   "source": [
    "nb_id = 1734373836\n",
    "import time\n",
    "try:\n",
    "    print(nb_id)\n",
    "except NameError:\n",
    "    print(round(time.time()))"
   ]
  },
  {
   "cell_type": "code",
   "execution_count": null,
   "id": "cb1da306-19c7-44fa-a202-37db5713779f",
   "metadata": {},
   "outputs": [],
   "source": [
    "def get_txt_filename(path_raw):\n",
    "    path = os.path.abspath(path_raw)\n",
    "    root, ext = os.path.splitext(path)\n",
    "    txt_filename = root + '.txt'\n",
    "    return txt_filename"
   ]
  },
  {
   "cell_type": "code",
   "execution_count": null,
   "id": "d25ff38d-b02a-46d1-a7e4-8248765f47e4",
   "metadata": {},
   "outputs": [],
   "source": [
    "def out_path(filename):\n",
    "    global outdir\n",
    "    path = os.path.join(outdir, filename)\n",
    "    return path"
   ]
  },
  {
   "cell_type": "code",
   "execution_count": null,
   "id": "31e1c69c-a3d6-4e84-88d1-c75695dd2dae",
   "metadata": {},
   "outputs": [],
   "source": [
    "def get_filename_prefix(filepath):\n",
    "    filename = os.path.basename(filepath)\n",
    "    root, ext = os.path.splitext(filename)\n",
    "    return root"
   ]
  },
  {
   "cell_type": "code",
   "execution_count": null,
   "id": "a552c848-e0cd-4049-8aed-bac4c0ea99e4",
   "metadata": {},
   "outputs": [],
   "source": [
    "def get_outdir(filepath_raw):\n",
    "    filepath = os.path.abspath(filepath_raw)\n",
    "    head1, tail1 = os.path.split(filepath)\n",
    "    head2, tail2 = os.path.split(head1)\n",
    "    return os.path.join(tail2, tail1)"
   ]
  },
  {
   "cell_type": "code",
   "execution_count": null,
   "id": "3b0fc6ce-1c1e-4e15-90b0-099ef7913895",
   "metadata": {},
   "outputs": [],
   "source": [
    "def get_parent_dir(filepath_raw):\n",
    "    filepath = os.path.abspath(filepath_raw)\n",
    "    head1, tail1 = os.path.split(filepath)\n",
    "    head2, tail2 = os.path.split(head1)\n",
    "    return tail2"
   ]
  },
  {
   "cell_type": "code",
   "execution_count": null,
   "id": "6f64dfc9-466d-4c86-ac42-cc4197a3ac5b",
   "metadata": {},
   "outputs": [],
   "source": [
    "def get_topdir_base(filepath_raw):\n",
    "    filepath = os.path.abspath(filepath_raw)\n",
    "    head1, tail1 = os.path.split(filepath)\n",
    "    root, ext = os.path.splitext(tail1)\n",
    "    return root"
   ]
  },
  {
   "cell_type": "code",
   "execution_count": null,
   "id": "d6cc8522-cd84-46db-a98f-5fcfaf8d6a37",
   "metadata": {},
   "outputs": [],
   "source": [
    "dirpath = '/scratch/n.beaver/14_copus_isofreq_permalloy/copus_isofreq_permalloy_000.out/'\n",
    "outdir = get_outdir(dirpath)"
   ]
  },
  {
   "cell_type": "code",
   "execution_count": null,
   "id": "ff6e30f0-5c93-4f96-8c2a-33da6501b65a",
   "metadata": {},
   "outputs": [],
   "source": [
    "get_topdir_base(dirpath)"
   ]
  },
  {
   "cell_type": "code",
   "execution_count": null,
   "id": "41107754-c318-432d-a7bf-667fe75f659e",
   "metadata": {},
   "outputs": [],
   "source": [
    "# os.listdir(dirpath)"
   ]
  },
  {
   "cell_type": "code",
   "execution_count": null,
   "id": "837c9095-7bca-4cd8-9b99-46d89662c7be",
   "metadata": {},
   "outputs": [],
   "source": [
    "npy_filename = 'm_full000184.npy'\n",
    "npy_filepath = os.path.join(dirpath, npy_filename)\n",
    "M1_raw = np.load(npy_filepath)\n",
    "filename_prefix = get_filename_prefix(npy_filepath)\n",
    "title_prefix = filename_prefix\n"
   ]
  },
  {
   "cell_type": "code",
   "execution_count": null,
   "id": "ca08bd36-94df-499e-afa7-5bfe7a4d47bd",
   "metadata": {},
   "outputs": [],
   "source": [
    "if not os.path.isdir(outdir):\n",
    "    os.makedirs(outdir, exist_ok=True)"
   ]
  },
  {
   "cell_type": "code",
   "execution_count": null,
   "id": "9c2278b1-c13a-47d6-9f7d-d49d021d7e9c",
   "metadata": {},
   "outputs": [],
   "source": [
    "txt_path = get_txt_filename(dirpath)\n",
    "with open(txt_path) as fp:\n",
    "    params = process_copus.parse_logfile(fp.readlines())"
   ]
  },
  {
   "cell_type": "code",
   "execution_count": null,
   "id": "57a4b1ba-d139-4208-8b14-51c0dc815d25",
   "metadata": {},
   "outputs": [],
   "source": [
    "GHz = 1e9\n",
    "ps = 1e-12\n",
    "nm = 1e-9\n",
    "um = 1e-6\n",
    "subtitle_prefix = \"f = {:.1f} GHz, dt = {} ps\".format(params['f']/GHz, params['tstep']/ps)"
   ]
  },
  {
   "cell_type": "code",
   "execution_count": null,
   "id": "8b3d6382-8e54-4bda-9433-87018976c36b",
   "metadata": {},
   "outputs": [],
   "source": [
    "M1_raw.shape"
   ]
  },
  {
   "cell_type": "code",
   "execution_count": null,
   "id": "d3396656-d1d9-4b41-b9fd-22f1f1fabf1d",
   "metadata": {},
   "outputs": [],
   "source": [
    "params"
   ]
  },
  {
   "cell_type": "code",
   "execution_count": null,
   "id": "c5048d34-bb11-48af-a2ab-b799c777df70",
   "metadata": {},
   "outputs": [],
   "source": [
    "Nx = int(params['Nx'])\n",
    "Ny = int(params['Ny'])\n",
    "dx = params['c']\n",
    "dy = params['c']\n",
    "xpos = np.linspace(0, Nx, Nx)*dx\n",
    "ypos = np.linspace(0, Ny, Ny)*dy"
   ]
  },
  {
   "cell_type": "code",
   "execution_count": null,
   "id": "35785a4f-11f1-43a9-9225-04582e8b4bc6",
   "metadata": {},
   "outputs": [],
   "source": [
    "xpos/um"
   ]
  },
  {
   "cell_type": "code",
   "execution_count": null,
   "id": "fa1d81d2-1596-4d95-9846-7840d58347d1",
   "metadata": {},
   "outputs": [],
   "source": [
    "kx = 2*np.pi*np.fft.fftshift(np.fft.fftfreq(Nx, d=dx))\n",
    "ky = 2*np.pi*np.fft.fftshift(np.fft.fftfreq(Ny, d=dx))"
   ]
  },
  {
   "cell_type": "code",
   "execution_count": null,
   "id": "8204f3dd-b148-4842-9e87-f706b8d0d45a",
   "metadata": {},
   "outputs": [],
   "source": [
    "M1 = M1_raw.squeeze()\n",
    "M1z = M1[2]"
   ]
  },
  {
   "cell_type": "code",
   "execution_count": null,
   "id": "c01c0a88-a938-46b7-af96-fe5e49f07571",
   "metadata": {},
   "outputs": [],
   "source": [
    "M1.shape"
   ]
  },
  {
   "cell_type": "code",
   "execution_count": null,
   "id": "c81b6929-7463-4137-af5d-9feb6382a060",
   "metadata": {},
   "outputs": [],
   "source": [
    "M1_fftz_complex_unshifted = np.fft.fft2(M1z)\n",
    "M1_fftz_complex = np.fft.fftshift(M1_fftz_complex_unshifted)\n",
    "M1_fftz = np.abs(M1_fftz_complex)"
   ]
  },
  {
   "cell_type": "code",
   "execution_count": null,
   "id": "212df359-b753-4c2b-815f-932a9b081aec",
   "metadata": {},
   "outputs": [],
   "source": [
    "fig, ax = plt.subplots(constrained_layout=True)\n",
    "ax.hist(M1z.flatten());\n",
    "ax.set_yscale('log');\n",
    "ax.set_ylabel('bin count')\n",
    "ax.set_xlabel(\"$M_z$ [A/m]\")\n",
    "ax.set_title(subtitle_prefix + \", nb_id = {}\".format(nb_id) + \"\\n\" + outdir, fontsize=9)\n",
    "fig.suptitle(\"$M_z$, \" + title_prefix);"
   ]
  },
  {
   "cell_type": "code",
   "execution_count": null,
   "id": "33f82e6f-74eb-4d59-85db-2a2a3ee27052",
   "metadata": {},
   "outputs": [],
   "source": [
    "fig.savefig(out_path(filename_prefix + \"_histogram_M1z.png\"), bbox_inches='tight', facecolor=\"w\", dpi=300);"
   ]
  },
  {
   "cell_type": "code",
   "execution_count": null,
   "id": "a30aa50a-ab37-41b1-bb78-1cbf219596e1",
   "metadata": {},
   "outputs": [],
   "source": [
    "fig.canvas.draw()"
   ]
  },
  {
   "cell_type": "code",
   "execution_count": null,
   "id": "7c682ab4-e003-401e-9c96-053128b5b026",
   "metadata": {},
   "outputs": [],
   "source": [
    "plt.close(fig); del(fig, ax)"
   ]
  },
  {
   "cell_type": "code",
   "execution_count": null,
   "id": "0d9974ec-0a16-4d1b-a150-286af59a413f",
   "metadata": {},
   "outputs": [],
   "source": [
    "M1z[2].min(), M1z[2].max()"
   ]
  },
  {
   "cell_type": "code",
   "execution_count": null,
   "id": "2ef66f40-c26d-43b6-957a-d48e0dc0d23a",
   "metadata": {},
   "outputs": [],
   "source": [
    "xpos.shape, ypos.shape, M1z.shape"
   ]
  },
  {
   "cell_type": "code",
   "execution_count": null,
   "id": "b879011a-df95-4a16-b3c7-50380cb4d2a6",
   "metadata": {},
   "outputs": [],
   "source": [
    "fig, ax = plt.subplots(\n",
    "    constrained_layout=True,\n",
    "    figsize=(2*6.4, 2*4.8)\n",
    ")\n",
    "norm = matplotlib.colors.TwoSlopeNorm(vmin=-13, vcenter=0, vmax=13)\n",
    "plot = ax.pcolormesh(\n",
    "    xpos/um,\n",
    "    ypos/um,\n",
    "    M1z,\n",
    "    cmap='bwr',\n",
    "#     vmin=-20,\n",
    "#     vmax=-100,\n",
    "    norm = norm,\n",
    "    shading='nearest',\n",
    "#     norm=matplotlib.colors.LogNorm(),\n",
    ");\n",
    "ax.set_xlabel('x position [um]')\n",
    "ax.set_ylabel('y position [um]')\n",
    "fig.colorbar(mappable=plot, ax=ax, label=\"$M_z$ [A/m]\")\n",
    "ax.set_aspect('equal')\n",
    "ax.set_title(subtitle_prefix + \", nb_id = {}\".format(nb_id) + \"\\n\" + outdir, fontsize=9)\n",
    "fig.suptitle(\"$M_z$, \" + title_prefix);"
   ]
  },
  {
   "cell_type": "code",
   "execution_count": null,
   "id": "6dcaabef-f0ab-4f08-ad1b-e77a9a0da70e",
   "metadata": {},
   "outputs": [],
   "source": [
    "fig.savefig(out_path(filename_prefix + \"_heatmap_M1z.png\"), bbox_inches='tight', facecolor=\"w\", dpi=300);"
   ]
  },
  {
   "cell_type": "code",
   "execution_count": null,
   "id": "5a1e26aa-66a7-48b0-9bd9-14ea09bef9e9",
   "metadata": {},
   "outputs": [],
   "source": [
    "fig.canvas.draw()"
   ]
  },
  {
   "cell_type": "code",
   "execution_count": null,
   "id": "57ada380-7c26-4ab6-bad7-822be6941dd7",
   "metadata": {},
   "outputs": [],
   "source": [
    "plt.close(fig); del(fig, ax)"
   ]
  },
  {
   "cell_type": "code",
   "execution_count": null,
   "id": "cf37a28e-591b-4fbc-8482-63c23e720e6b",
   "metadata": {},
   "outputs": [],
   "source": [
    "fig, ax = plt.subplots(\n",
    "    constrained_layout=True,\n",
    "    figsize=(2*6.4, 2*4.8)\n",
    ")\n",
    "blackwhite_cm = matplotlib.colors.LinearSegmentedColormap.from_list('black_white', ['black', 'white'], N=2)\n",
    "plot = ax.pcolormesh(\n",
    "    xpos/um,\n",
    "    ypos/um,\n",
    "    np.sign(M1z),\n",
    "    cmap=blackwhite_cm,\n",
    "    shading='nearest',\n",
    ");\n",
    "ax.set_xlabel('x position [um]')\n",
    "ax.set_ylabel('y position [um]')\n",
    "# fig.colorbar(mappable=plot, ax=ax, label=\"$M_z$ [A/m]\")\n",
    "ax.set_aspect('equal')\n",
    "ax.set_title(subtitle_prefix + \", nb_id = {}\".format(nb_id) + \"\\n\" + outdir, fontsize=9)\n",
    "fig.suptitle(\"$M_z$, \" + title_prefix);"
   ]
  },
  {
   "cell_type": "code",
   "execution_count": null,
   "id": "3a2e2339-9432-4d79-a734-9caf739088d8",
   "metadata": {},
   "outputs": [],
   "source": [
    "fig.savefig(out_path(filename_prefix + \"_heatmap_M1z_bw.png\"), bbox_inches='tight', facecolor=\"w\", dpi=300);"
   ]
  },
  {
   "cell_type": "code",
   "execution_count": null,
   "id": "3787942f-7b5c-4f0d-8ba2-14bc5c579a1e",
   "metadata": {},
   "outputs": [],
   "source": [
    "fig.canvas.draw()"
   ]
  },
  {
   "cell_type": "code",
   "execution_count": null,
   "id": "f9e6f39a-5ed6-49cd-bfce-3a9dfb4e4a68",
   "metadata": {},
   "outputs": [],
   "source": [
    "plt.close(fig); del(fig, ax)"
   ]
  },
  {
   "cell_type": "code",
   "execution_count": null,
   "id": "9e463a58-1c68-4816-9eef-d58e069dea0b",
   "metadata": {},
   "outputs": [],
   "source": [
    "fig, ax = plt.subplots(\n",
    "    constrained_layout=True,\n",
    "    figsize=(2*6.4, 2*4.8)\n",
    ")\n",
    "plot = ax.pcolormesh(\n",
    "    xpos/um,\n",
    "    ypos/um,\n",
    "    M1z,\n",
    "    cmap='magma',\n",
    "    norm=matplotlib.colors.LogNorm(),\n",
    "    shading='nearest',\n",
    ");\n",
    "ax.set_xlabel('x position [um]')\n",
    "ax.set_ylabel('y position [um]')\n",
    "fig.colorbar(mappable=plot, ax=ax, label=\"$M_z$ [A/m]\")\n",
    "ax.set_aspect('equal')\n",
    "ax.set_title(subtitle_prefix + \", nb_id = {}\".format(nb_id) + \"\\n\" + outdir, fontsize=9)\n",
    "fig.suptitle(\"$M_z$, \" + title_prefix);"
   ]
  },
  {
   "cell_type": "code",
   "execution_count": null,
   "id": "b2d3664e-a5f6-47c7-9cad-0a9fe0ed67ed",
   "metadata": {},
   "outputs": [],
   "source": [
    "fig.savefig(out_path(filename_prefix + \"_heatmap_M1z_log.png\"), bbox_inches='tight');"
   ]
  },
  {
   "cell_type": "code",
   "execution_count": null,
   "id": "5ad40b5e-59c0-44cc-bee0-46c77d968397",
   "metadata": {},
   "outputs": [],
   "source": [
    "fig.canvas.draw()"
   ]
  },
  {
   "cell_type": "code",
   "execution_count": null,
   "id": "63d915c1-7987-4576-ad59-bce7609beac7",
   "metadata": {},
   "outputs": [],
   "source": [
    "plt.close(fig); del(fig, ax)"
   ]
  },
  {
   "cell_type": "code",
   "execution_count": null,
   "id": "bcd366fa-769a-47c7-8d25-510058a318de",
   "metadata": {},
   "outputs": [],
   "source": [
    "M1_fftz.min(), M1_fftz.max()"
   ]
  },
  {
   "cell_type": "code",
   "execution_count": null,
   "id": "4fc9d47e-bda5-477d-a0d0-edee8f3d8b98",
   "metadata": {},
   "outputs": [],
   "source": [
    "fig, ax = plt.subplots(\n",
    "    constrained_layout=True,\n",
    "    figsize=(2*6.4, 2*4.8),\n",
    ")\n",
    "plot = ax.pcolormesh(\n",
    "    kx*um,\n",
    "    ky*um,\n",
    "    M1_fftz,\n",
    "    cmap='magma',\n",
    "#     norm=matplotlib.colors.LogNorm(),\n",
    "    shading='nearest',\n",
    ");\n",
    "ax.set_xlabel('$k_x$ [1/um]')\n",
    "ax.set_ylabel('$k_y$ [1/um]')\n",
    "fig.colorbar(mappable=plot, ax=ax, label=\"FFT magnitude for $M_z$\")\n",
    "ax.set_aspect('equal')\n",
    "ax.set_title(subtitle_prefix + \", nb_id = {}\".format(nb_id) + \"\\n\" + outdir, fontsize=9)\n",
    "fig.suptitle(\"2D FFT of $M_z$, \" + title_prefix);"
   ]
  },
  {
   "cell_type": "code",
   "execution_count": null,
   "id": "ca120bb9-4ef2-4f00-970b-6eaa36470e52",
   "metadata": {},
   "outputs": [],
   "source": [
    "fig.savefig(out_path(filename_prefix + \"_heatmap_fft_M1z.png\"), bbox_inches='tight', facecolor=\"w\", dpi=300);"
   ]
  },
  {
   "cell_type": "code",
   "execution_count": null,
   "id": "be2da679-80b9-448d-8b32-006e9db1f2ab",
   "metadata": {},
   "outputs": [],
   "source": [
    "fig.canvas.draw()"
   ]
  },
  {
   "cell_type": "code",
   "execution_count": null,
   "id": "b26111d3-bc2e-4151-b3df-d28c5dfd77ab",
   "metadata": {},
   "outputs": [],
   "source": [
    "plt.close(fig); del(fig, ax)"
   ]
  },
  {
   "cell_type": "code",
   "execution_count": null,
   "id": "30b43062-9a39-45d6-a86b-d72c78fcec5c",
   "metadata": {},
   "outputs": [],
   "source": [
    "M1_fftz"
   ]
  },
  {
   "cell_type": "code",
   "execution_count": null,
   "id": "81f1958d-f46f-4e58-958f-9db6ff2eea67",
   "metadata": {},
   "outputs": [],
   "source": [
    "fig, ax = plt.subplots(\n",
    "    constrained_layout=True,\n",
    "    figsize=(2*6.4, 2*4.8)\n",
    ")\n",
    "plot = ax.pcolormesh(\n",
    "    kx*um,\n",
    "    ky*um,\n",
    "    M1_fftz,\n",
    "    cmap='magma',\n",
    "    norm=matplotlib.colors.LogNorm(),\n",
    "    shading='nearest',\n",
    ");\n",
    "ax.set_xlabel('$k_x$ [1/um]')\n",
    "ax.set_ylabel('$k_y$ [1/um]')\n",
    "fig.colorbar(mappable=plot, ax=ax, label=\"FFT mag for $M_z$\")\n",
    "ax.set_aspect('equal')\n",
    "ax.set_title(subtitle_prefix + \", nb_id = {}\".format(nb_id) + \"\\n\" + outdir, fontsize=9)\n",
    "fig.suptitle(\"2D FFT of $M_z$, \" + title_prefix);"
   ]
  },
  {
   "cell_type": "code",
   "execution_count": null,
   "id": "e434bb12-3400-47e9-99b5-f3caa52ef8d3",
   "metadata": {},
   "outputs": [],
   "source": [
    "fig.savefig(out_path(filename_prefix + \"_heatmap_fft_M1z_log.png\"), bbox_inches='tight', facecolor=\"w\", dpi=300);"
   ]
  },
  {
   "cell_type": "code",
   "execution_count": null,
   "id": "d8e6915c-8d5a-4c98-ab6b-fa56616fd2a0",
   "metadata": {},
   "outputs": [],
   "source": [
    "fig.canvas.draw()"
   ]
  },
  {
   "cell_type": "code",
   "execution_count": null,
   "id": "94fb674d-62e3-4816-b287-7dd9ea704b78",
   "metadata": {},
   "outputs": [],
   "source": [
    "plt.close(fig); del(fig, ax)"
   ]
  },
  {
   "cell_type": "code",
   "execution_count": null,
   "id": "4c5453c5-0471-452b-8b30-3185c33131d6",
   "metadata": {},
   "outputs": [],
   "source": [
    "M1[1].min(), M1[1].max()"
   ]
  },
  {
   "cell_type": "code",
   "execution_count": null,
   "id": "621abde7-ad0d-41b1-9f55-9962f7d62bbd",
   "metadata": {},
   "outputs": [],
   "source": [
    "fig, ax = plt.subplots(constrained_layout=True)\n",
    "norm = matplotlib.colors.TwoSlopeNorm(vcenter=0)\n",
    "plot = ax.pcolormesh(\n",
    "    xpos/um,\n",
    "    ypos/um,\n",
    "    M1[1],\n",
    "    cmap='bwr',\n",
    "    norm = norm,\n",
    "    shading='nearest',\n",
    ");\n",
    "ax.set_xlabel('x position [um]')\n",
    "ax.set_ylabel('y position [um]')\n",
    "fig.colorbar(mappable=plot, ax=ax, label=\"$M_y$ [A/m]\")\n",
    "ax.set_aspect('equal')\n",
    "ax.set_title(subtitle_prefix + \", nb_id = {}\".format(nb_id) + \"\\n\" + outdir, fontsize=9)\n",
    "fig.suptitle(\"$M_y$, \" + title_prefix);"
   ]
  },
  {
   "cell_type": "code",
   "execution_count": null,
   "id": "0b3e089e-0c31-41e9-8f8a-f41a498b6ed4",
   "metadata": {},
   "outputs": [],
   "source": [
    "fig.savefig(out_path(filename_prefix + \"_heatmap_M1y.png\"), bbox_inches='tight', facecolor=\"w\", dpi=300);"
   ]
  },
  {
   "cell_type": "code",
   "execution_count": null,
   "id": "fc5d6148-eda3-4bc4-b468-9cc5edbf2adf",
   "metadata": {},
   "outputs": [],
   "source": [
    "fig.canvas.draw()"
   ]
  },
  {
   "cell_type": "code",
   "execution_count": null,
   "id": "abdb79c7-eceb-46fb-b61d-5c9b4c5e6ce5",
   "metadata": {},
   "outputs": [],
   "source": [
    "plt.close(fig); del(fig, ax)"
   ]
  },
  {
   "cell_type": "code",
   "execution_count": null,
   "id": "42a6bece-4374-4284-8f7a-9e68a8b482f9",
   "metadata": {},
   "outputs": [],
   "source": [
    "M1[0].min(), M1[0].max()"
   ]
  },
  {
   "cell_type": "code",
   "execution_count": null,
   "id": "cdd9e37a-e344-483d-8d99-26f1e88cc68c",
   "metadata": {},
   "outputs": [],
   "source": [
    "fig, ax = plt.subplots(constrained_layout=True)\n",
    "plot = ax.pcolormesh(\n",
    "    xpos/um,\n",
    "    ypos/um,\n",
    "    M1[0],\n",
    "    cmap='magma',\n",
    "    shading='nearest',\n",
    "#     norm=matplotlib.colors.LogNorm(),\n",
    ");\n",
    "ax.set_xlabel('x position [um]')\n",
    "ax.set_ylabel('y position [um]')\n",
    "fig.colorbar(mappable=plot, ax=ax, label=\"$M_x$ [A/m]\")\n",
    "ax.set_aspect('equal')\n",
    "ax.set_title(subtitle_prefix + \", nb_id = {}\".format(nb_id) + \"\\n\" + outdir, fontsize=9)\n",
    "fig.suptitle(\"$M_x$, \" + title_prefix);"
   ]
  },
  {
   "cell_type": "code",
   "execution_count": null,
   "id": "29014620-7c93-42da-8dbe-bbe4f14bc0db",
   "metadata": {},
   "outputs": [],
   "source": [
    "fig.savefig(out_path(filename_prefix + \"_heatmap_M1x.png\"), bbox_inches='tight', facecolor=\"w\", dpi=300);"
   ]
  },
  {
   "cell_type": "code",
   "execution_count": null,
   "id": "2a8756e4-c6b8-4fc5-9499-f8be979f6aac",
   "metadata": {},
   "outputs": [],
   "source": [
    "fig.canvas.draw()"
   ]
  },
  {
   "cell_type": "code",
   "execution_count": null,
   "id": "dd215b15-1880-49b4-8649-3771bd4496ad",
   "metadata": {},
   "outputs": [],
   "source": [
    "plt.close(fig); del(fig, ax)"
   ]
  },
  {
   "cell_type": "code",
   "execution_count": null,
   "id": "0ea6c201-4439-4e93-b775-78852b702998",
   "metadata": {},
   "outputs": [],
   "source": [
    "import scipy\n",
    "to_save = {}\n",
    "to_save.update(params)\n",
    "to_save.update({\n",
    "    'dirpath': dirpath,\n",
    "    'npy_filename': npy_filename,\n",
    "    'xpos': xpos,\n",
    "    'ypos': ypos,\n",
    "    'Mx': M1[0],\n",
    "    'My': M1[1],\n",
    "    'Mz': M1[2],\n",
    "    'kx': kx,\n",
    "    'ky': ky,\n",
    "    'Mz_fft': M1_fftz,\n",
    "    'outdir': outdir,\n",
    "    'filename_prefix': filename_prefix,\n",
    "    'title_prefix': title_prefix,\n",
    "    'subtitle_prefix': subtitle_prefix,\n",
    "    'nb_id': nb_id,\n",
    "})\n",
    "\n",
    "scipy.io.savemat(\n",
    "    os.path.join(get_parent_dir(dirpath), get_topdir_base(dirpath) + '_with_fft.mat'),\n",
    "    to_save,\n",
    "    long_field_names=True,\n",
    "    do_compression=True,\n",
    ")"
   ]
  },
  {
   "cell_type": "code",
   "execution_count": null,
   "id": "5a968e48-088e-40b5-8057-a67db97ae8be",
   "metadata": {},
   "outputs": [],
   "source": []
  }
 ],
 "metadata": {
  "kernelspec": {
   "display_name": "Python 3",
   "language": "python",
   "name": "python3"
  },
  "language_info": {
   "codemirror_mode": {
    "name": "ipython",
    "version": 3
   },
   "file_extension": ".py",
   "mimetype": "text/x-python",
   "name": "python",
   "nbconvert_exporter": "python",
   "pygments_lexer": "ipython3",
   "version": "3.8.8"
  }
 },
 "nbformat": 4,
 "nbformat_minor": 5
}

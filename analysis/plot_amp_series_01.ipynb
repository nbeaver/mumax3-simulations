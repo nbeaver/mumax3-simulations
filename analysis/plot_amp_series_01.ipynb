{
 "cells": [
  {
   "cell_type": "code",
   "execution_count": null,
   "id": "ec049e7b-8205-4365-8d14-eab18b7938ea",
   "metadata": {},
   "outputs": [],
   "source": [
    "import numpy as np\n",
    "import glob\n",
    "import os\n",
    "import matplotlib.pyplot as plt\n",
    "import scipy.io\n",
    "import os.path\n",
    "import sys\n",
    "%matplotlib inline"
   ]
  },
  {
   "cell_type": "code",
   "execution_count": null,
   "id": "22d26fa8-5ea4-4bbf-bd4d-27a8d6b27e33",
   "metadata": {},
   "outputs": [],
   "source": [
    "class MyInfo:\n",
    "    # Give names of class members.\n",
    "    def __repr__(self):\n",
    "        return self.__class__.__name__ + '(' + str(list(self.__dict__.keys())) + ')'\n",
    "    def __str__(self):\n",
    "        return self.__class__.__name__ + '(' + str(list(self.__dict__.keys())) + ')'"
   ]
  },
  {
   "cell_type": "code",
   "execution_count": null,
   "id": "67396344-39b0-4024-9da9-7674204bf917",
   "metadata": {},
   "outputs": [],
   "source": [
    "def get_color_list(cmap, N=None, use_index=\"auto\", reverse=False):\n",
    "    import numpy as np\n",
    "    from matplotlib.colors import LinearSegmentedColormap, ListedColormap\n",
    "    import matplotlib\n",
    "    if isinstance(cmap, str):\n",
    "        if use_index == \"auto\":\n",
    "            if cmap in ['Pastel1', 'Pastel2', 'Paired', 'Accent',\n",
    "                        'Dark2', 'Set1', 'Set2', 'Set3',\n",
    "                        'tab10', 'tab20', 'tab20b', 'tab20c']:\n",
    "                use_index=True\n",
    "            else:\n",
    "                use_index=False\n",
    "        try:\n",
    "            # version 3.5 and later\n",
    "            cmap = matplotlib.colormaps.get_cmap(cmap)\n",
    "        except AttributeError:\n",
    "            cmap = matplotlib.pyplot.get_cmap(cmap)\n",
    "    if N is None:\n",
    "        N = cmap.N\n",
    "    if use_index==\"auto\":\n",
    "        if cmap.N > 100:\n",
    "            use_index=False\n",
    "        elif isinstance(cmap, LinearSegmentedColormap):\n",
    "            use_index=False\n",
    "        elif isinstance(cmap, ListedColormap):\n",
    "            use_index=True\n",
    "    if use_index:\n",
    "        if reverse:\n",
    "            ind = np.flip(np.arange(int(N))) % cmap.N\n",
    "        else:\n",
    "            print(\"debug\")\n",
    "            ind = np.arange(int(N)) % cmap.N\n",
    "        return cmap(ind)\n",
    "    else:\n",
    "        if reverse:\n",
    "            colors = cmap(np.flip(np.linspace(0,1,N)))\n",
    "        else:\n",
    "            colors = cmap(np.linspace(0,1,N))\n",
    "        return colors\n",
    "# https://stackoverflow.com/questions/30079590/use-matplotlib-color-map-for-color-cycle"
   ]
  },
  {
   "cell_type": "code",
   "execution_count": null,
   "id": "71ef414a-a661-4caf-8872-81403ecabc41",
   "metadata": {},
   "outputs": [],
   "source": [
    "def out_path(filename):\n",
    "    global outdir\n",
    "    path = os.path.join(outdir, filename)\n",
    "    return path"
   ]
  },
  {
   "cell_type": "code",
   "execution_count": null,
   "id": "06a19681-6b18-4674-bae4-9bb47d3a1e64",
   "metadata": {},
   "outputs": [],
   "source": [
    "def closest_index(arr, val):\n",
    "    if val > arr.max():\n",
    "        raise ValueError(\"not in range: {} > {}\".format(val, arr.max()))\n",
    "    elif val < arr.min():\n",
    "        raise ValueError(\"not in range: {} < {}\".format(val, arr.min()))\n",
    "    index = np.argmin(abs(arr - val))  # TODO: use binary search or something else?\n",
    "    return index"
   ]
  },
  {
   "cell_type": "code",
   "execution_count": null,
   "id": "339798b7-32d3-4f91-a8d8-724e168fc62d",
   "metadata": {},
   "outputs": [],
   "source": [
    "nb_id = 1732321734\n",
    "import time\n",
    "try:\n",
    "    print(nb_id)\n",
    "except NameError:\n",
    "    print(round(time.time()))"
   ]
  },
  {
   "cell_type": "code",
   "execution_count": null,
   "id": "a4fe6cd2-d5ea-4d1e-811b-eb1a7f64d734",
   "metadata": {},
   "outputs": [],
   "source": [
    "filepaths = glob.glob(\"amp_series_01/*.mat\")"
   ]
  },
  {
   "cell_type": "code",
   "execution_count": null,
   "id": "d7134351-0988-43bc-92d9-ccc495304ffb",
   "metadata": {},
   "outputs": [],
   "source": [
    "filepaths"
   ]
  },
  {
   "cell_type": "code",
   "execution_count": null,
   "id": "d6cc8522-cd84-46db-a98f-5fcfaf8d6a37",
   "metadata": {},
   "outputs": [],
   "source": [
    "outdir = \"plot_FeGaB_amp_series_01\"\n",
    "filename_prefix = \"FeGaB_amp_series_01\"\n",
    "title_prefix = \"FeGaB, power series\""
   ]
  },
  {
   "cell_type": "code",
   "execution_count": null,
   "id": "0f5e637e-4bf0-41b0-8940-c58e93aafc51",
   "metadata": {},
   "outputs": [],
   "source": [
    "gauss = 1e-4\n",
    "GHz = 1e9"
   ]
  },
  {
   "cell_type": "code",
   "execution_count": null,
   "id": "7e93a903-b912-457f-bf30-a550ef185d91",
   "metadata": {},
   "outputs": [],
   "source": [
    "# colors = {i: plt.get_cmap('tab20').colors[i] for i, val in enumerate(filepaths)}\n",
    "# colors = {i: get_color_list('copper', N=len(filepaths)+3)[3:][i] for i, val in enumerate(filepaths)}\n",
    "colors = {i: get_color_list('copper', N=len(filepaths))[i] for i, val in enumerate(filepaths)}"
   ]
  },
  {
   "cell_type": "code",
   "execution_count": null,
   "id": "edcf519a-d3cc-4726-9927-f496c35e5315",
   "metadata": {},
   "outputs": [],
   "source": [
    "if not os.path.isdir(outdir):\n",
    "    os.mkdir(outdir)"
   ]
  },
  {
   "cell_type": "code",
   "execution_count": null,
   "id": "3be541e0-cbb6-497e-97b4-541f2775ea19",
   "metadata": {},
   "outputs": [],
   "source": [
    "dat = {}\n",
    "for i, filepath in enumerate(filepaths):\n",
    "    dat[i] = scipy.io.loadmat(filepath, simplify_cells=True)"
   ]
  },
  {
   "cell_type": "code",
   "execution_count": null,
   "id": "0d34820e-d125-48a0-a1ca-90396d5fedcd",
   "metadata": {},
   "outputs": [],
   "source": [
    "bstat = np.array([d['bstat'] for (i, d) in dat.items()])\n",
    "amp = np.array([d['amp'] for (i, d) in dat.items()])"
   ]
  },
  {
   "cell_type": "code",
   "execution_count": null,
   "id": "01615778-33a7-4b9b-9df9-da66c2e7ed72",
   "metadata": {},
   "outputs": [],
   "source": [
    "for i, (a, b) in enumerate(zip(amp, amp[1:])):\n",
    "    print(\"{}\\t{:g}\\t{:.3f}\\t{}\".format(i+1, a/gauss, (a/b), dat[i]['folder']))"
   ]
  },
  {
   "cell_type": "code",
   "execution_count": null,
   "id": "cfcb8f6f-e26d-465a-bc68-90c35030b311",
   "metadata": {},
   "outputs": [],
   "source": [
    "\n",
    "fft_freq_Hz = dat[0]['fft_freq_Hz']\n",
    "i0 = closest_index(fft_freq_Hz, 0.0)\n",
    "i_max = closest_index(fft_freq_Hz, 5*GHz)"
   ]
  },
  {
   "cell_type": "code",
   "execution_count": null,
   "id": "611fb23e-ca80-4e1e-ba11-9c51565bfb21",
   "metadata": {},
   "outputs": [],
   "source": [
    "fig, ax = plt.subplots(\n",
    "    constrained_layout=True,\n",
    "    figsize=(16*0.7,9*0.7),\n",
    ")\n",
    "for i, d in dat.items():\n",
    "    if i in (0, len(dat)-1):\n",
    "        this_label = \"$B_1 = ${:.1f} G\".format(d['amp']/gauss)\n",
    "    else:\n",
    "        this_label = None\n",
    "    ax.plot(\n",
    "        d['fft_freq_Hz'][i0:i_max]/GHz,\n",
    "        d['fftz_avg'][i0:i_max],\n",
    "        label=this_label,\n",
    "#         label=\"{:.1f} G\".format(d['bstat']/gauss),\n",
    "        color=colors[i],\n",
    "    )\n",
    "# ax.plot(fft_freq_Hz[i0:i_max]/GHz, fft_avg.z[i0:i_max]);\n",
    "ax.set_title(title_prefix + ', nb_id = {}'.format(nb_id))\n",
    "ax.set_xlabel('frequency [GHz]')\n",
    "ax.set_ylabel('FFT mag. ($M_z$/$M_s$), linear scaling');\n",
    "ax.axvline(1425e6/GHz, color='gray', linestyle='--', zorder=0, label='1425 MHz')\n",
    "ax.axvline(1.5*1425e6/GHz, color='black', linestyle=':', zorder=0, label='{:.1f} MHz'.format(1.5*1425))\n",
    "# ax.set_yscale('log')\n",
    "ax.legend();"
   ]
  },
  {
   "cell_type": "code",
   "execution_count": null,
   "id": "b403da5c-f18c-43f4-99f2-e3216557bc88",
   "metadata": {},
   "outputs": [],
   "source": [
    "fig.savefig(out_path(filename_prefix + \"_overlay_fftz_linear.png\"), bbox_inches='tight', facecolor=\"w\", dpi=300);"
   ]
  },
  {
   "cell_type": "code",
   "execution_count": null,
   "id": "6b3f1bb5-417d-49f0-a45a-33ec7e29ad0b",
   "metadata": {},
   "outputs": [],
   "source": [
    "fig.canvas.draw()"
   ]
  },
  {
   "cell_type": "code",
   "execution_count": null,
   "id": "c61619a6-407e-4605-b0d1-d3ed2ff1fa46",
   "metadata": {},
   "outputs": [],
   "source": [
    "plt.close(fig); del(fig, ax)"
   ]
  },
  {
   "cell_type": "code",
   "execution_count": null,
   "id": "19f5b13d-b585-4071-8676-c9dd0c501141",
   "metadata": {},
   "outputs": [],
   "source": [
    "fig, ax = plt.subplots(\n",
    "    constrained_layout=True,\n",
    "    figsize=(16*0.7,9*0.7),\n",
    ")\n",
    "for i, d in dat.items():\n",
    "    if i in (0, len(dat)-1):\n",
    "        this_label = \"$B_1 = ${:.1f} G\".format(d['amp']/gauss)\n",
    "    else:\n",
    "        this_label = None\n",
    "    ax.plot(\n",
    "        d['fft_freq_Hz'][i0:i_max]/GHz,\n",
    "        d['fftz_avg'][i0:i_max],\n",
    "        label=this_label,\n",
    "        color=colors[i],\n",
    "    )\n",
    "ax.set_title(title_prefix + ', nb_id = {}'.format(nb_id))\n",
    "ax.set_xlabel('frequency [GHz]')\n",
    "ax.set_ylabel('FFT mag. ($M_z$/$M_s$), log scaling');\n",
    "ax.axvline(1425e6/GHz, color='gray', linestyle='--', zorder=0, label='1425 MHz')\n",
    "ax.axvline(1.5*1425e6/GHz, color='black', linestyle=':', zorder=0, label='{:.1f} MHz'.format(1.5*1425))\n",
    "ax.set_yscale('log')\n",
    "ax.legend();"
   ]
  },
  {
   "cell_type": "code",
   "execution_count": null,
   "id": "e9481cb1-3a8a-49ee-886f-8e9971f1af52",
   "metadata": {},
   "outputs": [],
   "source": [
    "fig.savefig(out_path(filename_prefix + \"_overlay_fftz_log.png\"), bbox_inches='tight', facecolor=\"w\", dpi=300);"
   ]
  },
  {
   "cell_type": "code",
   "execution_count": null,
   "id": "7682f593-27c3-4f00-9d77-23e519a7a5ad",
   "metadata": {},
   "outputs": [],
   "source": [
    "fig.canvas.draw()"
   ]
  },
  {
   "cell_type": "code",
   "execution_count": null,
   "id": "fea12aff-ba0c-4fb3-bd25-1cbeaa7ddcc5",
   "metadata": {},
   "outputs": [],
   "source": [
    "plt.close(fig); del(fig, ax)"
   ]
  },
  {
   "cell_type": "code",
   "execution_count": null,
   "id": "2b52486e-3d3c-4af9-8f5a-6bf5ece33777",
   "metadata": {},
   "outputs": [],
   "source": [
    "harmonic0_list = []\n",
    "harmonic1_list = []\n",
    "harmonic0p5_list = []\n",
    "for i, d in dat.items():\n",
    "    harmonic0_list.append(d['fftz_avg'][closest_index(d['fft_freq_Hz'], 1425.0e6)])\n",
    "    harmonic1_list.append(d['fftz_avg'][closest_index(d['fft_freq_Hz'], 2*1425.0e6)])\n",
    "    harmonic0p5_list.append(d['fftz_avg'][closest_index(d['fft_freq_Hz'], 1.5*1425.0e6)])\n",
    "harmonic0 = np.array(harmonic0_list)\n",
    "harmonic1 = np.array(harmonic1_list)\n",
    "harmonic0p5 = np.array(harmonic0p5_list)\n",
    "harmonic_amp_ratio = harmonic1/harmonic0"
   ]
  },
  {
   "cell_type": "code",
   "execution_count": null,
   "id": "62f6ca62-aaed-4986-8d2d-046eb417004b",
   "metadata": {},
   "outputs": [],
   "source": [
    "harmonic_amp_ratio"
   ]
  },
  {
   "cell_type": "code",
   "execution_count": null,
   "id": "9df8f356-0437-45b9-a124-fb51fb37c90c",
   "metadata": {},
   "outputs": [],
   "source": [
    "color_list = list(colors.values())"
   ]
  },
  {
   "cell_type": "code",
   "execution_count": null,
   "id": "58c68944-2817-4d27-a3b7-ce6283ec1a02",
   "metadata": {},
   "outputs": [],
   "source": [
    "fig, ax = plt.subplots(\n",
    "    constrained_layout=True,\n",
    "    figsize=(16*0.7,9*0.7),\n",
    ")\n",
    "ax.plot(\n",
    "    amp/gauss,\n",
    "    harmonic0,\n",
    "    '.-',\n",
    "    label='1425 MHz'\n",
    ")\n",
    "ax.plot(\n",
    "    amp/gauss,\n",
    "    harmonic1,\n",
    "    '.-',\n",
    "    label='2850 MHz',\n",
    ")\n",
    "ax.plot(\n",
    "    amp/gauss,\n",
    "    harmonic0p5,\n",
    "    '.-',\n",
    "    label='{:.1f} MHz'.format(1425*1.5),\n",
    ")\n",
    "ax.set_title(title_prefix + ', nb_id = {}'.format(nb_id))\n",
    "ax.set_xlabel('$B_1$ [G]')\n",
    "ax.set_ylabel('FFT mag. ($M_z$/$M_s$)');\n",
    "ax.axvline(62, color='gray', linestyle='--', zorder=0, label='62 G')\n",
    "# ax.set_yscale('log')\n",
    "ax.legend();"
   ]
  },
  {
   "cell_type": "code",
   "execution_count": null,
   "id": "df77ae19-40be-4516-ba18-2eff5b8df745",
   "metadata": {},
   "outputs": [],
   "source": [
    "fig.savefig(out_path(filename_prefix + \"_harmonic_0_1_vs_Bx.png\"), bbox_inches='tight', facecolor=\"w\", dpi=300);"
   ]
  },
  {
   "cell_type": "code",
   "execution_count": null,
   "id": "eba2a785-4897-4209-b6dc-f607099234ad",
   "metadata": {},
   "outputs": [],
   "source": [
    "fig.canvas.draw()"
   ]
  },
  {
   "cell_type": "code",
   "execution_count": null,
   "id": "f75fcd38-9f9c-46fd-bde0-1735a0b46360",
   "metadata": {},
   "outputs": [],
   "source": [
    "plt.close(fig); del(fig, ax)"
   ]
  },
  {
   "cell_type": "code",
   "execution_count": null,
   "id": "0cc8775b-44a7-4f6d-a2a2-19c6207b7bea",
   "metadata": {},
   "outputs": [],
   "source": [
    "fig, ax = plt.subplots(\n",
    "    constrained_layout=True,\n",
    "    figsize=(16*0.7,9*0.7),\n",
    ")\n",
    "ax.plot(\n",
    "    amp/gauss,\n",
    "    harmonic_amp_ratio,\n",
    "    '-',\n",
    "    color='gray',\n",
    "    zorder=0,\n",
    ")\n",
    "ax.scatter(\n",
    "    amp/gauss,\n",
    "    harmonic_amp_ratio,\n",
    "    color=color_list,\n",
    "    edgecolors='black',\n",
    ")\n",
    "ax.set_title(title_prefix + ', nb_id = {}'.format(nb_id))\n",
    "ax.set_xlabel('$B_1$ [G]')\n",
    "ax.set_ylabel('ratio of 1st harmonic to fundamental [A.U.]');\n",
    "ax.axvline(62, color='gray', linestyle='--', zorder=0, label='62 G')\n",
    "ax.legend();"
   ]
  },
  {
   "cell_type": "code",
   "execution_count": null,
   "id": "017602f4-9ecc-42e1-8448-d2b2eb8b2213",
   "metadata": {},
   "outputs": [],
   "source": [
    "fig.savefig(out_path(filename_prefix + \"_harmonic_ratio_1_vs_Bx.png\"), bbox_inches='tight', facecolor=\"w\", dpi=300);"
   ]
  },
  {
   "cell_type": "code",
   "execution_count": null,
   "id": "7c797309-6676-4173-bd02-9c8a62450cf0",
   "metadata": {},
   "outputs": [],
   "source": [
    "fig.canvas.draw()"
   ]
  },
  {
   "cell_type": "code",
   "execution_count": null,
   "id": "47d0f902-6045-45dd-928b-77d1c88f6da2",
   "metadata": {},
   "outputs": [],
   "source": [
    "plt.close(fig); del(fig, ax)"
   ]
  },
  {
   "cell_type": "code",
   "execution_count": null,
   "id": "03f39205-0ede-49a1-95b2-dbdac7b92239",
   "metadata": {},
   "outputs": [],
   "source": [
    "fig, ax = plt.subplots(\n",
    "    constrained_layout=True,\n",
    "    figsize=(16*0.7,9*0.7),\n",
    ")\n",
    "ax.plot(\n",
    "    amp/gauss,\n",
    "    harmonic0p5/harmonic0,\n",
    "    '-',\n",
    "    color='gray',\n",
    "    zorder=0,\n",
    ")\n",
    "ax.scatter(\n",
    "    amp/gauss,\n",
    "    harmonic0p5/harmonic0,\n",
    "    color=color_list,\n",
    "    edgecolors='black',\n",
    ")\n",
    "ax.set_title(title_prefix + ', nb_id = {}'.format(nb_id))\n",
    "ax.set_xlabel('$B_1$ [G]')\n",
    "ax.set_ylabel('ratio of sideband 2 ({:.1f} MHZ) to fundamental ({:.1f} MHz) [A.U.]'.format(1.5*1425, 1425));\n",
    "ax.axvline(62, color='gray', linestyle='--', zorder=0, label='62 G')\n",
    "ax.legend();"
   ]
  },
  {
   "cell_type": "code",
   "execution_count": null,
   "id": "31bb4c72-826b-4954-81d2-0dcf6a76953a",
   "metadata": {},
   "outputs": [],
   "source": [
    "fig.savefig(out_path(filename_prefix + \"_0p5_harmonic_ratio_vs_Bx.png\"), bbox_inches='tight', facecolor=\"w\", dpi=300);"
   ]
  },
  {
   "cell_type": "code",
   "execution_count": null,
   "id": "96a50eb2-9d6b-48ff-9b12-74be2663413f",
   "metadata": {},
   "outputs": [],
   "source": [
    "fig.canvas.draw()"
   ]
  },
  {
   "cell_type": "code",
   "execution_count": null,
   "id": "57457f39-4930-43b2-b33a-66a15c7c4169",
   "metadata": {},
   "outputs": [],
   "source": [
    "plt.close(fig); del(fig, ax)"
   ]
  }
 ],
 "metadata": {
  "kernelspec": {
   "display_name": "Python 3",
   "language": "python",
   "name": "python3"
  },
  "language_info": {
   "codemirror_mode": {
    "name": "ipython",
    "version": 3
   },
   "file_extension": ".py",
   "mimetype": "text/x-python",
   "name": "python",
   "nbconvert_exporter": "python",
   "pygments_lexer": "ipython3",
   "version": "3.8.8"
  }
 },
 "nbformat": 4,
 "nbformat_minor": 5
}

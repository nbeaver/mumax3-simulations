{
 "cells": [
  {
   "cell_type": "code",
   "execution_count": null,
   "id": "ec049e7b-8205-4365-8d14-eab18b7938ea",
   "metadata": {},
   "outputs": [],
   "source": [
    "import numpy as np\n",
    "import glob\n",
    "import os\n",
    "import matplotlib.pyplot as plt\n",
    "import scipy.io\n",
    "%matplotlib inline"
   ]
  },
  {
   "cell_type": "code",
   "execution_count": null,
   "id": "22d26fa8-5ea4-4bbf-bd4d-27a8d6b27e33",
   "metadata": {},
   "outputs": [],
   "source": [
    "class MyInfo:\n",
    "    # Give names of class members.\n",
    "    def __repr__(self):\n",
    "        return self.__class__.__name__ + '(' + str(list(self.__dict__.keys())) + ')'\n",
    "    def __str__(self):\n",
    "        return self.__class__.__name__ + '(' + str(list(self.__dict__.keys())) + ')'"
   ]
  },
  {
   "cell_type": "code",
   "execution_count": null,
   "id": "d6cc8522-cd84-46db-a98f-5fcfaf8d6a37",
   "metadata": {},
   "outputs": [],
   "source": [
    "folder = '/scratch/n.beaver/12_copus_isofreq_permalloy/copus_isofreq_permalloy_000.out/'\n",
    "outfile_prefix = \"12_copus_isofreq_permalloy_000\"\n",
    "tstep = 10e-12 # 10 ps timestep"
   ]
  },
  {
   "cell_type": "code",
   "execution_count": null,
   "id": "b18cbea7-132d-4294-b48e-71cc135e0617",
   "metadata": {},
   "outputs": [],
   "source": [
    "example1_raw = np.load(os.path.join(folder, 'm_full000005.npy'))"
   ]
  },
  {
   "cell_type": "code",
   "execution_count": null,
   "id": "8b3d6382-8e54-4bda-9433-87018976c36b",
   "metadata": {},
   "outputs": [],
   "source": [
    "example1_raw.shape"
   ]
  },
  {
   "cell_type": "code",
   "execution_count": null,
   "id": "8204f3dd-b148-4842-9e87-f706b8d0d45a",
   "metadata": {},
   "outputs": [],
   "source": [
    "example1 = example1_raw.squeeze()"
   ]
  },
  {
   "cell_type": "code",
   "execution_count": null,
   "id": "c81b6929-7463-4137-af5d-9feb6382a060",
   "metadata": {},
   "outputs": [],
   "source": [
    "example1fftz = np.fft.fftshift(np.fft.fft2(example1[2]))"
   ]
  },
  {
   "cell_type": "code",
   "execution_count": null,
   "id": "dea29d0f-4bc1-4585-a3cf-22c272bef1e8",
   "metadata": {},
   "outputs": [],
   "source": [
    "example1fftz.dtype"
   ]
  },
  {
   "cell_type": "code",
   "execution_count": null,
   "id": "b879011a-df95-4a16-b3c7-50380cb4d2a6",
   "metadata": {},
   "outputs": [],
   "source": [
    "fig, ax = plt.subplots(constrained_layout=True)\n",
    "ax.pcolormesh(example1[2]);\n",
    "ax.set_aspect('equal')"
   ]
  },
  {
   "cell_type": "code",
   "execution_count": null,
   "id": "4fc9d47e-bda5-477d-a0d0-edee8f3d8b98",
   "metadata": {},
   "outputs": [],
   "source": [
    "fig, ax = plt.subplots(constrained_layout=True)\n",
    "ax.pcolormesh(np.abs(example1fftz));\n",
    "ax.set_aspect('equal')"
   ]
  },
  {
   "cell_type": "code",
   "execution_count": null,
   "id": "621abde7-ad0d-41b1-9f55-9962f7d62bbd",
   "metadata": {},
   "outputs": [],
   "source": [
    "fig, ax = plt.subplots(constrained_layout=True)\n",
    "ax.pcolormesh(example1[1]);\n",
    "ax.set_aspect('equal')"
   ]
  },
  {
   "cell_type": "code",
   "execution_count": null,
   "id": "cdd9e37a-e344-483d-8d99-26f1e88cc68c",
   "metadata": {},
   "outputs": [],
   "source": [
    "fig, ax = plt.subplots(constrained_layout=True)\n",
    "ax.pcolormesh(example1[0]);\n",
    "ax.set_aspect('equal')"
   ]
  },
  {
   "cell_type": "code",
   "execution_count": null,
   "id": "79b9657e-e7d1-4dc1-a83c-d5ccfab014b7",
   "metadata": {},
   "outputs": [],
   "source": [
    "del example1, example1_raw"
   ]
  },
  {
   "cell_type": "code",
   "execution_count": null,
   "id": "19f5b13d-b585-4071-8676-c9dd0c501141",
   "metadata": {},
   "outputs": [],
   "source": []
  }
 ],
 "metadata": {
  "kernelspec": {
   "display_name": "Python 3",
   "language": "python",
   "name": "python3"
  },
  "language_info": {
   "codemirror_mode": {
    "name": "ipython",
    "version": 3
   },
   "file_extension": ".py",
   "mimetype": "text/x-python",
   "name": "python",
   "nbconvert_exporter": "python",
   "pygments_lexer": "ipython3",
   "version": "3.8.8"
  }
 },
 "nbformat": 4,
 "nbformat_minor": 5
}

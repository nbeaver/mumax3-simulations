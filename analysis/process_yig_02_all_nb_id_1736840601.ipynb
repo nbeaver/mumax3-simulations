{
 "cells": [
  {
   "cell_type": "code",
   "execution_count": null,
   "id": "ec049e7b-8205-4365-8d14-eab18b7938ea",
   "metadata": {},
   "outputs": [],
   "source": [
    "import process_copus\n",
    "import numpy as np\n",
    "import glob\n",
    "import os\n",
    "import matplotlib\n",
    "import matplotlib.pyplot as plt\n",
    "import scipy.io\n",
    "%matplotlib inline"
   ]
  },
  {
   "cell_type": "code",
   "execution_count": null,
   "id": "7e1464e1-61bc-4f2f-9d78-261e65105a8b",
   "metadata": {},
   "outputs": [],
   "source": [
    "nb_id = 1736840601\n",
    "import time\n",
    "try:\n",
    "    print(nb_id)\n",
    "except NameError:\n",
    "    print(round(time.time()))"
   ]
  },
  {
   "cell_type": "code",
   "execution_count": null,
   "id": "6b07dbb8-0a03-4033-9a91-7b88b6fb21f8",
   "metadata": {},
   "outputs": [],
   "source": [
    "def closest_index(arr, val):\n",
    "    if val > arr.max():\n",
    "        raise ValueError(\"not in range: {} > {}\".format(val, arr.max()))\n",
    "    elif val < arr.min():\n",
    "        raise ValueError(\"not in range: {} < {}\".format(val, arr.min()))\n",
    "    index = np.argmin(abs(arr - val))  # TODO: use binary search or something else?\n",
    "    return index"
   ]
  },
  {
   "cell_type": "code",
   "execution_count": null,
   "id": "cb1da306-19c7-44fa-a202-37db5713779f",
   "metadata": {},
   "outputs": [],
   "source": [
    "def get_txt_filename(path_raw):\n",
    "    path = os.path.abspath(path_raw)\n",
    "    root, ext = os.path.splitext(path)\n",
    "    txt_filename = root + '.txt'\n",
    "    return txt_filename"
   ]
  },
  {
   "cell_type": "code",
   "execution_count": null,
   "id": "d25ff38d-b02a-46d1-a7e4-8248765f47e4",
   "metadata": {},
   "outputs": [],
   "source": [
    "def out_path(filename):\n",
    "    global outdir\n",
    "    path = os.path.join(outdir, filename)\n",
    "    return path"
   ]
  },
  {
   "cell_type": "code",
   "execution_count": null,
   "id": "31e1c69c-a3d6-4e84-88d1-c75695dd2dae",
   "metadata": {},
   "outputs": [],
   "source": [
    "def get_filename_prefix(filepath):\n",
    "    filename = os.path.basename(filepath)\n",
    "    root, ext = os.path.splitext(filename)\n",
    "    return root"
   ]
  },
  {
   "cell_type": "code",
   "execution_count": null,
   "id": "a552c848-e0cd-4049-8aed-bac4c0ea99e4",
   "metadata": {},
   "outputs": [],
   "source": [
    "def get_outdir(filepath_raw):\n",
    "    filepath = os.path.abspath(filepath_raw)\n",
    "    parts = filepath.split(os.sep)\n",
    "    outdir = os.path.join(*parts[-2:])\n",
    "    return outdir"
   ]
  },
  {
   "cell_type": "code",
   "execution_count": null,
   "id": "6f64dfc9-466d-4c86-ac42-cc4197a3ac5b",
   "metadata": {},
   "outputs": [],
   "source": [
    "def get_topdir_base(filepath_raw):\n",
    "    filepath = os.path.abspath(filepath_raw)\n",
    "    head1, tail1 = os.path.split(filepath)\n",
    "    root, ext = os.path.splitext(tail1)\n",
    "    return root"
   ]
  },
  {
   "cell_type": "code",
   "execution_count": null,
   "id": "74ce1cd9-7cd2-4436-bbec-687345a60fdd",
   "metadata": {},
   "outputs": [],
   "source": [
    "def get_i_from_path(filepath):\n",
    "    filename = os.path.basename(filepath)\n",
    "    root, ext = os.path.splitext(filename)\n",
    "    last_part = root.split('_')[-1]\n",
    "    index = int(last_part)\n",
    "    return index"
   ]
  },
  {
   "cell_type": "code",
   "execution_count": null,
   "id": "462091bd-e9d9-4cbb-9053-bb903220dc33",
   "metadata": {},
   "outputs": [],
   "source": [
    "def remove_prefix(text, prefix):\n",
    "    if text.startswith(prefix):\n",
    "        return text[len(prefix):]\n",
    "    else:\n",
    "        raise ValueError"
   ]
  },
  {
   "cell_type": "code",
   "execution_count": null,
   "id": "55187b41-0634-44d4-b858-5f77152773eb",
   "metadata": {},
   "outputs": [],
   "source": [
    "def get_i2_from_path(filepath):\n",
    "    filename = os.path.basename(filepath)\n",
    "    root, ext = os.path.splitext(filename)\n",
    "    index_str = remove_prefix(root, 'm_full')\n",
    "    index = int(index_str)\n",
    "    return index"
   ]
  },
  {
   "cell_type": "code",
   "execution_count": null,
   "id": "5d6c19b2-c6db-4e93-a080-e618afac3ef8",
   "metadata": {},
   "outputs": [],
   "source": [
    "def unwrap_1x1(arr2d):\n",
    "    d1, d2 = arr2d.shape\n",
    "    if d1 == 1 and d2 == 1:\n",
    "        arr1d, = arr2d\n",
    "        unwrapped, = arr1d\n",
    "    else:\n",
    "        raise ValueError(\"cannot cast 2D array with shape '{}'\".format(arr2d.shape))\n",
    "    return unwrapped"
   ]
  },
  {
   "cell_type": "code",
   "execution_count": null,
   "id": "667016f2-622b-4a55-9c6f-c52cdd7dbe42",
   "metadata": {},
   "outputs": [],
   "source": [
    "def reduce_identical_arr(l):\n",
    "    \"\"\"\n",
    "    Return the first value of a list\n",
    "    provided all the values are equal\n",
    "    and are numpy arrays.\n",
    "    \"\"\"\n",
    "    val1 =  l[0]\n",
    "    all_same = all([np.array_equal(x, val1) for x in l])\n",
    "    if all_same == True:\n",
    "        return val1\n",
    "    else:\n",
    "        raise ValueError(\"list has disparate values\")"
   ]
  },
  {
   "cell_type": "code",
   "execution_count": null,
   "id": "41674dc8-f647-4d01-9c05-5011a410cc69",
   "metadata": {},
   "outputs": [],
   "source": [
    "def reduce_identical_array_vals(d):\n",
    "    \"\"\"\n",
    "    Return the first value of a dict\n",
    "    provided all the values are equal\n",
    "    and are numpy arrays.\n",
    "    \"\"\"\n",
    "    val1 = next(iter(d.values()))\n",
    "    all_same = all([np.array_equal(d[key], val1) for key in d.keys()])\n",
    "    if all_same == True:\n",
    "        return val1\n",
    "    else:\n",
    "        raise ValueError(\"dict has disparate values\")\n"
   ]
  },
  {
   "cell_type": "code",
   "execution_count": null,
   "id": "06b628bf-ab4e-4d4f-a586-2ba1ab9deacd",
   "metadata": {},
   "outputs": [],
   "source": [
    "def get_gaussian2d(x, y, amp, sigma, offset):\n",
    "    # I think vstack() already makes a new copy,\n",
    "    # but make one just in case.\n",
    "    x2d = np.vstack([x.copy() for _ in range(len(y))])\n",
    "    y2d = np.vstack([y.copy() for _ in range(len(x))]).T\n",
    "    r = np.hypot(x2d, y2d)\n",
    "    func = amp**2 * np.exp(-np.power(r, 2)/(2*np.power(sigma, 2))) + offset\n",
    "    return func"
   ]
  },
  {
   "cell_type": "code",
   "execution_count": null,
   "id": "2c1074fb-1315-4f12-8a0f-bd240385c079",
   "metadata": {},
   "outputs": [],
   "source": [
    "class MyInfo:\n",
    "    # Give names of class members.\n",
    "    def __repr__(self):\n",
    "        return self.__class__.__name__ + '(' + str(list(self.__dict__.keys())) + ')'\n",
    "    def __str__(self):\n",
    "        return self.__class__.__name__ + '(' + str(list(self.__dict__.keys())) + ')'"
   ]
  },
  {
   "cell_type": "code",
   "execution_count": null,
   "id": "7b59cb43-e9d4-4ae5-9729-3fc66953032b",
   "metadata": {},
   "outputs": [],
   "source": [
    "dirpath_raw = '../yig_isofreq_out/02_yig/'\n",
    "dirpath = os.path.abspath(dirpath_raw)\n",
    "i_list = {}\n",
    "for filepath in glob.glob(os.path.join(dirpath, '*.out')):\n",
    "    print(filepath)\n",
    "    i = get_i_from_path(filepath)\n",
    "    i_list[i] = []\n",
    "    for filepath2 in glob.glob(os.path.join(filepath, 'm_full*.npy')):\n",
    "#         print(filepath2)\n",
    "        i2 = get_i2_from_path(filepath2)\n",
    "        i_list[i].append(i2)\n",
    "    print(i_list[i])"
   ]
  },
  {
   "cell_type": "code",
   "execution_count": null,
   "id": "4dbb4337-9d6d-4946-911b-483a88e6c824",
   "metadata": {},
   "outputs": [],
   "source": [
    "n_files = len(os.listdir(dirpath))\n",
    "chosen_step = [3 for _ in range(n_files)]\n",
    "# skip_list = [4,5,6,7,8,9]\n",
    "skip_list = []\n",
    "outdir = get_outdir(dirpath)\n",
    "filename_prefix = os.path.basename(dirpath)\n",
    "subtitle_prefix = os.path.basename(dirpath)\n",
    "info = {}\n",
    "for filepath in glob.glob(os.path.join(dirpath, '*.out')):\n",
    "    i = get_i_from_path(filepath)\n",
    "    if i in skip_list:\n",
    "        continue\n",
    "    info[i] = MyInfo()\n",
    "    info[i].chosen_step = chosen_step[i]\n",
    "    info[i].npy_path = os.path.join(filepath, 'm_full{:06d}.npy'.format(chosen_step[i]))\n",
    "    print(info[i].npy_path)\n",
    "    M1_raw = np.load(info[i].npy_path)\n",
    "    info[i].M1 = M1_raw.squeeze()\n",
    "    info[i].txt_path = os.path.join(dirpath, get_txt_filename(filepath))\n",
    "    with open(info[i].txt_path) as fp:\n",
    "        params = process_copus.parse_logfile(fp.readlines())\n",
    "    Nx = int(params['Nx'])\n",
    "    Ny = int(params['Ny'])\n",
    "    dx = params['c']\n",
    "    dy = params['c']\n",
    "    xpos = np.linspace(0, Nx, Nx)*dx\n",
    "    ypos = np.linspace(0, Ny, Ny)*dy\n",
    "    info[i].params = params\n",
    "    info[i].xpos = xpos\n",
    "    info[i].ypos = ypos\n",
    "    info[i].Nx = Nx\n",
    "    info[i].Ny = Ny\n",
    "    info[i].dx = dx\n",
    "    info[i].dy = dy\n",
    "    del params, Nx, Ny, dx, dy, xpos, ypos"
   ]
  },
  {
   "cell_type": "code",
   "execution_count": null,
   "id": "ef4f2a12-9102-4762-b2db-fb66af5c9b40",
   "metadata": {},
   "outputs": [],
   "source": [
    "freq_list = []\n",
    "dt_list = []\n",
    "maxdt_list = []\n",
    "Nx_list = []\n",
    "Ny_list = []\n",
    "x_list = []\n",
    "y_list = []\n",
    "for i, d in info.items():\n",
    "    freq_list.append(d.params['f'])\n",
    "    dt_list.append(d.params['tstep'])\n",
    "    maxdt_list.append(d.params['maxdt'])\n",
    "    Nx_list.append(d.Nx)\n",
    "    Ny_list.append(d.Ny)\n",
    "    x_list.append(d.xpos)\n",
    "    y_list.append(d.ypos)\n",
    "dt_all = reduce_identical_arr(dt_list)\n",
    "maxdt_all = reduce_identical_arr(maxdt_list)\n",
    "Nx_all = reduce_identical_arr(Nx_list)\n",
    "Ny_all = reduce_identical_arr(Ny_list)\n",
    "x_all = reduce_identical_arr(x_list)\n",
    "y_all = reduce_identical_arr(y_list)\n",
    "freq = np.array(freq_list)\n",
    "t_elapsed_list = [dt*i for i, dt in zip(chosen_step, dt_list)]\n",
    "t_elapsed = np.array(t_elapsed_list)\n",
    "t_elapsed_all = reduce_identical_arr(t_elapsed_list)"
   ]
  },
  {
   "cell_type": "markdown",
   "id": "f49a7f49-92f6-442b-9a61-0b294f6f4e5b",
   "metadata": {},
   "source": [
    "## Do FFT"
   ]
  },
  {
   "cell_type": "code",
   "execution_count": null,
   "id": "42bb9c47-3390-4c26-a89d-1469be7585ca",
   "metadata": {},
   "outputs": [],
   "source": [
    "%%time\n",
    "xmid = (x_all.min() + x_all.max())/2\n",
    "ymid = (y_all.min() + y_all.max())/2\n",
    "xrange = (x_all.max()-x_all.min())\n",
    "yrange = (y_all.max()-y_all.min())\n",
    "window = get_gaussian2d(x_all-xmid, y_all-ymid, 1.0, xrange/5, 0.0)\n",
    "for i, d in info.items():\n",
    "    M1z = d.M1[2]\n",
    "    M1z_fft_complex = np.fft.fftshift(np.fft.fft2(M1z))\n",
    "    M1z_fft = np.abs(M1z_fft_complex)\n",
    "    M1z_fft_complex_window = np.fft.fftshift(np.fft.fft2(M1z*window))\n",
    "    M1z_fft_window = np.abs(M1z_fft_complex_window)\n",
    "    kx = 2*np.pi*np.fft.fftshift(np.fft.fftfreq(d.Nx, d=d.dx))\n",
    "    ky = 2*np.pi*np.fft.fftshift(np.fft.fftfreq(d.Ny, d=d.dy))\n",
    "    d.M1z_fft = M1z_fft\n",
    "    d.M1z_fft_window = M1z_fft_window\n",
    "    d.kx = kx\n",
    "    d.ky = ky\n",
    "    del M1z, M1z_fft_complex, M1z_fft, kx, ky"
   ]
  },
  {
   "cell_type": "code",
   "execution_count": null,
   "id": "ca08bd36-94df-499e-afa7-5bfe7a4d47bd",
   "metadata": {},
   "outputs": [],
   "source": [
    "if not os.path.isdir(outdir):\n",
    "    os.makedirs(outdir, exist_ok=True)"
   ]
  },
  {
   "cell_type": "code",
   "execution_count": null,
   "id": "57a4b1ba-d139-4208-8b14-51c0dc815d25",
   "metadata": {},
   "outputs": [],
   "source": [
    "GHz = 1e9\n",
    "ps = 1e-12\n",
    "nm = 1e-9\n",
    "um = 1e-6"
   ]
  },
  {
   "cell_type": "code",
   "execution_count": null,
   "id": "c4978d64-0686-4b05-827f-7fe9377cb823",
   "metadata": {},
   "outputs": [],
   "source": [
    "kx_fftz_list = []\n",
    "ky_fftz_list = []\n",
    "kx_fftz_window_list = []\n",
    "ky_fftz_window_list = []\n",
    "kx_list = []\n",
    "ky_list = []\n",
    "for i, d in info.items():\n",
    "    ky_0i = closest_index(d.ky, 0.0)\n",
    "    kx_fftz_list.append(d.M1z_fft[ky_0i])\n",
    "    kx_fftz_window_list.append(d.M1z_fft_window[ky_0i])\n",
    "    del ky_0i\n",
    "    kx_0i = closest_index(d.kx, 0.0)\n",
    "    ky_fftz_list.append(d.M1z_fft[:,kx_0i])\n",
    "    ky_fftz_window_list.append(d.M1z_fft_window[:,kx_0i])\n",
    "    del kx_0i\n",
    "    kx_list.append(d.kx)\n",
    "    ky_list.append(d.ky)\n",
    "dt_all = reduce_identical_arr(dt_list)\n",
    "maxdt_all = reduce_identical_arr(maxdt_list)\n",
    "kx_all = reduce_identical_arr(kx_list)\n",
    "ky_all = reduce_identical_arr(ky_list)\n",
    "kx_fftz = np.stack(kx_fftz_list)\n",
    "ky_fftz = np.stack(ky_fftz_list)\n",
    "kx_fftz_window = np.stack(kx_fftz_window_list)\n",
    "ky_fftz_window = np.stack(ky_fftz_window_list)"
   ]
  },
  {
   "cell_type": "code",
   "execution_count": null,
   "id": "3526aa53-3abf-4fb1-8f5a-f31ac0123525",
   "metadata": {},
   "outputs": [],
   "source": [
    "t_elapsed/ps"
   ]
  },
  {
   "cell_type": "code",
   "execution_count": null,
   "id": "a23d4d86-3742-4004-969b-379c3fb18091",
   "metadata": {},
   "outputs": [],
   "source": [
    "freq/GHz"
   ]
  },
  {
   "cell_type": "code",
   "execution_count": null,
   "id": "4107077c-1c5f-416c-bed5-282db9920271",
   "metadata": {},
   "outputs": [],
   "source": [
    "fig, ax = plt.subplots(\n",
    "    constrained_layout=True,\n",
    "    figsize=(1.5*6.4, 1.5*4.8)\n",
    ")\n",
    "plot = ax.pcolormesh(\n",
    "    kx_all*um,\n",
    "    freq/GHz,\n",
    "    kx_fftz,\n",
    "    cmap='magma',\n",
    "    shading='nearest',\n",
    ");\n",
    "ax.set_xlabel('$k_x$ [1/um]')\n",
    "ax.set_ylabel('freq [GHz]')\n",
    "ax.set_xlim(0, 200)\n",
    "fig.colorbar(mappable=plot, ax=ax, label=\"FFT magnitude for $M_z$ [A.U.]\");\n",
    "ax.set_title(subtitle_prefix + \", {}x{}, t = {:.1f} ps, maxdt = {} ps, nb_id = {}\".format(\n",
    "    Nx_all, Ny_all, t_elapsed_all/ps, maxdt_all/ps, nb_id), fontsize=10)\n",
    "fig.suptitle(\"dispersion for $M_z$ in $k_x$ direction\");"
   ]
  },
  {
   "cell_type": "code",
   "execution_count": null,
   "id": "3442bc62-d978-4f4b-8543-6e4306ac48a1",
   "metadata": {},
   "outputs": [],
   "source": [
    "fig.savefig(out_path(filename_prefix + \"_heatmap_dispersion_kx_fftz.png\"), bbox_inches='tight', facecolor=\"w\", dpi=300);"
   ]
  },
  {
   "cell_type": "code",
   "execution_count": null,
   "id": "b7359622-98da-4e9e-b899-eaab081e0535",
   "metadata": {},
   "outputs": [],
   "source": [
    "fig.canvas.draw()"
   ]
  },
  {
   "cell_type": "code",
   "execution_count": null,
   "id": "d040a2f8-908c-4898-8833-74d0ccfe8a77",
   "metadata": {},
   "outputs": [],
   "source": [
    "plt.close(fig); del(fig, ax)"
   ]
  },
  {
   "cell_type": "code",
   "execution_count": null,
   "id": "bfb4ee78-e304-41de-b3a4-0ef49286caf3",
   "metadata": {},
   "outputs": [],
   "source": [
    "fig, ax = plt.subplots(\n",
    "    constrained_layout=True,\n",
    "    figsize=(1.5*6.4, 1.5*4.8)\n",
    ")\n",
    "plot = ax.pcolormesh(\n",
    "    kx_all*um,\n",
    "    freq/GHz,\n",
    "    kx_fftz_window,\n",
    "    cmap='magma',\n",
    "    shading='nearest',\n",
    ");\n",
    "ax.set_xlabel('$k_x$ [1/um]')\n",
    "ax.set_ylabel('freq [GHz]')\n",
    "ax.set_xlim(0, 200)\n",
    "fig.colorbar(mappable=plot, ax=ax, label=\"FFT magnitude for $M_z$ [A.U.]\");\n",
    "ax.set_title(subtitle_prefix + \", {}x{}, t = {:.1f} ps, maxdt = {} ps, nb_id = {}\".format(\n",
    "    Nx_all, Ny_all, t_elapsed_all/ps, maxdt_all/ps, nb_id), fontsize=10)\n",
    "fig.suptitle(\"dispersion for $M_z$ in $k_x$ direction (Gaussian window)\");"
   ]
  },
  {
   "cell_type": "code",
   "execution_count": null,
   "id": "c19fe86e-97c8-4172-8d7b-bdf410d708f8",
   "metadata": {},
   "outputs": [],
   "source": [
    "fig.savefig(out_path(filename_prefix + \"_heatmap_dispersion_kx_fftz_window.png\"), bbox_inches='tight', facecolor=\"w\", dpi=300);"
   ]
  },
  {
   "cell_type": "code",
   "execution_count": null,
   "id": "7c4027df-96fc-42f2-8263-734f68e14c73",
   "metadata": {},
   "outputs": [],
   "source": [
    "fig.canvas.draw()"
   ]
  },
  {
   "cell_type": "code",
   "execution_count": null,
   "id": "54bcbb0e-a0ef-4a83-95a2-a08ddfb532dd",
   "metadata": {},
   "outputs": [],
   "source": [
    "plt.close(fig); del(fig, ax)"
   ]
  },
  {
   "cell_type": "code",
   "execution_count": null,
   "id": "22fa64d4-03e4-40e5-b397-66baf50aa80e",
   "metadata": {},
   "outputs": [],
   "source": [
    "fig, ax = plt.subplots(\n",
    "    constrained_layout=True,\n",
    "    figsize=(1.5*6.4, 1.5*4.8)\n",
    ")\n",
    "plot = ax.pcolormesh(\n",
    "    ky_all*um,\n",
    "    freq/GHz,\n",
    "    ky_fftz,\n",
    "    cmap='magma',\n",
    "    shading='nearest',\n",
    ");\n",
    "ax.set_xlabel('$k_y$ [1/um]')\n",
    "ax.set_ylabel('freq [GHz]')\n",
    "ax.set_xlim(0, 200)\n",
    "fig.colorbar(mappable=plot, ax=ax, label=\"FFT magnitude for $M_z$ [A.U.]\");\n",
    "# ax.legend(loc='lower right');\n",
    "ax.set_title(subtitle_prefix + \", {}x{}, t = {:.1f} ps, maxdt = {} ps, nb_id = {}\".format(\n",
    "    Nx_all, Ny_all, t_elapsed_all/ps, maxdt_all/ps, nb_id), fontsize=10)\n",
    "fig.suptitle(\"dispersion for $M_z$ in $k_y$ direction\");"
   ]
  },
  {
   "cell_type": "code",
   "execution_count": null,
   "id": "6db23a38-ecec-4073-9c18-fb4656800776",
   "metadata": {},
   "outputs": [],
   "source": [
    "fig.savefig(out_path(filename_prefix + \"_heatmap_dispersion_ky_fftz.png\"), bbox_inches='tight', facecolor=\"w\", dpi=300);"
   ]
  },
  {
   "cell_type": "code",
   "execution_count": null,
   "id": "abec9d7b-ac0a-40dd-bc71-fad52b9c5d75",
   "metadata": {},
   "outputs": [],
   "source": [
    "fig.canvas.draw()"
   ]
  },
  {
   "cell_type": "code",
   "execution_count": null,
   "id": "cfc4c6ad-45ca-4ae8-8f76-984a224d3543",
   "metadata": {},
   "outputs": [],
   "source": [
    "plt.close(fig); del(fig, ax)"
   ]
  },
  {
   "cell_type": "code",
   "execution_count": null,
   "id": "c77a39b4-7515-4a76-8825-09527fe6a9ca",
   "metadata": {},
   "outputs": [],
   "source": [
    "fig, ax = plt.subplots(\n",
    "    constrained_layout=True,\n",
    "    figsize=(1.5*6.4, 1.5*4.8)\n",
    ")\n",
    "plot = ax.pcolormesh(\n",
    "    ky_all*um,\n",
    "    freq/GHz,\n",
    "    ky_fftz_window,\n",
    "    cmap='magma',\n",
    "    shading='nearest',\n",
    ");\n",
    "ax.set_xlabel('$k_y$ [1/um]')\n",
    "ax.set_ylabel('freq [GHz]')\n",
    "ax.set_xlim(0, 200)\n",
    "fig.colorbar(mappable=plot, ax=ax, label=\"FFT magnitude for $M_z$ [A.U.]\");\n",
    "# ax.legend(loc='lower right');\n",
    "ax.set_title(subtitle_prefix + \", {}x{}, t = {:.1f} ps, maxdt = {} ps, nb_id = {}\".format(\n",
    "    Nx_all, Ny_all, t_elapsed_all/ps, maxdt_all/ps, nb_id), fontsize=10)\n",
    "fig.suptitle(\"dispersion for $M_z$ in $k_y$ direction (Gaussian window)\");"
   ]
  },
  {
   "cell_type": "code",
   "execution_count": null,
   "id": "8893449b-6aea-440d-8576-362c4b5d4839",
   "metadata": {},
   "outputs": [],
   "source": [
    "fig.savefig(out_path(filename_prefix + \"_heatmap_dispersion_ky_fftz_window.png\"), bbox_inches='tight', facecolor=\"w\", dpi=300);"
   ]
  },
  {
   "cell_type": "code",
   "execution_count": null,
   "id": "4fecc3c0-ec90-4190-8947-3bb6f89e6293",
   "metadata": {},
   "outputs": [],
   "source": [
    "fig.canvas.draw()"
   ]
  },
  {
   "cell_type": "code",
   "execution_count": null,
   "id": "b4479a78-470d-44c9-9831-582f96e41dc7",
   "metadata": {},
   "outputs": [],
   "source": [
    "plt.close(fig); del(fig, ax)"
   ]
  },
  {
   "cell_type": "code",
   "execution_count": null,
   "id": "f36f3c5b-eca7-475b-928f-093767349d5d",
   "metadata": {},
   "outputs": [],
   "source": [
    "# this_t_elapsed = info[INDEX].params['tstep']*INDEX"
   ]
  },
  {
   "cell_type": "code",
   "execution_count": null,
   "id": "0871524c-4270-41ae-98f9-328c9777e05a",
   "metadata": {},
   "outputs": [],
   "source": [
    "info.keys()"
   ]
  },
  {
   "cell_type": "code",
   "execution_count": null,
   "id": "160b3d9b-bf9d-4232-98a8-cc2807b4c34e",
   "metadata": {},
   "outputs": [],
   "source": [
    "INDEX = 3\n",
    "xmid = (info[INDEX].xpos.min() + info[INDEX].xpos.max())/2\n",
    "ymid = (info[INDEX].ypos.min() + info[INDEX].ypos.max())/2\n",
    "fig, ax = plt.subplots(\n",
    "    constrained_layout=True,\n",
    "    figsize=(2*6.4, 2*4.8)\n",
    ")\n",
    "norm = matplotlib.colors.TwoSlopeNorm(vmin=-2e-1, vcenter=0, vmax=2e-1)\n",
    "plot = ax.pcolormesh(\n",
    "    info[INDEX].xpos/um,\n",
    "    info[INDEX].ypos/um,\n",
    "    info[INDEX].M1[2],\n",
    "    cmap='bwr',\n",
    "#     vmin=-20,\n",
    "#     vmax=-100,\n",
    "    norm = norm,\n",
    "    shading='nearest',\n",
    "#     norm=matplotlib.colors.LogNorm(),\n",
    ");\n",
    "dx = 2\n",
    "dy = 2\n",
    "# ax.set_xlim(xmid/um - dx, xmid/um + dx)\n",
    "# ax.set_ylim(ymid/um - dy, ymid/um + dy)\n",
    "ax.set_xlabel('x position [um]')\n",
    "ax.set_ylabel('y position [um]')\n",
    "fig.colorbar(mappable=plot, ax=ax, label=\"$M_z$ [A/m]\")\n",
    "ax.set_aspect('equal')\n",
    "ax.set_title(subtitle_prefix + \", {}x{}, t = {:.1f} ps, maxdt = {} ps, nb_id = {}\".format(\n",
    "    info[INDEX].Nx, info[INDEX].Ny, t_elapsed_all/ps, maxdt_all/ps, nb_id), fontsize=10)\n",
    "fig.suptitle(\"$M_z$, f = {:.1f} GHz\".format(freq[INDEX]/GHz));"
   ]
  },
  {
   "cell_type": "code",
   "execution_count": null,
   "id": "7981302b-60cd-4878-a60f-36f43d6efd2f",
   "metadata": {},
   "outputs": [],
   "source": [
    "fig.savefig(out_path(filename_prefix + \"_heatmap_M1z_{}.png\".format(INDEX)), bbox_inches='tight', facecolor=\"w\", dpi=300);"
   ]
  },
  {
   "cell_type": "code",
   "execution_count": null,
   "id": "109f964d-e6e5-4fba-9c68-9429c026fe46",
   "metadata": {},
   "outputs": [],
   "source": [
    "fig.canvas.draw()"
   ]
  },
  {
   "cell_type": "code",
   "execution_count": null,
   "id": "b83ef69a-d2f3-4b28-b3ba-ef07a9a2bc76",
   "metadata": {},
   "outputs": [],
   "source": [
    "plt.close(fig); del(fig, ax)"
   ]
  },
  {
   "cell_type": "code",
   "execution_count": null,
   "id": "73f8043d-3a14-4aff-b88c-a5fcf41efcaf",
   "metadata": {},
   "outputs": [],
   "source": [
    "INDEX = 3\n",
    "xmid = (info[INDEX].xpos.min() + info[INDEX].xpos.max())/2\n",
    "ymid = (info[INDEX].ypos.min() + info[INDEX].ypos.max())/2\n",
    "fig, ax = plt.subplots(\n",
    "    constrained_layout=True,\n",
    "    figsize=(2*6.4, 2*4.8)\n",
    ")\n",
    "blackwhite_cm = matplotlib.colors.LinearSegmentedColormap.from_list('black_white', ['black', 'white'], N=2)\n",
    "# blackwhite_cm = matplotlib.colors.LinearSegmentedColormap.from_list('black_white', ['blue', 'white', 'red'], N=3)\n",
    "plot = ax.pcolormesh(\n",
    "    info[INDEX].xpos/um,\n",
    "    info[INDEX].ypos/um,\n",
    "    np.sign(info[INDEX].M1[2]),\n",
    "#     cmap='bwr',\n",
    "    cmap=blackwhite_cm,\n",
    "    shading='nearest',\n",
    ");\n",
    "dx = 0.5\n",
    "dy = 0.5\n",
    "# ax.set_xlim(xmid/um - dx, xmid/um + dx)\n",
    "# ax.set_ylim(ymid/um - dy, ymid/um + dy)\n",
    "ax.set_xlabel('x position [um]')\n",
    "ax.set_ylabel('y position [um]')\n",
    "fig.colorbar(mappable=plot, ax=ax, label=\"sign($M_z$) [A.U.]\")\n",
    "ax.set_aspect('equal')\n",
    "ax.set_title(subtitle_prefix + \", {}x{}, t = {:.1f} ps, maxdt = {} ps, nb_id = {}\".format(\n",
    "    info[INDEX].Nx, info[INDEX].Ny, t_elapsed_all/ps, maxdt_all/ps, nb_id), fontsize=10)\n",
    "fig.suptitle(\"$M_z$, f = {:.1f} GHz\".format(freq[INDEX]/GHz));"
   ]
  },
  {
   "cell_type": "code",
   "execution_count": null,
   "id": "bf833c70-85b6-4cdd-b192-a9b826ba2b07",
   "metadata": {},
   "outputs": [],
   "source": [
    "fig.savefig(out_path(filename_prefix + \"_heatmap_bw_M1z_{}.png\".format(INDEX)), bbox_inches='tight', facecolor=\"w\", dpi=300);"
   ]
  },
  {
   "cell_type": "code",
   "execution_count": null,
   "id": "2d5f44aa-6dd0-4a24-bb0c-4e8907338b00",
   "metadata": {},
   "outputs": [],
   "source": [
    "fig.canvas.draw()"
   ]
  },
  {
   "cell_type": "code",
   "execution_count": null,
   "id": "7d85eedd-245e-4ceb-a615-0bc2b306b29a",
   "metadata": {},
   "outputs": [],
   "source": [
    "plt.close(fig); del(fig, ax)"
   ]
  },
  {
   "cell_type": "code",
   "execution_count": null,
   "id": "7b139bca-5601-4ffc-a394-cdd4d01f7ae4",
   "metadata": {},
   "outputs": [],
   "source": [
    "INDEX = 3\n",
    "fig, ax = plt.subplots(\n",
    "    constrained_layout=True,\n",
    "    figsize=(2*6.4, 2*4.8)\n",
    ")\n",
    "norm = matplotlib.colors.TwoSlopeNorm(vmin=-2e-1, vcenter=0, vmax=2e-1)\n",
    "plot = ax.pcolormesh(\n",
    "    info[INDEX].xpos/um,\n",
    "    info[INDEX].ypos/um,\n",
    "    info[INDEX].M1[2]*window,\n",
    "    cmap='bwr',\n",
    "#     vmin=-20,\n",
    "#     vmax=-100,\n",
    "    norm = norm,\n",
    "    shading='nearest',\n",
    "#     norm=matplotlib.colors.LogNorm(),\n",
    ");\n",
    "dx = 2\n",
    "dy = 2\n",
    "# ax.set_xlim(xmid/um - dx, xmid/um + dx)\n",
    "# ax.set_ylim(ymid/um - dy, ymid/um + dy)\n",
    "ax.set_xlabel('x position [um]')\n",
    "ax.set_ylabel('y position [um]')\n",
    "fig.colorbar(mappable=plot, ax=ax, label=\"$M_z$ [A/m]\")\n",
    "ax.set_aspect('equal')\n",
    "ax.set_title(subtitle_prefix + \", {}x{}, t = {:.1f} ps, maxdt = {} ps, nb_id = {}\".format(\n",
    "    info[INDEX].Nx, info[INDEX].Ny, t_elapsed_all/ps, maxdt_all/ps, nb_id), fontsize=10)\n",
    "fig.suptitle(\"$M_z$ with Gaussian window, f = {:.1f} GHz\".format(freq[INDEX]/GHz));"
   ]
  },
  {
   "cell_type": "code",
   "execution_count": null,
   "id": "459dbb0d-93de-44f8-ae55-0969906636de",
   "metadata": {},
   "outputs": [],
   "source": [
    "fig.savefig(out_path(filename_prefix + \"_heatmap_M1z_window_{}.png\".format(INDEX)), bbox_inches='tight', facecolor=\"w\", dpi=300);"
   ]
  },
  {
   "cell_type": "code",
   "execution_count": null,
   "id": "ca7d4999-02ff-40ea-b9bb-a9ac0a72f4cc",
   "metadata": {},
   "outputs": [],
   "source": [
    "fig.canvas.draw()"
   ]
  },
  {
   "cell_type": "code",
   "execution_count": null,
   "id": "f32650c5-47bd-4c06-b5bd-c14c0ec645ef",
   "metadata": {},
   "outputs": [],
   "source": [
    "plt.close(fig); del(fig, ax)"
   ]
  },
  {
   "cell_type": "code",
   "execution_count": null,
   "id": "797f80a7-2bbf-4abd-8080-1e4302bb4b93",
   "metadata": {},
   "outputs": [],
   "source": [
    "fig, ax = plt.subplots(\n",
    "    constrained_layout=True,\n",
    "    figsize=(2*6.4, 2*4.8)\n",
    ")\n",
    "plot = ax.pcolormesh(\n",
    "    x_all/um,\n",
    "    y_all/um,\n",
    "    window,\n",
    "    cmap='magma',\n",
    "    vmin=0.0,\n",
    "#     vmax=-100,\n",
    "    shading='nearest',\n",
    "#     norm=matplotlib.colors.LogNorm(),\n",
    ");\n",
    "dx = 2\n",
    "dy = 2\n",
    "# ax.set_xlim(xmid/um - dx, xmid/um + dx)\n",
    "# ax.set_ylim(ymid/um - dy, ymid/um + dy)\n",
    "ax.set_xlabel('x position [um]')\n",
    "ax.set_ylabel('y position [um]')\n",
    "fig.colorbar(mappable=plot, ax=ax, label=\"Gaussian window [A.U.]\")\n",
    "ax.set_aspect('equal')\n",
    "ax.set_title(subtitle_prefix + \", {}x{}, maxdt = {} ps, nb_id = {}\".format(\n",
    "    Nx_all, Ny_all, maxdt_all/ps, nb_id), fontsize=10)\n",
    "fig.suptitle(\"Gaussian window\");"
   ]
  },
  {
   "cell_type": "code",
   "execution_count": null,
   "id": "8c230fa7-6525-4cb1-9e6e-9ce63b85b422",
   "metadata": {},
   "outputs": [],
   "source": [
    "fig.savefig(out_path(filename_prefix + \"_gaussian_window.png\"), bbox_inches='tight', facecolor=\"w\", dpi=300);"
   ]
  },
  {
   "cell_type": "code",
   "execution_count": null,
   "id": "999d2538-599e-4293-90e7-252c50725640",
   "metadata": {},
   "outputs": [],
   "source": [
    "fig.canvas.draw()"
   ]
  },
  {
   "cell_type": "code",
   "execution_count": null,
   "id": "3235e877-181f-489d-b141-25065fc8c713",
   "metadata": {},
   "outputs": [],
   "source": [
    "plt.close(fig); del(fig, ax)"
   ]
  },
  {
   "cell_type": "code",
   "execution_count": null,
   "id": "4b731209-ac21-4ef6-bcf9-981578a35442",
   "metadata": {},
   "outputs": [],
   "source": []
  },
  {
   "cell_type": "code",
   "execution_count": null,
   "id": "0ea6c201-4439-4e93-b775-78852b702998",
   "metadata": {},
   "outputs": [],
   "source": [
    "# import scipy\n",
    "# to_save = {}\n",
    "# to_save.update(params)\n",
    "# to_save.update({\n",
    "#     'dirpath': dirpath,\n",
    "#     'npy_filename': npy_filename,\n",
    "#     'xpos': xpos,\n",
    "#     'ypos': ypos,\n",
    "#     'Mx': M1[0],\n",
    "#     'My': M1[1],\n",
    "#     'Mz': M1[2],\n",
    "#     'kx': kx,\n",
    "#     'ky': ky,\n",
    "#     'Mz_fft': M1_fftz,\n",
    "#     'outdir': outdir,\n",
    "#     'filename_prefix': filename_prefix,\n",
    "#     'title_prefix': title_prefix,\n",
    "#     'subtitle_prefix': subtitle_prefix,\n",
    "#     'nb_id': nb_id,\n",
    "# })\n",
    "\n",
    "# scipy.io.savemat(\n",
    "#     os.path.join(get_parent_dir(dirpath), get_topdir_base(dirpath) + '_with_fft.mat'),\n",
    "#     to_save,\n",
    "#     long_field_names=True,\n",
    "#     do_compression=True,\n",
    "# )"
   ]
  },
  {
   "cell_type": "code",
   "execution_count": null,
   "id": "5a968e48-088e-40b5-8057-a67db97ae8be",
   "metadata": {},
   "outputs": [],
   "source": []
  },
  {
   "cell_type": "code",
   "execution_count": null,
   "id": "6d0ca090-dd7e-4dfe-98db-a4a6683dd582",
   "metadata": {},
   "outputs": [],
   "source": []
  }
 ],
 "metadata": {
  "kernelspec": {
   "display_name": "Python 3 (ipykernel)",
   "language": "python",
   "name": "python3"
  },
  "language_info": {
   "codemirror_mode": {
    "name": "ipython",
    "version": 3
   },
   "file_extension": ".py",
   "mimetype": "text/x-python",
   "name": "python",
   "nbconvert_exporter": "python",
   "pygments_lexer": "ipython3",
   "version": "3.9.12"
  }
 },
 "nbformat": 4,
 "nbformat_minor": 5
}

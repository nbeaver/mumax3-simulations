{
 "cells": [
  {
   "cell_type": "code",
   "execution_count": null,
   "id": "ec049e7b-8205-4365-8d14-eab18b7938ea",
   "metadata": {},
   "outputs": [],
   "source": [
    "import numpy as np\n",
    "import glob\n",
    "import os\n",
    "import matplotlib.pyplot as plt\n",
    "import scipy.io\n",
    "%matplotlib inline"
   ]
  },
  {
   "cell_type": "code",
   "execution_count": null,
   "id": "22d26fa8-5ea4-4bbf-bd4d-27a8d6b27e33",
   "metadata": {},
   "outputs": [],
   "source": [
    "class MyInfo:\n",
    "    # Give names of class members.\n",
    "    def __repr__(self):\n",
    "        return self.__class__.__name__ + '(' + str(list(self.__dict__.keys())) + ')'\n",
    "    def __str__(self):\n",
    "        return self.__class__.__name__ + '(' + str(list(self.__dict__.keys())) + ')'"
   ]
  },
  {
   "cell_type": "code",
   "execution_count": null,
   "id": "d6cc8522-cd84-46db-a98f-5fcfaf8d6a37",
   "metadata": {},
   "outputs": [],
   "source": [
    "folder = '/scratch/n.beaver/05_copus_isofreq_permalloy/copus_isofreq_permalloy_000.out/'\n",
    "outfile_prefix = \"05_copus_isofreq_permalloy_000\"\n",
    "tstep = 10e-12 # 10 ps timestep"
   ]
  },
  {
   "cell_type": "code",
   "execution_count": null,
   "id": "b18cbea7-132d-4294-b48e-71cc135e0617",
   "metadata": {},
   "outputs": [],
   "source": [
    "example1_raw = np.load(os.path.join(folder, 'm_full000000.npy'))"
   ]
  },
  {
   "cell_type": "code",
   "execution_count": null,
   "id": "8b3d6382-8e54-4bda-9433-87018976c36b",
   "metadata": {},
   "outputs": [],
   "source": [
    "example1_raw.shape"
   ]
  },
  {
   "cell_type": "code",
   "execution_count": null,
   "id": "8204f3dd-b148-4842-9e87-f706b8d0d45a",
   "metadata": {},
   "outputs": [],
   "source": [
    "example1 = example1_raw.squeeze()"
   ]
  },
  {
   "cell_type": "code",
   "execution_count": null,
   "id": "b879011a-df95-4a16-b3c7-50380cb4d2a6",
   "metadata": {},
   "outputs": [],
   "source": [
    "fig, ax = plt.subplots(constrained_layout=True)\n",
    "ax.pcolormesh(example1[2]);"
   ]
  },
  {
   "cell_type": "code",
   "execution_count": null,
   "id": "621abde7-ad0d-41b1-9f55-9962f7d62bbd",
   "metadata": {},
   "outputs": [],
   "source": [
    "fig, ax = plt.subplots(constrained_layout=True)\n",
    "ax.pcolormesh(example1[1]);"
   ]
  },
  {
   "cell_type": "code",
   "execution_count": null,
   "id": "cdd9e37a-e344-483d-8d99-26f1e88cc68c",
   "metadata": {},
   "outputs": [],
   "source": [
    "fig, ax = plt.subplots(constrained_layout=True)\n",
    "ax.pcolormesh(example1[0]);"
   ]
  },
  {
   "cell_type": "code",
   "execution_count": null,
   "id": "79b9657e-e7d1-4dc1-a83c-d5ccfab014b7",
   "metadata": {},
   "outputs": [],
   "source": [
    "del example1, example1_raw"
   ]
  },
  {
   "cell_type": "code",
   "execution_count": null,
   "id": "34522c73-5ddf-422b-985d-a52e9905a226",
   "metadata": {},
   "outputs": [],
   "source": [
    "filenames = ['m_full{:06d}.npy'.format(i) for i in range(0, 8192)]"
   ]
  },
  {
   "cell_type": "code",
   "execution_count": null,
   "id": "2ee76fb3-6c94-46c6-ac2c-40c103876f00",
   "metadata": {},
   "outputs": [],
   "source": [
    "%%time\n",
    "cells_list = MyInfo()\n",
    "cells_list.x = []\n",
    "cells_list.y = []\n",
    "cells_list.z = []\n",
    "for i, filename in enumerate(filenames):\n",
    "    filepath = os.path.join(folder, filename)\n",
    "    dat_raw = np.load(filepath)\n",
    "    dat = np.squeeze(dat_raw)\n",
    "    cells_list.x.append(dat[0])\n",
    "    cells_list.y.append(dat[1])\n",
    "    cells_list.z.append(dat[2])\n",
    "cells = MyInfo()\n",
    "cells.x = np.stack(cells_list.x)\n",
    "cells.y = np.stack(cells_list.y)\n",
    "cells.z = np.stack(cells_list.z)"
   ]
  },
  {
   "cell_type": "code",
   "execution_count": null,
   "id": "6b117273-9314-49b2-9d0b-ed524047ead1",
   "metadata": {},
   "outputs": [],
   "source": [
    "cells.z.shape"
   ]
  },
  {
   "cell_type": "code",
   "execution_count": null,
   "id": "4b546091-b2d7-45d0-b536-c7f649db0eab",
   "metadata": {},
   "outputs": [],
   "source": [
    "%%time\n",
    "nt, nx, ny = cells.z.shape\n",
    "reshape = MyInfo()\n",
    "fft = MyInfo()\n",
    "reshape.x = np.zeros((nx, ny, nt))\n",
    "reshape.y = np.zeros((nx, ny, nt))\n",
    "reshape.z = np.zeros((nx, ny, nt))\n",
    "fft.x = np.zeros((nx, ny, nt), dtype=np.complex128)\n",
    "fft.y = np.zeros((nx, ny, nt), dtype=np.complex128)\n",
    "fft.z = np.zeros((nx, ny, nt), dtype=np.complex128)\n",
    "for i in range(nx):\n",
    "    for j in range(ny):\n",
    "        reshape.x[i][j] = cells.x[:, i, j]\n",
    "        reshape.y[i][j] = cells.y[:, i, j]\n",
    "        reshape.z[i][j] = cells.z[:, i, j]\n",
    "        fft.x[i][j] = np.fft.fft(reshape.x[i][j]/Msat)\n",
    "        fft.y[i][j] = np.fft.fft(reshape.y[i][j]/Msat)\n",
    "        fft.z[i][j] = np.fft.fft(reshape.z[i][j]/Msat)"
   ]
  },
  {
   "cell_type": "code",
   "execution_count": null,
   "id": "6d90b027-83e6-46b5-b66d-431fe0b37cf0",
   "metadata": {},
   "outputs": [],
   "source": [
    "fft.x.shape"
   ]
  },
  {
   "cell_type": "code",
   "execution_count": null,
   "id": "575fb40a-eb45-41a6-b37c-5727ffeccb4c",
   "metadata": {},
   "outputs": [],
   "source": [
    "fft_freq_Hz = np.fft.fftfreq(nt)/tstep"
   ]
  },
  {
   "cell_type": "code",
   "execution_count": null,
   "id": "c74981e6-871a-4651-b6f8-62f300b0db50",
   "metadata": {},
   "outputs": [],
   "source": [
    "tstep"
   ]
  },
  {
   "cell_type": "code",
   "execution_count": null,
   "id": "64b21412-5592-4af4-b172-fba7f96b0f9c",
   "metadata": {},
   "outputs": [],
   "source": [
    "# mat_dict = {\n",
    "#     \"Msat\": Msat,\n",
    "#     \"tstep\": tstep,\n",
    "#     \"folder\": folder,\n",
    "#     'fft_freq_Hz': fft_freq_Hz\n",
    "# }\n",
    "# scipy.io.savemat(\n",
    "#     outfile_prefix + \"_fft.mat\",\n",
    "#     mat_dict,\n",
    "#     long_field_names=True,\n",
    "#     do_compression=True,\n",
    "# )"
   ]
  },
  {
   "cell_type": "code",
   "execution_count": null,
   "id": "f130433b-0370-4022-97df-89dc6de9484c",
   "metadata": {},
   "outputs": [],
   "source": [
    "# %%time\n",
    "# these files are 8 GB each\n",
    "# np.save(outfile_prefix + \"_fftx.npy\", fft.x)\n",
    "# np.save(outfile_prefix + \"_ffty.npy\", fft.y)\n",
    "# np.save(outfile_prefix + \"_fftz.npy\", fft.z)"
   ]
  },
  {
   "cell_type": "code",
   "execution_count": null,
   "id": "da0a4139-7672-41e1-b82d-508a4b040bd7",
   "metadata": {},
   "outputs": [],
   "source": [
    "%%time\n",
    "fft_avg = MyInfo()\n",
    "fft_avg.x = np.abs(fft.x).mean((0,1))\n",
    "fft_avg.y = np.abs(fft.y).mean((0,1))\n",
    "fft_avg.z = np.abs(fft.z).mean((0,1))"
   ]
  },
  {
   "cell_type": "code",
   "execution_count": null,
   "id": "8f106655-0982-46f3-a6aa-16ac818c5064",
   "metadata": {},
   "outputs": [],
   "source": [
    "mat_dict_avg = {\n",
    "    \"fftx_avg\": fft_avg.x,\n",
    "    \"ffty_avg\": fft_avg.y,\n",
    "    \"fftz_avg\": fft_avg.z,\n",
    "    \"Msat\": Msat,\n",
    "    \"tstep\": tstep,\n",
    "    \"folder\": folder,\n",
    "    'fft_freq_Hz': fft_freq_Hz\n",
    "}\n",
    "scipy.io.savemat(\n",
    "    outfile_prefix + \"_fft_avg.mat\",\n",
    "    mat_dict_avg,\n",
    "    long_field_names=True,\n",
    "    do_compression=True,\n",
    ")"
   ]
  },
  {
   "cell_type": "code",
   "execution_count": null,
   "id": "df022428-81f5-4ef3-a5f9-be64fa72f3c9",
   "metadata": {},
   "outputs": [],
   "source": [
    "fft_freq_Hz"
   ]
  },
  {
   "cell_type": "code",
   "execution_count": null,
   "id": "64931786-45b2-477f-be72-141913a54aa2",
   "metadata": {},
   "outputs": [],
   "source": [
    "ns = 1e-9\n",
    "t_ns = np.linspace(0, tstep*nt, nt)/ns\n",
    "f_nyquist = 2/(tstep)"
   ]
  },
  {
   "cell_type": "code",
   "execution_count": null,
   "id": "1d602069-200c-4980-9ba4-7aa62b6e7028",
   "metadata": {},
   "outputs": [],
   "source": [
    "nt*tstep/ns"
   ]
  },
  {
   "cell_type": "code",
   "execution_count": null,
   "id": "c976ceed-6bb7-4b13-856d-4c59fb93b086",
   "metadata": {},
   "outputs": [],
   "source": [
    "fig, ax = plt.subplots(constrained_layout=True, figsize=(16,9))\n",
    "# ax.plot(t_ns, cells.z[:, 0, 0]);\n",
    "# ax.plot(t_ns, cells.z[:, 0, 1], zorder=0);\n",
    "ax.plot(t_ns, cells.z[:, 1, 0], zorder=0);"
   ]
  },
  {
   "cell_type": "code",
   "execution_count": null,
   "id": "72b60d15-a220-49f8-842c-aa4594b53bc1",
   "metadata": {},
   "outputs": [],
   "source": [
    "fig.canvas.draw()"
   ]
  },
  {
   "cell_type": "code",
   "execution_count": null,
   "id": "8a1f5484-f344-4e89-8aa2-c62b08d92c92",
   "metadata": {},
   "outputs": [],
   "source": [
    "plt.close(fig); del fig, ax"
   ]
  },
  {
   "cell_type": "code",
   "execution_count": null,
   "id": "04679c00-4497-4227-acb8-8a6a58d60fee",
   "metadata": {},
   "outputs": [],
   "source": [
    "GHz = 1e9\n",
    "fft_freq_Hz.max()/GHz"
   ]
  },
  {
   "cell_type": "code",
   "execution_count": null,
   "id": "a5dc81ae-c76c-455b-937a-859bb9b01b69",
   "metadata": {},
   "outputs": [],
   "source": [
    "fig, ax = plt.subplots(constrained_layout=True)\n",
    "ax.plot(fft_freq_Hz, fft_avg.z);"
   ]
  },
  {
   "cell_type": "code",
   "execution_count": null,
   "id": "68c85456-606c-42a1-ba2c-89f651977fa6",
   "metadata": {},
   "outputs": [],
   "source": [
    "fig.canvas.draw()"
   ]
  },
  {
   "cell_type": "code",
   "execution_count": null,
   "id": "eba0e692-586d-4dc7-b0cd-8d89e002b75a",
   "metadata": {},
   "outputs": [],
   "source": [
    "plt.close(fig); del fig, ax"
   ]
  },
  {
   "cell_type": "code",
   "execution_count": null,
   "id": "ab47329c-13c3-422a-a3ca-631589f1d386",
   "metadata": {},
   "outputs": [],
   "source": [
    "def closest_index(arr, val):\n",
    "    if val > arr.max():\n",
    "        raise ValueError(\"not in range: {} > {}\".format(val, arr.max()))\n",
    "    elif val < arr.min():\n",
    "        raise ValueError(\"not in range: {} < {}\".format(val, arr.min()))\n",
    "    index = np.argmin(abs(arr - val))  # TODO: use binary search or something else?\n",
    "    return index"
   ]
  },
  {
   "cell_type": "code",
   "execution_count": null,
   "id": "1f37c562-fe07-4dce-a38c-81f152321f5e",
   "metadata": {},
   "outputs": [],
   "source": [
    "5*GHz"
   ]
  },
  {
   "cell_type": "code",
   "execution_count": null,
   "id": "aef8c9bc-752f-4aca-959f-88a88b3285f0",
   "metadata": {},
   "outputs": [],
   "source": [
    "i0 = closest_index(fft_freq_Hz, 0.0)\n",
    "i_max = closest_index(fft_freq_Hz, 5*GHz)\n",
    "fig, ax = plt.subplots(constrained_layout=True, figsize=(16*0.7,9*0.7))\n",
    "ax.plot(fft_freq_Hz[i0:i_max]/GHz, fft_avg.z[i0:i_max]);\n",
    "ax.set_title(folder)\n",
    "ax.set_xlabel('frequency [GHz]')\n",
    "ax.set_ylabel('FFT mag. ($M_z$/$M_s$), log scaling');\n",
    "ax.axvline(1425e6/GHz, color='gray', linestyle='--', zorder=0, label='1425 MHz')\n",
    "ax.axvline(2850e6/GHz, color='black', linestyle=':', zorder=0, label='2850 MHz')\n",
    "ax.set_yscale('log')\n",
    "ax.legend();"
   ]
  },
  {
   "cell_type": "code",
   "execution_count": null,
   "id": "f670d1ea-b068-4c3b-acf3-a62cbfbc5dae",
   "metadata": {},
   "outputs": [],
   "source": [
    "fig.canvas.draw()"
   ]
  },
  {
   "cell_type": "code",
   "execution_count": null,
   "id": "150465c0-8662-4fab-8ac8-40947d72cf1b",
   "metadata": {},
   "outputs": [],
   "source": [
    "fig.savefig(\n",
    "    outfile_prefix + \"_fft_Mz_norm_vs_freq.png\",\n",
    "#     bbox_inches='tight'\n",
    "    dpi=300,\n",
    ");"
   ]
  },
  {
   "cell_type": "code",
   "execution_count": null,
   "id": "6b7a9f75-24ea-4870-b4fb-016a058aaa80",
   "metadata": {},
   "outputs": [],
   "source": [
    "plt.close(fig); del fig, ax"
   ]
  },
  {
   "cell_type": "code",
   "execution_count": null,
   "id": "19f5b13d-b585-4071-8676-c9dd0c501141",
   "metadata": {},
   "outputs": [],
   "source": []
  }
 ],
 "metadata": {
  "kernelspec": {
   "display_name": "Python 3",
   "language": "python",
   "name": "python3"
  },
  "language_info": {
   "codemirror_mode": {
    "name": "ipython",
    "version": 3
   },
   "file_extension": ".py",
   "mimetype": "text/x-python",
   "name": "python",
   "nbconvert_exporter": "python",
   "pygments_lexer": "ipython3",
   "version": "3.8.8"
  }
 },
 "nbformat": 4,
 "nbformat_minor": 5
}

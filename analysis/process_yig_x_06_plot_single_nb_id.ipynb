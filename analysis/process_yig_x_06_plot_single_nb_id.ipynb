{
 "cells": [
  {
   "cell_type": "code",
   "execution_count": null,
   "id": "4133580a-7853-4596-8340-44a202d2b16f",
   "metadata": {},
   "outputs": [],
   "source": [
    "import process_copus\n",
    "import numpy as np\n",
    "import glob\n",
    "import os\n",
    "import matplotlib\n",
    "import matplotlib.pyplot as plt\n",
    "import scipy.io\n",
    "import math\n",
    "import sys\n",
    "%matplotlib inline"
   ]
  },
  {
   "cell_type": "code",
   "execution_count": null,
   "id": "c48d0fdb-c4a9-409e-9c63-f0e121e7d177",
   "metadata": {},
   "outputs": [],
   "source": [
    "matplotlib.__version__"
   ]
  },
  {
   "cell_type": "code",
   "execution_count": null,
   "id": "caede36e-d5c9-4dad-be66-970b0451363b",
   "metadata": {},
   "outputs": [],
   "source": [
    "nb_id = 1738668234\n",
    "import time\n",
    "try:\n",
    "    print(nb_id)\n",
    "except NameError:\n",
    "    print(round(time.time()))"
   ]
  },
  {
   "cell_type": "code",
   "execution_count": null,
   "id": "bc03998d-6cda-4f6e-ae6c-fd5aa5665a14",
   "metadata": {},
   "outputs": [],
   "source": [
    "def out_path(filename):\n",
    "    global outdir\n",
    "    path = os.path.join(outdir, filename)\n",
    "    return path"
   ]
  },
  {
   "cell_type": "code",
   "execution_count": null,
   "id": "485df64a-bbeb-4d88-858c-b59bee5812bc",
   "metadata": {},
   "outputs": [],
   "source": [
    "def get_i_from_path(filepath):\n",
    "    filename = os.path.basename(filepath)\n",
    "    root, ext = os.path.splitext(filename)\n",
    "    last_part = root.split('_')[-1]\n",
    "    index = int(last_part)\n",
    "    return index"
   ]
  },
  {
   "cell_type": "code",
   "execution_count": null,
   "id": "01ce67a4-e2a3-4fc4-94d4-00699ba8b7d0",
   "metadata": {},
   "outputs": [],
   "source": [
    "def remove_prefix(text, prefix):\n",
    "    if text.startswith(prefix):\n",
    "        return text[len(prefix):]\n",
    "    else:\n",
    "        raise ValueError"
   ]
  },
  {
   "cell_type": "code",
   "execution_count": null,
   "id": "5d830157-ba05-47e6-a640-ea8502479a16",
   "metadata": {},
   "outputs": [],
   "source": [
    "def get_i2_from_path(filepath):\n",
    "    filename = os.path.basename(filepath)\n",
    "    root, ext = os.path.splitext(filename)\n",
    "    index_str = remove_prefix(root, 'm_full')\n",
    "    index = int(index_str)\n",
    "    return index"
   ]
  },
  {
   "cell_type": "code",
   "execution_count": null,
   "id": "edb59947-628a-4e69-b59a-99508df4030b",
   "metadata": {},
   "outputs": [],
   "source": [
    "def get_txt_filename(path_raw):\n",
    "    path = os.path.abspath(path_raw)\n",
    "    root, ext = os.path.splitext(path)\n",
    "    txt_filename = root + '.txt'\n",
    "    return txt_filename"
   ]
  },
  {
   "cell_type": "code",
   "execution_count": null,
   "id": "137785d3-af50-4a0f-9514-c89fa19efaaf",
   "metadata": {},
   "outputs": [],
   "source": [
    "def get_outdir(filepath_raw):\n",
    "    filepath = os.path.abspath(filepath_raw)\n",
    "    parts = filepath.split(os.sep)\n",
    "    outdir = os.path.join(*parts[-3:])\n",
    "    return outdir"
   ]
  },
  {
   "cell_type": "code",
   "execution_count": null,
   "id": "079a6374-b716-4216-b2e0-a9e3c9ac52d9",
   "metadata": {},
   "outputs": [],
   "source": [
    "class MyInfo:\n",
    "    # Give names of class members.\n",
    "    def __repr__(self):\n",
    "        return self.__class__.__name__ + '(' + str(list(self.__dict__.keys())) + ')'\n",
    "    def __str__(self):\n",
    "        return self.__class__.__name__ + '(' + str(list(self.__dict__.keys())) + ')'"
   ]
  },
  {
   "cell_type": "code",
   "execution_count": null,
   "id": "cfa47f29-8f80-4a10-b5d2-5f3467ad1017",
   "metadata": {},
   "outputs": [],
   "source": [
    "GHz = 1e9\n",
    "ps = 1e-12\n",
    "nm = 1e-9\n",
    "um = 1e-6"
   ]
  },
  {
   "cell_type": "code",
   "execution_count": null,
   "id": "e338cbe4-13e3-45a1-ba78-b2ef75d6b0b9",
   "metadata": {},
   "outputs": [],
   "source": [
    "dirpath_raw = '../yig_stripline_x_out/06_yig/yig_isofreq_019.out/'\n",
    "dirpath = os.path.abspath(dirpath_raw)\n",
    "parent_dir, root = os.path.split(dirpath)\n",
    "subtitle_prefix = os.path.join(os.path.basename(parent_dir), root)\n",
    "this_i = get_i_from_path(dirpath)\n",
    "outdir = get_outdir(dirpath)"
   ]
  },
  {
   "cell_type": "code",
   "execution_count": null,
   "id": "17e1eee5-8ba7-4b99-b1c1-4dd97ff2aff0",
   "metadata": {},
   "outputs": [],
   "source": [
    "os.listdir(parent_dir)"
   ]
  },
  {
   "cell_type": "code",
   "execution_count": null,
   "id": "c55441af-cdfc-4a59-a28a-f5c5089cf52d",
   "metadata": {},
   "outputs": [],
   "source": [
    "if not os.path.isdir(outdir):\n",
    "    os.makedirs(outdir, exist_ok=True)"
   ]
  },
  {
   "cell_type": "code",
   "execution_count": null,
   "id": "7e58e6e2-33e2-4692-8459-97122911b297",
   "metadata": {},
   "outputs": [],
   "source": [
    "info = MyInfo()\n",
    "info.txt_path = get_txt_filename(dirpath)\n",
    "with open(info.txt_path) as fp:\n",
    "    params = process_copus.parse_logfile(fp.readlines())\n",
    "info.freq = float(params['f'])\n",
    "info.Nx = int(params['Nx'])\n",
    "info.Ny = int(params['Ny'])\n",
    "info.dx = params['c']\n",
    "info.dy = params['c']\n",
    "info.xpos = np.linspace(0, info.Nx, info.Nx)*info.dx\n",
    "info.ypos = np.linspace(0, info.Ny, info.Ny)*info.dy\n",
    "info.tstep = float(params['tstep'])\n",
    "info.maxdt = float(params['maxdt'])\n",
    "info.params = params"
   ]
  },
  {
   "cell_type": "code",
   "execution_count": null,
   "id": "87140c82-e7ab-46c5-ae95-f9bc00630dce",
   "metadata": {},
   "outputs": [],
   "source": [
    "%%time\n",
    "M1 = []\n",
    "index = []\n",
    "filenames = []\n",
    "filename_prefix = []\n",
    "for filepath in glob.glob(os.path.join(dirpath, 'm_full*.npy')):\n",
    "    M1_raw = np.load(filepath)\n",
    "    M1.append(M1_raw.squeeze())\n",
    "    index.append(get_i2_from_path(filepath))\n",
    "    this_filename = os.path.basename(filepath)\n",
    "    filenames.append(this_filename)\n",
    "    this_prefix, this_ext = os.path.splitext(this_filename)\n",
    "    filename_prefix.append(this_prefix)"
   ]
  },
  {
   "cell_type": "code",
   "execution_count": null,
   "id": "00bb98e1-1742-4735-8b30-9792951bfbf1",
   "metadata": {},
   "outputs": [],
   "source": [
    "INDEX = -1 % len(M1) # constrain to be positive\n",
    "print(M1[INDEX][2].min(), M1[INDEX][2].max())\n",
    "THIS_T = INDEX*info.tstep\n",
    "fig, ax = plt.subplots(\n",
    "    constrained_layout=True,\n",
    "    figsize=(2*6.4, 2*4.8)\n",
    ")\n",
    "norm = matplotlib.colors.TwoSlopeNorm(vmin=-2e0, vcenter=0, vmax=2e0)\n",
    "pcm = ax.pcolormesh(\n",
    "    info.xpos/um,\n",
    "    info.ypos/um,\n",
    "    M1[INDEX][2],\n",
    "    cmap='bwr',\n",
    "#     vmin=-20,\n",
    "#     vmax=-100,\n",
    "    norm = norm,\n",
    "    shading='nearest',\n",
    "#     norm=matplotlib.colors.LogNorm(),\n",
    ");\n",
    "xmid = (info.xpos.min() + info.xpos.max())/2\n",
    "ymid = (info.ypos.min() + info.ypos.max())/2\n",
    "dx = 2\n",
    "dy = 2\n",
    "# ax.set_xlim(xmid/um - dx, xmid/um + dx)\n",
    "# ax.set_ylim(ymid/um - dy, ymid/um + dy)\n",
    "ax.set_xlabel('x [um]')\n",
    "ax.set_ylabel('y [um]')\n",
    "fig.colorbar(mappable=pcm, ax=ax, label=\"$M_z$ [A/m]\")\n",
    "ax.set_aspect('equal')\n",
    "ax.set_title(subtitle_prefix + \", t = {:.1f} ps, maxdt = {} ps, nb_id = {}\".format(THIS_T/ps, info.maxdt/ps, nb_id), fontsize=10);\n",
    "fig.suptitle(\"$M_z$, f = {:.1f} GHz\".format(info.freq/GHz));"
   ]
  },
  {
   "cell_type": "code",
   "execution_count": null,
   "id": "d2e9f131-e796-43f8-b226-31492ec982b6",
   "metadata": {},
   "outputs": [],
   "source": [
    "fig.canvas.draw()"
   ]
  },
  {
   "cell_type": "code",
   "execution_count": null,
   "id": "26e61756-b8e0-4294-98c7-8ceb3c4983cd",
   "metadata": {},
   "outputs": [],
   "source": [
    "plt.close(fig); del(fig, ax)"
   ]
  },
  {
   "cell_type": "code",
   "execution_count": null,
   "id": "e6967dba-d1a7-4bb2-a26b-eabf0bdb3dd0",
   "metadata": {},
   "outputs": [],
   "source": [
    "INDEX = -1 % len(M1) # constrain to be positive\n",
    "THIS_T = INDEX*info.tstep\n",
    "fig, ax = plt.subplots(\n",
    "    constrained_layout=True,\n",
    "    figsize=(2*6.4, 2*4.8)\n",
    ")\n",
    "blackwhite_cm = matplotlib.colors.LinearSegmentedColormap.from_list('black_white', ['black', 'white'], N=2)\n",
    "pcm = ax.pcolormesh(\n",
    "    info.xpos/um,\n",
    "    info.ypos/um,\n",
    "    np.sign(M1[INDEX][2]),\n",
    "    cmap=blackwhite_cm,\n",
    "    shading='nearest',\n",
    "#     norm=matplotlib.colors.LogNorm(),\n",
    ");\n",
    "xmid = (info.xpos.min() + info.xpos.max())/2\n",
    "ymid = (info.ypos.min() + info.ypos.max())/2\n",
    "dx = 2\n",
    "dy = 2\n",
    "# ax.set_xlim(xmid/um - dx, xmid/um + dx)\n",
    "# ax.set_ylim(ymid/um - dy, ymid/um + dy)\n",
    "ax.set_xlabel('x [um]')\n",
    "ax.set_ylabel('y [um]')\n",
    "fig.colorbar(mappable=pcm, ax=ax, label=\"$M_z$ [A/m]\")\n",
    "ax.set_aspect('equal')\n",
    "ax.set_title(subtitle_prefix + \", t = {:.1f} ps, maxdt = {} ps, nb_id = {}\".format(THIS_T/ps, info.maxdt/ps, nb_id), fontsize=10);\n",
    "fig.suptitle(\"$M_z$, f = {:.1f} GHz\".format(info.freq/GHz));"
   ]
  },
  {
   "cell_type": "code",
   "execution_count": null,
   "id": "e657b56e-c847-4158-b1c0-48ef57e5444d",
   "metadata": {},
   "outputs": [],
   "source": [
    "fig.canvas.draw()"
   ]
  },
  {
   "cell_type": "code",
   "execution_count": null,
   "id": "9a0ba3ac-af8c-4bb6-9dcd-d3fa04b7d9d3",
   "metadata": {},
   "outputs": [],
   "source": [
    "plt.close(fig); del(fig, ax)"
   ]
  },
  {
   "cell_type": "code",
   "execution_count": null,
   "id": "8f3b99ab-d84f-48af-874f-986848b680e8",
   "metadata": {},
   "outputs": [],
   "source": [
    "info.xpos.shape, info.ypos.shape, M1[0].shape"
   ]
  },
  {
   "cell_type": "code",
   "execution_count": null,
   "id": "1a3baa13-acb9-40a0-9884-8976e62bd210",
   "metadata": {},
   "outputs": [],
   "source": [
    "%%time\n",
    "%%capture\n",
    "# continuous color scale\n",
    "debug = True\n",
    "to_plot = list(enumerate(M1))\n",
    "norm = matplotlib.colors.TwoSlopeNorm(vmin=-2e-1, vcenter=0, vmax=2e-1)\n",
    "for (n, this_M1) in to_plot:\n",
    "    if debug:\n",
    "        print(n)\n",
    "    fig, ax = plt.subplots(\n",
    "        constrained_layout=True,\n",
    "        figsize=(2*6.4, 2*4.8),\n",
    "    )\n",
    "    pcm = ax.pcolormesh(\n",
    "        info.xpos/um,\n",
    "        info.ypos/um,\n",
    "        this_M1[2],\n",
    "        cmap='bwr',\n",
    "        norm = norm,\n",
    "        shading='nearest',\n",
    "    )\n",
    "    ax.set_aspect('equal')\n",
    "    fig.colorbar(mappable=pcm, ax=ax, label=\"$M_z$ [A/m]\", location='right')\n",
    "    this_t = n*info.tstep\n",
    "    ax.set_title(\n",
    "        \"i = {}, t = {:.1f} ps, {}x{}\".format(n, this_t/ps, info.Nx, info.Ny),\n",
    "    )\n",
    "    ax.set_xlabel('x position [um]')\n",
    "    ax.set_ylabel('y position [um]')\n",
    "    fig.suptitle(\"$M_z$, f = {:.1f} GHz\".format(info.freq/GHz));\n",
    "    fig.savefig(\n",
    "        out_path('Mz_heatmap_' + filename_prefix[n] + \".png\"),\n",
    "        bbox_inches='tight',\n",
    "        facecolor=\"w\",\n",
    "        dpi=300,\n",
    "    );\n",
    "    plt.close(fig); del fig, ax"
   ]
  },
  {
   "cell_type": "code",
   "execution_count": null,
   "id": "da03c07e-dea4-47bc-bc86-6a9d86cda46a",
   "metadata": {},
   "outputs": [],
   "source": [
    "%%time\n",
    "%%capture\n",
    "# black and white, sign only\n",
    "debug = True\n",
    "to_plot = list(enumerate(M1))\n",
    "blackwhite_cm = matplotlib.colors.LinearSegmentedColormap.from_list('black_white', ['black', 'white'], N=2)\n",
    "for (n, this_M1) in to_plot:\n",
    "    if debug:\n",
    "        print(n)\n",
    "    fig, ax = plt.subplots(\n",
    "        constrained_layout=True,\n",
    "        figsize=(2*6.4, 2*4.8),\n",
    "    )\n",
    "    pcm = ax.pcolormesh(\n",
    "        info.xpos/um,\n",
    "        info.ypos/um,\n",
    "        np.sign(this_M1[2]),\n",
    "        cmap=blackwhite_cm,\n",
    "        shading='nearest',\n",
    "    )\n",
    "    ax.set_aspect('equal')\n",
    "    fig.colorbar(mappable=pcm, ax=ax, label=\"$M_z$ [A/m]\", location='right')\n",
    "    this_t = n*info.tstep\n",
    "    ax.set_title(\n",
    "        \"i = {}, t = {:.1f} ps, {}x{}\".format(n, this_t/ps, info.Nx, info.Ny),\n",
    "    )\n",
    "    ax.set_xlabel('x position [um]')\n",
    "    ax.set_ylabel('y position [um]')\n",
    "    fig.suptitle(\"$M_z$, f = {:.1f} GHz\".format(info.freq/GHz));\n",
    "    fig.savefig(\n",
    "        out_path('Mz_bw_heatmap_' + filename_prefix[n] + \".png\"),\n",
    "        bbox_inches='tight',\n",
    "        facecolor=\"w\",\n",
    "        dpi=300,\n",
    "    );\n",
    "    plt.close(fig); del fig, ax"
   ]
  },
  {
   "cell_type": "code",
   "execution_count": null,
   "id": "559dcefe-f23a-4f09-9839-5bf7f8a625bf",
   "metadata": {},
   "outputs": [],
   "source": [
    "%%time\n",
    "n_cols = 4\n",
    "to_plot = list(enumerate(M1))\n",
    "n_rows = math.ceil(len(to_plot)/n_cols)\n",
    "if n_rows > 30:\n",
    "    print(\"too many rows: {} > 30\".format(n_rows))\n",
    "    sys.exit(1)\n",
    "norm = matplotlib.colors.TwoSlopeNorm(vmin=-2e-0, vcenter=0, vmax=2e-0)\n",
    "fig, axs = plt.subplots(nrows=n_rows, ncols=n_cols, constrained_layout=True, figsize=(10*0.3*n_cols, 9*0.3*n_rows), dpi=200)\n",
    "plotted = {}\n",
    "for (n, this_M1) in to_plot:\n",
    "    i, j = divmod(n, n_cols)\n",
    "    print(n, i, j)\n",
    "    this_t = n*info.tstep\n",
    "    if n_rows == 1:\n",
    "        raise NotImplementedError\n",
    "    else:\n",
    "        pcm = axs[i][j].pcolormesh(\n",
    "            info.xpos,\n",
    "            info.ypos,\n",
    "            this_M1[2],\n",
    "            cmap='bwr',\n",
    "            norm = norm,\n",
    "            shading='nearest',\n",
    "        )\n",
    "        axs[i][j].set_title(\n",
    "            \"i = {}, t = {:.1f} ps\".format(n, this_t/ps),\n",
    "        )\n",
    "        axs[i][j].set_aspect('equal')\n",
    "        axs[i][j].axis('off')\n",
    "        plotted[(i, j)] = True\n",
    "if n_rows == 1:\n",
    "    cbar = fig.colorbar(mappable=pcm, ax=axs[:], location='right',\n",
    "                 # shrink=0.5,\n",
    "                )\n",
    "else:\n",
    "    cbar = fig.colorbar(mappable=pcm, ax=axs[:, :], location='right',\n",
    "                 # shrink=0.5,\n",
    "                )\n",
    "ticklabels = cbar.ax.get_yticklabels()\n",
    "cbar.ax.set_yticklabels(ticklabels, fontsize=14)\n",
    "for i in range(n_rows):\n",
    "    for j in range(n_cols):\n",
    "        if (i, j) not in plotted:\n",
    "            if n_rows == 1:\n",
    "                raise NotImplementedError\n",
    "            else:\n",
    "                axs[i][j].remove()\n",
    "# fig.supxlabel(\"x [um]\", fontsize=14)\n",
    "# fig.supylabel(\"y [um]\", fontsize=14);\n",
    "fig.suptitle(\"$M_z$, f = {:.1f} GHz\".format(info.freq/GHz), fontsize=14);"
   ]
  },
  {
   "cell_type": "code",
   "execution_count": null,
   "id": "e5c6a242-d2af-458c-8960-cb2d72a48525",
   "metadata": {},
   "outputs": [],
   "source": [
    "# fig.canvas.draw()"
   ]
  },
  {
   "cell_type": "code",
   "execution_count": null,
   "id": "bd4a6650-78b9-4811-b5f4-2dcf1861ffc6",
   "metadata": {},
   "outputs": [],
   "source": [
    "%%time\n",
    "fig.savefig(\n",
    "    out_path(\"grid_all_Mz_heatmap.png\"),\n",
    "    bbox_inches='tight',\n",
    "    facecolor=\"w\",\n",
    "    dpi=300,\n",
    ");"
   ]
  },
  {
   "cell_type": "code",
   "execution_count": null,
   "id": "c99a3c82-8835-4861-9e8c-f80e838eb5c4",
   "metadata": {},
   "outputs": [],
   "source": [
    "plt.close(fig); del(fig, axs)"
   ]
  },
  {
   "cell_type": "code",
   "execution_count": null,
   "id": "8ec2741f-5987-4f4e-b9c5-2f1103ed2235",
   "metadata": {},
   "outputs": [],
   "source": []
  },
  {
   "cell_type": "code",
   "execution_count": null,
   "id": "c8e7fa86-5d87-479d-84fd-94e2e97ac565",
   "metadata": {},
   "outputs": [],
   "source": [
    "%%time\n",
    "n_cols = 4\n",
    "to_plot = list(enumerate(M1))\n",
    "n_rows = math.ceil(len(to_plot)/n_cols)\n",
    "if n_rows > 30:\n",
    "    print(\"too many rows: {} > 30\".format(n_rows))\n",
    "    sys.exit(1)\n",
    "blackwhite_cm = matplotlib.colors.LinearSegmentedColormap.from_list('black_white', ['black', 'white'], N=2)\n",
    "fig, axs = plt.subplots(nrows=n_rows, ncols=n_cols, constrained_layout=True, figsize=(10*0.3*n_cols, 9*0.3*n_rows), dpi=200)\n",
    "plotted = {}\n",
    "for (n, this_M1) in to_plot:\n",
    "    i, j = divmod(n, n_cols)\n",
    "    print(n, i, j)\n",
    "    this_t = n*info.tstep\n",
    "    if n_rows == 1:\n",
    "        raise NotImplementedError\n",
    "    else:\n",
    "        pcm = axs[i][j].pcolormesh(\n",
    "            info.xpos,\n",
    "            info.ypos,\n",
    "            np.sign(this_M1[2]),\n",
    "            cmap=blackwhite_cm,\n",
    "            shading='nearest',\n",
    "        )\n",
    "        axs[i][j].set_title(\n",
    "            \"i = {}, t = {:.1f} ps\".format(n, this_t/ps),\n",
    "        )\n",
    "        axs[i][j].set_aspect('equal')\n",
    "        axs[i][j].axis('off')\n",
    "        plotted[(i, j)] = True\n",
    "if n_rows == 1:\n",
    "    cbar = fig.colorbar(mappable=pcm, ax=axs[:], location='right',\n",
    "                 # shrink=0.5,\n",
    "                )\n",
    "else:\n",
    "    cbar = fig.colorbar(mappable=pcm, ax=axs[:, :], location='right',\n",
    "                 # shrink=0.5,\n",
    "                )\n",
    "ticklabels = cbar.ax.get_yticklabels()\n",
    "cbar.ax.set_yticklabels(ticklabels, fontsize=14)\n",
    "for i in range(n_rows):\n",
    "    for j in range(n_cols):\n",
    "        if (i, j) not in plotted:\n",
    "            if n_rows == 1:\n",
    "                raise NotImplementedError\n",
    "            else:\n",
    "                axs[i][j].remove()\n",
    "# fig.supxlabel(\"x [um]\", fontsize=14)\n",
    "# fig.supylabel(\"y [um]\", fontsize=14);\n",
    "fig.suptitle(\"$M_z$, f = {:.1f} GHz\".format(info.freq/GHz), fontsize=14);"
   ]
  },
  {
   "cell_type": "code",
   "execution_count": null,
   "id": "6a87c955-c857-4693-ae1e-1c64b001a844",
   "metadata": {},
   "outputs": [],
   "source": [
    "# fig.canvas.draw()"
   ]
  },
  {
   "cell_type": "code",
   "execution_count": null,
   "id": "4c9cdaf8-4b4c-4e4e-a5be-b8347f32116c",
   "metadata": {},
   "outputs": [],
   "source": [
    "%%time\n",
    "fig.savefig(\n",
    "    out_path(\"grid_all_Mz_heatmap_bw.png\"),\n",
    "    bbox_inches='tight',\n",
    "    facecolor=\"w\",\n",
    "    dpi=300,\n",
    ");"
   ]
  },
  {
   "cell_type": "code",
   "execution_count": null,
   "id": "c91a6663-5a91-4978-8a69-5cda480fa021",
   "metadata": {},
   "outputs": [],
   "source": [
    "plt.close(fig); del(fig, axs)"
   ]
  }
 ],
 "metadata": {
  "kernelspec": {
   "display_name": "Python 3 (ipykernel)",
   "language": "python",
   "name": "python3"
  },
  "language_info": {
   "codemirror_mode": {
    "name": "ipython",
    "version": 3
   },
   "file_extension": ".py",
   "mimetype": "text/x-python",
   "name": "python",
   "nbconvert_exporter": "python",
   "pygments_lexer": "ipython3",
   "version": "3.9.12"
  }
 },
 "nbformat": 4,
 "nbformat_minor": 5
}
